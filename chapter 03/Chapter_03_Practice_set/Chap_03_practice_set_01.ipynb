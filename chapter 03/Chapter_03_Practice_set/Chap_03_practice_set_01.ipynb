{
 "cells": [
  {
   "cell_type": "raw",
   "metadata": {
    "id": "8rksu2_jMVjQ"
   },
   "source": [
    "1) A company decided to give bonus of 5% to employee if his/her year of service is more than 5 years.\n",
    "Ask user for their salary and year of service and print the net bonus amount."
   ]
  },
  {
   "cell_type": "code",
   "execution_count": 5,
   "metadata": {
    "id": "_GRPHPiLMVjX"
   },
   "outputs": [
    {
     "name": "stdout",
     "output_type": "stream",
     "text": [
      "How Many Years have you Working in this Company: 10\n",
      "Enter your Salary Amount: 400000\n",
      "\n",
      "\n",
      "    Congratulations!\n",
      "  ___________________________________________________________\n",
      "  \n",
      "  You got a Bonus Amount of Rs. 20000.0\n",
      "  \n",
      "  Thank You for Working in this Company!\n",
      "  ____________________________________________________________\n",
      "  \n"
     ]
    }
   ],
   "source": [
    "#Type your code here\n",
    "service_years = int(input(\"How Many Years have you Working in this Company: \"))\n",
    "salary = int(input(\"Enter your Salary Amount: \"))\n",
    "bonus_amount = None\n",
    "if service_years >= 5:\n",
    "    bonus_amount = salary * 0.05\n",
    "    print(f\"\"\"\n",
    "\n",
    "    Congratulations!\n",
    "  ___________________________________________________________\n",
    "  \n",
    "  You got a Bonus Amount of Rs. {bonus_amount}\n",
    "  \n",
    "  Thank You for Working in this Company!\n",
    "  ____________________________________________________________\n",
    "  \"\"\")\n",
    "else:\n",
    "    print(\"Sorry! You are Not Eligible for Bonus Amount\")"
   ]
  },
  {
   "cell_type": "markdown",
   "metadata": {
    "id": "iXt5RVcjMVja"
   },
   "source": [
    "\n",
    "2) Write a program to check whether a person is eligible for voting or not. (accept age from user)"
   ]
  },
  {
   "cell_type": "code",
   "execution_count": 5,
   "metadata": {
    "id": "jXVCvia3MVjh"
   },
   "outputs": [
    {
     "name": "stdout",
     "output_type": "stream",
     "text": [
      "Enter your Age: 22\n",
      "Congratulations! You are Eligible for Voting.\n"
     ]
    }
   ],
   "source": [
    "#Type your code here\n",
    "age = int(input(\"Enter your Age: \"))\n",
    "if age >= 18:\n",
    "    print(\"Congratulations! You are Eligible for Voting.\")\n",
    "else:\n",
    "    print(\"Sorry! You are Not Eligible for Voting.\")"
   ]
  },
  {
   "cell_type": "markdown",
   "metadata": {
    "id": "IkNM7QpCMVjj"
   },
   "source": [
    "\n",
    "3) Write a program to check whether a number entered by user is even or odd."
   ]
  },
  {
   "cell_type": "code",
   "execution_count": 9,
   "metadata": {
    "id": "-GxviwByMVjl"
   },
   "outputs": [
    {
     "name": "stdout",
     "output_type": "stream",
     "text": [
      "Enter a Number to check Number is Even or Odd: 567\n",
      "567 is Odd.\n"
     ]
    }
   ],
   "source": [
    "#Type your code here\n",
    "number = int(input(\"Enter a Number to check Number is Even or Odd: \"))\n",
    "if number % 2 == 0:\n",
    "    print(f\"{number} is Even.\")\n",
    "else:\n",
    "    print(f\"{number} is Odd.\")"
   ]
  },
  {
   "cell_type": "markdown",
   "metadata": {
    "id": "_jEHjkfdMVjm"
   },
   "source": [
    "4) Write a program to check whether a number is divisible by 7 or not.\n",
    "Show Answer"
   ]
  },
  {
   "cell_type": "code",
   "execution_count": 12,
   "metadata": {
    "id": "IRNXyG1GMVjo"
   },
   "outputs": [
    {
     "name": "stdout",
     "output_type": "stream",
     "text": [
      "Enter a Number to check is it divisible by 7 or not: 70\n",
      "70 is Divisible by 7.\n"
     ]
    }
   ],
   "source": [
    "#Type your code here\n",
    "num = int(input(\"Enter a Number to check is it divisible by 7 or not: \"))\n",
    "if num % 7 == 0:\n",
    "    print(f\"{num} is Divisible by 7.\")\n",
    "else:\n",
    "    print(f\"{num} is Not Divisible by 7.\")"
   ]
  },
  {
   "cell_type": "markdown",
   "metadata": {
    "id": "XxfyVe4kMVjp"
   },
   "source": [
    "5) Write a program to display \n",
    "\"Hello\" if a number entered by user is a multiple of five , otherwise print \"Bye\"."
   ]
  },
  {
   "cell_type": "code",
   "execution_count": 15,
   "metadata": {
    "id": "Ixnz4R4TMVjr"
   },
   "outputs": [
    {
     "name": "stdout",
     "output_type": "stream",
     "text": [
      "Enter a Number: 100\n",
      "Hello!\n"
     ]
    }
   ],
   "source": [
    "#Type your code here\n",
    "numb = int(input(\"Enter a Number: \"))\n",
    "if numb % 5 == 0:\n",
    "    print(\"Hello!\")\n",
    "else:\n",
    "    print(\"Bye!\")"
   ]
  },
  {
   "cell_type": "markdown",
   "metadata": {
    "id": "qfzRUUwOMVjs"
   },
   "source": [
    "6) Write a program to calculate the electricity bill (accept number of unit from user) according to the following criteria :\n",
    "     Unit                                                     Price  \n",
    "uptp 100 units                                             no charge\n",
    "Next 200 units                                              Rs 5 per unit\n",
    "After 200 units                                             Rs 10 per unit\n",
    "(For example if input unit is 350 than total bill amount is Rs.1500\n",
    "(For example if input unit is 97 than total bill amount is Rs.0\n",
    "(For example if input unit is 150 than total bill amount is Rs.250"
   ]
  },
  {
   "cell_type": "code",
   "execution_count": 9,
   "metadata": {
    "id": "1BY1oAIpMVju"
   },
   "outputs": [
    {
     "name": "stdin",
     "output_type": "stream",
     "text": [
      "Enter Number of Units of Your Electricity Bills:  150\n"
     ]
    },
    {
     "name": "stdout",
     "output_type": "stream",
     "text": [
      "Total Bill Amount is Rs.250\n"
     ]
    }
   ],
   "source": [
    "#Type your code here\n",
    "units = int(input(\"Enter Number of Units of Your Electricity Bills: \"))\n",
    "charges = None\n",
    "if units <=100:\n",
    "    charges = 0\n",
    "    print(f\"Total Bill Amount is Rs.{charges}\")\n",
    "elif units > 100 and units<= 200:\n",
    "    cut_units = units - 100\n",
    "    charges = cut_units * 5\n",
    "    print(f\"Total Bill Amount is Rs.{charges}\")\n",
    "elif units > 200:\n",
    "    cut_units = units - 200\n",
    "    charges = cut_units * 10\n",
    "    print(f\"Total Bill Amount is Rs.{charges}\")\n",
    "else:\n",
    "    print(\"Enter Correct Units\")"
   ]
  },
  {
   "cell_type": "markdown",
   "metadata": {
    "id": "msAIDMRDMVjv"
   },
   "source": [
    "7) Write a program to display the last digit of a number."
   ]
  },
  {
   "cell_type": "code",
   "execution_count": 1,
   "metadata": {
    "id": "VQwLuGzbMVjv"
   },
   "outputs": [
    {
     "name": "stdout",
     "output_type": "stream",
     "text": [
      "Enter a Number to Find its Last Digit: 14556\n",
      "14556 has 6 its Last Digit\n"
     ]
    }
   ],
   "source": [
    "#Type your code here\n",
    "number = int(input(\"Enter a Number to Find its Last Digit: \"))\n",
    "last_digit = number % 10\n",
    "print(f\"{number} has {last_digit} its Last Digit\")"
   ]
  },
  {
   "cell_type": "markdown",
   "metadata": {
    "id": "UeLHzVZ_MVjw"
   },
   "source": [
    "8) Write a program to check whether the last digit of a number(entered by user ) is \n",
    "divisible by 3 or not."
   ]
  },
  {
   "cell_type": "code",
   "execution_count": 4,
   "metadata": {
    "id": "KiQ5wnc6MVjx"
   },
   "outputs": [
    {
     "name": "stdout",
     "output_type": "stream",
     "text": [
      "Enter a Number: 6565435456\n",
      "The last digit 6 of a Number 6565435456 is Divisible by 3.\n"
     ]
    }
   ],
   "source": [
    "#Type your code here\n",
    "numb = int(input(\"Enter a Number: \"))\n",
    "last_digit = numb % 10\n",
    "if last_digit % 3 == 0:\n",
    "    print(f\"The last digit {last_digit} of a Number {numb} is Divisible by 3.\")\n",
    "else:\n",
    "    print(f\"The last digit {last_digit} of a Number {numb} is Not Divisible by 3.\")"
   ]
  },
  {
   "cell_type": "markdown",
   "metadata": {
    "id": "CR4sMmRgMVjy"
   },
   "source": [
    "9) Take values of length and breadth of a rectangle from user and check if it is square or not."
   ]
  },
  {
   "cell_type": "code",
   "execution_count": 6,
   "metadata": {
    "id": "Oj1MT5fCMVjy"
   },
   "outputs": [
    {
     "name": "stdout",
     "output_type": "stream",
     "text": [
      "Enter the Length of a Rectangle: 47\n",
      "Enter the Breadth of a Rectangle: 47\n",
      "Yes! It is a square ⬜\n"
     ]
    }
   ],
   "source": [
    "#Type your code here\n",
    "length = int(input(\"Enter the Length of a Rectangle: \"))\n",
    "breadth = int(input(\"Enter the Breadth of a Rectangle: \"))\n",
    "if length == breadth:\n",
    "    print(\"Yes! It is a square ⬜\")\n",
    "else:\n",
    "    print(\"No! It is Not a Square ⬜\")\n",
    " "
   ]
  },
  {
   "cell_type": "markdown",
   "metadata": {
    "id": "B2e5VYbiMVjz"
   },
   "source": [
    "10) Take two int values from user and print greatest among them."
   ]
  },
  {
   "cell_type": "code",
   "execution_count": 8,
   "metadata": {
    "id": "LyYYL78HMVj0"
   },
   "outputs": [
    {
     "name": "stdout",
     "output_type": "stream",
     "text": [
      "Enter First Number: 45\n",
      "Enter Second Number: 47\n",
      "47 is Greatest\n"
     ]
    }
   ],
   "source": [
    "# Type your code here\n",
    "first_numb = int(input(\"Enter First Number: \"))\n",
    "second_numb = int(input(\"Enter Second Number: \"))\n",
    "if first_numb > second_numb:\n",
    "    print(f\"{first_numb} is Greatest\")\n",
    "elif second_numb > first_numb:\n",
    "    print(f\"{second_numb} is Greatest\")\n",
    "else:\n",
    "    print(f\"{first_numb} is Equal to the {second_numb}\")"
   ]
  },
  {
   "cell_type": "markdown",
   "metadata": {
    "id": "R9gMEjdQMVj1"
   },
   "source": [
    "11) A shop will give discount of 10% if the cost of purchased quantity is more than 1000.\n",
    "Ask user for quantity\n",
    "Suppose, one unit will cost 100.\n",
    "Judge and print total cost for user."
   ]
  },
  {
   "cell_type": "code",
   "execution_count": 19,
   "metadata": {
    "id": "hjvEnOzxMVj2"
   },
   "outputs": [
    {
     "name": "stdout",
     "output_type": "stream",
     "text": [
      "Enter the Cost of Purchased Quantity for Discount: 2000\n",
      "\n",
      "      ABC Super Mart\n",
      "   ___________________________\n",
      "    \n",
      "    Discount   (Rs.) : 200.0\n",
      "    Total Cost (Rs.) : 1800.0\n",
      "   ___________________________\n",
      "\n"
     ]
    }
   ],
   "source": [
    "#Type your code here\n",
    "purchase_quantity = int(input(\"Enter the Cost of Purchased Quantity for Discount: \"))\n",
    "discount = None\n",
    "total_cost = None\n",
    "if purchase_quantity > 1000:\n",
    "    discount = purchase_quantity * 0.1\n",
    "    total_cost = purchase_quantity - discount\n",
    "else:\n",
    "    discount = 0\n",
    "    total_cost = purchase_quantity\n",
    "print(f\"\"\"\n",
    "      ABC Super Mart\n",
    "   ___________________________\n",
    "    \n",
    "    Discount   (Rs.) : {discount}\n",
    "    Total Cost (Rs.) : {total_cost}\n",
    "   ___________________________\n",
    "\"\"\")"
   ]
  },
  {
   "cell_type": "markdown",
   "metadata": {
    "id": "yqYL7FZeMVj3"
   },
   "source": [
    "12) A school has following rules for grading system:\n",
    "\n",
    "a. Below 25 - F\n",
    "\n",
    "b. 25 to 45 - E\n",
    "\n",
    "c. 45 to 50 - D\n",
    "\n",
    "d. 50 to 60 - C\n",
    "\n",
    "e. 60 to 80 - B\n",
    "\n",
    "f. Above 80 - A\n",
    "\n",
    "Ask user to enter marks and print the corresponding grade."
   ]
  },
  {
   "cell_type": "code",
   "execution_count": 30,
   "metadata": {
    "id": "he_r-bpOMVj4"
   },
   "outputs": [
    {
     "name": "stdout",
     "output_type": "stream",
     "text": [
      "Enter Your Marks: 84\n",
      "\n",
      "  ABC English Grmmar School\n",
      "  ____________________________\n",
      "  \n",
      "  Total Marks   : 100\n",
      "  Obtain Marks  : 84\n",
      "  Grade         : A\n",
      "\n"
     ]
    }
   ],
   "source": [
    "#Type your code here\n",
    "marks = int(input(\"Enter Your Marks: \"))\n",
    "grade = None\n",
    "total_marks = 100\n",
    "if marks > 80:\n",
    "    grade = \"A\"\n",
    "elif marks >= 60 and marks <= 80:\n",
    "    grade = \"B\"\n",
    "elif marks >= 50 and marks <= 60:\n",
    "    grade = \"C\"\n",
    "elif marks >= 45 and marks <= 50:\n",
    "    grade = \"D\"\n",
    "elif marks >= 25 and marks <= 45:\n",
    "    grade = \"E\"\n",
    "else:\n",
    "    grade = \"F\"\n",
    "print(f\"\"\"\n",
    "  ABC English Grmmar School\n",
    "  ____________________________\n",
    "  \n",
    "  Total Marks   : {total_marks}\n",
    "  Obtain Marks  : {marks}\n",
    "  Grade         : {grade}\n",
    "\"\"\")"
   ]
  },
  {
   "cell_type": "markdown",
   "metadata": {
    "id": "IUJjt9NbMVj4"
   },
   "source": [
    "13) Take input of age of 3 people by user and determine oldest and youngest among them."
   ]
  },
  {
   "cell_type": "code",
   "execution_count": 34,
   "metadata": {
    "id": "vlre5Ck0MVj4"
   },
   "outputs": [
    {
     "name": "stdout",
     "output_type": "stream",
     "text": [
      "Enter First Person Age: 52\n",
      "Enter Second Person Age: 45\n",
      "Enter Third Person Age: 24\n",
      "First Person is Oldest Among them.\n",
      "Third Person is Youngest Among them.\n"
     ]
    }
   ],
   "source": [
    "#Type your code here\n",
    "first_age = int(input(\"Enter First Person Age: \"))\n",
    "second_age = int(input(\"Enter Second Person Age: \"))\n",
    "third_age = int(input(\"Enter Third Person Age: \"))\n",
    "if first_age > second_age and first_age > third_age:\n",
    "    print(\"First Person is Oldest Among them.\")\n",
    "elif first_age < second_age and first_age < third_age:\n",
    "    print(\"First Person is Youngest Among them.\")\n",
    "elif second_age > first_age and second_age > third_age:\n",
    "    print(\"Second Person is Oldest Among them.\")\n",
    "elif second_age < first_age and first_age < third_age:\n",
    "    print(\"Second Person is Youngest Among them.\")\n",
    "elif third_age > first_age and third_age > second_age:\n",
    "    print(\"Third Person is Oldest Among them.\")\n",
    "elif third_age < first_age and third_age < second_age:\n",
    "    print(\"Third Person is Youngest Among them.\")\n",
    "else:\n",
    "    print(\"All of them has the Same Age. There is no Youngest and Oldest Among Them.\")"
   ]
  },
  {
   "cell_type": "markdown",
   "metadata": {
    "id": "Zc9ovDhsMVj5"
   },
   "source": [
    "14) A student will not be allowed to sit in exam if his/her attendence is less than 75%.\n",
    "\n",
    "Take following input from user\n",
    "\n",
    "Number of classes held\n",
    "\n",
    "Number of classes attended.\n",
    "\n",
    "And print\n",
    "\n",
    "percentage of class attended\n",
    "\n",
    "Is student is allowed to sit in exam or not.\n"
   ]
  },
  {
   "cell_type": "code",
   "execution_count": 42,
   "metadata": {
    "id": "rseYum2_MVj6"
   },
   "outputs": [
    {
     "name": "stdout",
     "output_type": "stream",
     "text": [
      "Enter Total Number of Classes Held: 48\n",
      "Enter Number of Classes Attended: 41\n",
      "\n",
      "    ABC University of Eng. & Technology     \n",
      "    ________________________________________\n",
      "    \n",
      "    Attendence = 85.41666666666666%\n",
      "    Congrats! You are Allowed to Sit in Exam\n",
      "    ________________________________________\n",
      "    \n"
     ]
    }
   ],
   "source": [
    "#Type your code here\n",
    "total_classes = int(input(\"Enter Total Number of Classes Held: \"))\n",
    "attend_classes = int(input(\"Enter Number of Classes Attended: \"))\n",
    "attendence = (attend_classes / total_classes) * 100\n",
    "if attendence >= 75:\n",
    "    print(f\"\"\"\n",
    "    ABC University of Eng. & Technology     \n",
    "    ________________________________________\n",
    "    \n",
    "    Attendence = {attendence}%\n",
    "    Congrats! You are Allowed to Sit in Exam\n",
    "    ________________________________________\n",
    "    \"\"\")\n",
    "else:\n",
    "        print(f\"\"\"\n",
    "    ABC University of Eng. & Technology     \n",
    "    ___________________________________________\n",
    "    \n",
    "    Attendence = {attendence}%\n",
    "    Sorry! You are Not Allowed to Sit in Exams\n",
    "    Better Luck Next Time!\n",
    "    ___________________________________________\n",
    "    \"\"\")"
   ]
  },
  {
   "cell_type": "markdown",
   "metadata": {
    "id": "58UPPHAOMVj6"
   },
   "source": [
    "15) Modify the above question to allow student to sit if he/she has medical cause. Ask user if he/she has medical cause or not ( 'Y' or 'N' ) and print accordingly."
   ]
  },
  {
   "cell_type": "code",
   "execution_count": 1,
   "metadata": {
    "id": "lDi-xLzTMVj7"
   },
   "outputs": [
    {
     "name": "stdout",
     "output_type": "stream",
     "text": [
      "Enter Total Number of Classes Held: 48\n",
      "Enter Number of Classes Attended: 29\n",
      "Tell us if he/she has a Medical cause Y/N: y\n",
      "\n",
      "    ABC University of Eng. & Technology     \n",
      "    ________________________________________\n",
      "    \n",
      "    Attendence = 60.416666666666664%\n",
      "    Congrats! You are Allowed to Sit in Exam\n",
      "    ________________________________________\n",
      "    \n"
     ]
    }
   ],
   "source": [
    "#Type your code here\n",
    "total_classes = int(input(\"Enter Total Number of Classes Held: \"))\n",
    "attend_classes = int(input(\"Enter Number of Classes Attended: \"))\n",
    "medical_cause = input(\"Tell us if he/she has a Medical cause Y/N: \").lower()\n",
    "attendence = (attend_classes / total_classes) * 100\n",
    "if attendence >= 75 or medical_cause == 'y':\n",
    "    print(f\"\"\"\n",
    "    ABC University of Eng. & Technology     \n",
    "    ________________________________________\n",
    "    \n",
    "    Attendence = {attendence}%\n",
    "    Congrats! You are Allowed to Sit in Exam\n",
    "    ________________________________________\n",
    "    \"\"\")\n",
    "else:\n",
    "        print(f\"\"\"\n",
    "    ABC University of Eng. & Technology     \n",
    "    ___________________________________________\n",
    "    \n",
    "    Attendence = {attendence}%\n",
    "    Sorry! You are Not Allowed to Sit in Exams\n",
    "    Better Luck Next Time!\n",
    "    ___________________________________________\n",
    "    \"\"\")"
   ]
  },
  {
   "cell_type": "markdown",
   "metadata": {
    "id": "kJtSy1EoMVj7"
   },
   "source": [
    "16) Write a program to check if a year is leap year or not.\n",
    "\n",
    "If a year is divisible by 4 then it is leap year but if the year is century year like 2000, 1900, 2100 then it must be divisible by 400."
   ]
  },
  {
   "cell_type": "code",
   "execution_count": 12,
   "metadata": {
    "id": "QUL_YUX3MVj7"
   },
   "outputs": [
    {
     "name": "stdout",
     "output_type": "stream",
     "text": [
      "Enter the year: 2023\n",
      "2023 is not a leap year\n"
     ]
    }
   ],
   "source": [
    "year=int(input(\"Enter the year: \"))\n",
    "if (year%100==0):\n",
    "    if (year%400==0):\n",
    "          print(f\"{year} is leap year\")\n",
    "    else:\n",
    "          print(f\"{year} is not a leap year\")\n",
    "else:\n",
    "    if (year%4==0):\n",
    "         print(f\"{year} is leap year\")  \n",
    "    else:\n",
    "        print(f\"{year} is not a leap year\")"
   ]
  },
  {
   "cell_type": "markdown",
   "metadata": {
    "id": "CCNg4yDDMVj8"
   },
   "source": [
    "17) Ask user to enter age, gender ( M or F ), marital status ( Y or N ) and then using following rules print their place of service.\n",
    "\n",
    "if employee is female, then she will work only in urban areas.\n",
    "\n",
    "if employee is a male and age is in between 20 to 40 then he may work in anywhere\n",
    "\n",
    "if employee is male and age is in between 40 t0 60 then he will work in Rural areas only.\n",
    "\n",
    "And any other input of age should print \"ERROR\""
   ]
  },
  {
   "cell_type": "code",
   "execution_count": 2,
   "metadata": {
    "id": "RDWMB0CZMVj8"
   },
   "outputs": [
    {
     "name": "stdin",
     "output_type": "stream",
     "text": [
      "Enter Employee Name:  Martin\n",
      "Enter Your age:  49\n",
      "Enter Your Gender M/F:  M\n",
      "Enter Your Marital Status Y/N:  Y\n"
     ]
    },
    {
     "name": "stdout",
     "output_type": "stream",
     "text": [
      "You Will Work in Rural Areas Only.\n"
     ]
    }
   ],
   "source": [
    "#Type your code here\n",
    "name = input(\"Enter Employee Name: \")\n",
    "age = int(input(\"Enter Your age: \"))\n",
    "gender = (input(\"Enter Your Gender M/F: \")).lower()\n",
    "marital_status = input(\"Enter Your Marital Status Y/N: \").lower()\n",
    "\n",
    "if gender == 'f':\n",
    "    print(\"You Will Work Only in Urban Areas.\")\n",
    "if gender == 'm':\n",
    "    if age>=20 and age <= 40:\n",
    "        print(\"You may Work in Anywhere.\")\n",
    "    elif age >= 40 and age <= 60:\n",
    "        print(\"You Will Work in Rural Areas Only.\")\n",
    "else:\n",
    "    print(\"ERROR\")\n",
    "        "
   ]
  }
 ],
 "metadata": {
  "colab": {
   "name": "If then Else &Elif Practice Task .ipynb",
   "provenance": []
  },
  "kernelspec": {
   "display_name": "Python 3 (ipykernel)",
   "language": "python",
   "name": "python3"
  },
  "language_info": {
   "codemirror_mode": {
    "name": "ipython",
    "version": 3
   },
   "file_extension": ".py",
   "mimetype": "text/x-python",
   "name": "python",
   "nbconvert_exporter": "python",
   "pygments_lexer": "ipython3",
   "version": "3.12.4"
  }
 },
 "nbformat": 4,
 "nbformat_minor": 4
}
