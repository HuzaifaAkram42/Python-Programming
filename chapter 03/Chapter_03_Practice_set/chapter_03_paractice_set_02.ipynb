{
 "cells": [
  {
   "cell_type": "markdown",
   "id": "86228295-f25d-4c71-9bdd-347796fec220",
   "metadata": {},
   "source": [
    "1) Write a program to find greatest of four numbers entered by the user.is normal"
   ]
  },
  {
   "cell_type": "code",
   "execution_count": 14,
   "id": "b86699d3-e5c0-4622-bba5-db58c87e52ca",
   "metadata": {},
   "outputs": [
    {
     "name": "stdin",
     "output_type": "stream",
     "text": [
      "Enter first Number:  456\n",
      "Enter Second Number:  489\n",
      "Enter third Number:  799\n",
      "Enter fourth Number:  246\n"
     ]
    },
    {
     "name": "stdout",
     "output_type": "stream",
     "text": [
      "799 is greatest among these numbers\n"
     ]
    }
   ],
   "source": [
    "num1 = int(input(\"Enter first Number: \"))\n",
    "num2 = int(input(\"Enter Second Number: \"))\n",
    "num3 = int(input(\"Enter third Number: \"))\n",
    "num4 = int(input(\"Enter fourth Number: \"))\n",
    "\n",
    "if num1 >= num2 and num1 >= num3 and num1 >= num4:\n",
    "    greatest = num1\n",
    "    print(greatest, \"is greatest among these numbers\")\n",
    "elif num2 >= num1 and num2 >= num3 and num2 >= num4:\n",
    "    greatest = num2\n",
    "    print(greatest, \"is greatest among these numbers\")\n",
    "elif num3 >= num1 and num3 >= num2 and num3 >= num4:\n",
    "    greatest = num3\n",
    "    print(greatest, \"is greatest among these numbers\")\n",
    "else:\n",
    "    greatest = num4\n",
    "    print(greatest, \"is greatest among these numbers\")"
   ]
  },
  {
   "cell_type": "markdown",
   "id": "f1fd8551-9809-4902-bd43-890615bcce18",
   "metadata": {},
   "source": [
    "2) Write a program to find out whether a student is pass or fail, if it requires a total of 40% and at least 33%, in each subject. to pass. Assume Subjects and take marks as input from the user."
   ]
  },
  {
   "cell_type": "code",
   "execution_count": 20,
   "id": "46a90ed8-2f46-4cad-83e3-2f64bbc4438d",
   "metadata": {},
   "outputs": [
    {
     "name": "stdin",
     "output_type": "stream",
     "text": [
      "Enter your Math Marks:  98\n",
      "Enter your Physics Marks:  78\n",
      "Enter your Chemistry Marks:  84\n",
      "Enter your English Marks:  56\n",
      "Enter your Urdu Marks:  32\n",
      "Enter your Biology Marks:  68\n"
     ]
    },
    {
     "name": "stdout",
     "output_type": "stream",
     "text": [
      "\n",
      "    \n",
      "                Result Card\n",
      "    -----------------------------------\n",
      "    Math : 98\n",
      "    Physics : 78\n",
      "    Chemistry : 84\n",
      "    English : 56\n",
      "    Urdu : 32\n",
      "    Biology : 68\n",
      "\n",
      "    Obtain Marks : 416\n",
      "    Percentage : 69.33333333333334\n",
      "    Pass or Fail : Failed\n",
      "    \n"
     ]
    }
   ],
   "source": [
    "math = int(input(\"Enter your Math Marks: \")) \n",
    "phy = int(input(\"Enter your Physics Marks: \"))\n",
    "chem = int(input(\"Enter your Chemistry Marks: \"))\n",
    "eng = int(input(\"Enter your English Marks: \"))\n",
    "urdu = int(input(\"Enter your Urdu Marks: \"))\n",
    "bio = int(input(\"Enter your Biology Marks: \"))\n",
    "obtain_marks = math + phy + chem + eng + urdu + bio\n",
    "Total_marks = 600\n",
    "percentage = (obtain_marks / Total_marks) * 100\n",
    "if percentage > 40:\n",
    "    if math >= 33:\n",
    "        if phy >= 33:\n",
    "            if chem >= 33:\n",
    "                if eng >= 33:\n",
    "                    if urdu >= 33:\n",
    "                        if bio >= 33:\n",
    "                            std_pass = \"Passed\"\n",
    "                        else:\n",
    "                            std_pass = \"Failed\"\n",
    "                    else:\n",
    "                        std_pass = \"Failed\"\n",
    "                else:\n",
    "                    std_pass = \"Failed\"\n",
    "            else:\n",
    "                std_pass = \"Failed\"\n",
    "        else:\n",
    "            std_pass = \"Failed\"\n",
    "    else:\n",
    "        std_pass = \"Failed\"\n",
    "else:\n",
    "    std_pass = \"Failed\"\n",
    "\n",
    "print(f'''\n",
    "    \n",
    "                Result Card\n",
    "    -----------------------------------\n",
    "    Math : {math}\n",
    "    Physics : {phy}\n",
    "    Chemistry : {chem}\n",
    "    English : {eng}\n",
    "    Urdu : {urdu}\n",
    "    Biology : {bio}\n",
    "\n",
    "    Obtain Marks : {obtain_marks}\n",
    "    Percentage : {percentage}\n",
    "    Pass or Fail : {std_pass}\n",
    "    ''')"
   ]
  },
  {
   "cell_type": "markdown",
   "id": "1a2830ea-0645-4877-b09d-1b9d2cdfa23c",
   "metadata": {},
   "source": [
    "3) A spam comment is defined as a text containing the following Keywords: \"make a lot of money\", \"buy now\", \"subscribe to this\", and \"click this\".\n",
    "Write a program to detect this spam."
   ]
  },
  {
   "cell_type": "markdown",
   "id": "2ce7d60f-371b-4ce5-aa7b-1b23471e2881",
   "metadata": {},
   "source": [
    "4) Write a program to find whether a given username Contains less than 10 characters or not."
   ]
  },
  {
   "cell_type": "code",
   "execution_count": 21,
   "id": "39e76fce-f8f6-4d2e-8f21-5d4a60b78870",
   "metadata": {},
   "outputs": [
    {
     "name": "stdin",
     "output_type": "stream",
     "text": [
      "Enter your Username:  huzitech\n"
     ]
    },
    {
     "name": "stdout",
     "output_type": "stream",
     "text": [
      "The Length of Username is less than 10\n"
     ]
    }
   ],
   "source": [
    "username = input(\"Enter your Username: \")\n",
    "if len(username) < 10:\n",
    "    print(\"The Length of Username is less than 10\")\n",
    "else:\n",
    "    print(\"The Length of Username is greater than 10\")"
   ]
  },
  {
   "cell_type": "markdown",
   "id": "3849db8a-a271-4794-8ca1-4b4642c35fee",
   "metadata": {},
   "source": [
    "5) Using following list of cities per country,\n",
    "\n",
    "india = [\"mumbai\", \"banglore\", \"chennai\", \"delhi\"]\n",
    "\n",
    "pakistan = [\"lahore\",\"karachi\",\"islamabad\"]\n",
    "\n",
    "bangladesh = [\"dhaka\", \"khulna\", \"rangpur\"]\n",
    "\n",
    "Write a program that asks user to enter a city name and it should tell which country the city belongs to."
   ]
  },
  {
   "cell_type": "markdown",
   "id": "752f07d7-120d-46d1-99bf-97d2314891b8",
   "metadata": {},
   "source": [
    "6) Write a program that asks the user to enter two cities and it tells you if they both are in the same country or not. For example, if I enter Mumbai and chennai, it will print \"Both cities are in India\" but if I enter Mumbai and Dhaka it should print \"They don't belong to the same country\""
   ]
  },
  {
   "cell_type": "markdown",
   "id": "59718472-beb9-4e15-879e-56c1d79e406b",
   "metadata": {},
   "source": [
    "7) Write a Python program to tell you if your sugar is normal. The normal fasting level sugar range is 80 to 100.\n",
    "Ask the user to enter his fasting sugar level\n",
    "\n",
    "If it is below the 80 to 100 range then print that sugar is low\n",
    "\n",
    "If it is above 100 then print that it is high otherwise print that it is normal"
   ]
  },
  {
   "cell_type": "markdown",
   "id": "f299ac2f-b9fc-45f9-bcd6-898bfe1ad4e7",
   "metadata": {},
   "source": [
    "8) Write a program to calculate the grade of a \n",
    "Student from his marks from the followin \r\n",
    "Scheme\n",
    "90-100 → Ex\r\n",
    "\n",
    "80-90 → A\n",
    "\r\n",
    "70-80 → \n",
    "B\r\n",
    "60-70 →\n",
    " C\r\n",
    "50-60 \n",
    "→ D\r\n",
    "<50 - F\r\n",
    "<50 - F"
   ]
  },
  {
   "cell_type": "markdown",
   "id": "f8629776-3e01-43b1-8874-05c6a04a2c6b",
   "metadata": {},
   "source": [
    "9) Python Program to Check if a Number is Positive, Negative or 0"
   ]
  },
  {
   "cell_type": "markdown",
   "id": "8967ca09-188b-4d07-ad6a-b84de89b72e3",
   "metadata": {},
   "source": [
    "10) \n",
    "Python Program to Check Prime Number"
   ]
  }
 ],
 "metadata": {
  "kernelspec": {
   "display_name": "Python 3 (ipykernel)",
   "language": "python",
   "name": "python3"
  },
  "language_info": {
   "codemirror_mode": {
    "name": "ipython",
    "version": 3
   },
   "file_extension": ".py",
   "mimetype": "text/x-python",
   "name": "python",
   "nbconvert_exporter": "python",
   "pygments_lexer": "ipython3",
   "version": "3.12.4"
  }
 },
 "nbformat": 4,
 "nbformat_minor": 5
}
