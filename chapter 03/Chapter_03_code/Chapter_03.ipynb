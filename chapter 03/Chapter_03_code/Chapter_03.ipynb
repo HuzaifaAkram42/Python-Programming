{
 "cells": [
  {
   "cell_type": "markdown",
   "id": "92d2054e",
   "metadata": {},
   "source": [
    "# Chapter 3 If Else Conditions\n",
    "- **Topics**\n",
    "    - if statement\n",
    "    - if esle Statement\n",
    "    - Indentations in python\n",
    "    - nested if else Statement\n",
    "    - multiple if and else statement\n",
    "        - elif Statements \n",
    "    - and & or operators"
   ]
  },
  {
   "cell_type": "markdown",
   "id": "eb1ac2f4",
   "metadata": {},
   "source": [
    "## If Statement / Clause\n",
    "- In Programming we write multiple statement/lines of code and each statement is executed line by line. But if i want to execute particular statement at a specific time i will use block of code which is if block. \n",
    "- If clause is used when running a block of code when some specific condition is satisfied."
   ]
  },
  {
   "cell_type": "code",
   "execution_count": 3,
   "id": "2e78568f",
   "metadata": {},
   "outputs": [
    {
     "name": "stdout",
     "output_type": "stream",
     "text": [
      "Extra Line Prints when we execute it\n",
      "Extra Line Prints when we execute it\n",
      "Extra Line Prints when we execute it\n",
      "Extra Line Prints when we execute it\n",
      "Enter Your age: 22\n",
      "Your are Young!\n"
     ]
    }
   ],
   "source": [
    "print(\"Extra Line Prints when we execute it\")\n",
    "print(\"Extra Line Prints when we execute it\")\n",
    "print(\"Extra Line Prints when we execute it\")\n",
    "print(\"Extra Line Prints when we execute it\")\n",
    "\n",
    "# if Statement\n",
    "age = int(input(\"Enter Your age: \"))\n",
    "if age > 18:\n",
    "    print(\"Your are Young!\") # ---> This statement is execute when the above condition is true."
   ]
  },
  {
   "cell_type": "code",
   "execution_count": 4,
   "id": "68f15d14",
   "metadata": {},
   "outputs": [
    {
     "name": "stdout",
     "output_type": "stream",
     "text": [
      "Enter Your age: 23\n",
      "Your are Young!\n"
     ]
    }
   ],
   "source": [
    "# if Statement when condition is true\n",
    "age = int(input(\"Enter Your age: \"))\n",
    "if age > 18:\n",
    "    print(\"Your are Young!\")\n",
    "# when the condition is true the if block is execute and print that statement and then it ends program"
   ]
  },
  {
   "cell_type": "code",
   "execution_count": 5,
   "id": "72f5e812",
   "metadata": {},
   "outputs": [
    {
     "name": "stdout",
     "output_type": "stream",
     "text": [
      "Enter Your age: 11\n"
     ]
    }
   ],
   "source": [
    "# if Statement when condition is Flase\n",
    "age = int(input(\"Enter Your age: \"))\n",
    "if age > 18:\n",
    "    print(\"Your are Young!\")\n",
    "# when the condition is false the if block is not execute and program is end"
   ]
  },
  {
   "cell_type": "code",
   "execution_count": 6,
   "id": "940ec264",
   "metadata": {},
   "outputs": [
    {
     "name": "stdout",
     "output_type": "stream",
     "text": [
      "tell me the price of tomatos: 40\n",
      "Give me 4 KG\n"
     ]
    }
   ],
   "source": [
    "tomato_price = int(input(\"tell me the price of tomatos: \"))\n",
    "if tomato_price < 50:\n",
    "    print(\"Give me 4 KG\")\n",
    "# similar to above that when the condition is true the print statement is execute\n",
    "# otherwise the program will ends because there is no other statement is written in the code."
   ]
  },
  {
   "cell_type": "markdown",
   "id": "ebd96e2e",
   "metadata": {},
   "source": [
    "#### Syntax of If Statement"
   ]
  },
  {
   "cell_type": "raw",
   "id": "c7d862a2",
   "metadata": {},
   "source": [
    "if condition :\n",
    "    body of if\n",
    "    \n",
    "here (:) colon shows that the block of if statement is started\n",
    "to execute the body of if the condition must be true otherwise it will not execute"
   ]
  },
  {
   "cell_type": "markdown",
   "id": "d4e4c1b6",
   "metadata": {},
   "source": [
    "## If Else Statement"
   ]
  },
  {
   "cell_type": "markdown",
   "id": "cb042332",
   "metadata": {},
   "source": [
    "- else block is used when the condition of if block is false and we want to execute something we can use else block\n",
    "- we can not use else statement alone but we can use it with if statement\n",
    "- we can use if statement alone as shown in the above examples"
   ]
  },
  {
   "cell_type": "code",
   "execution_count": 7,
   "id": "7bf59d85",
   "metadata": {},
   "outputs": [
    {
     "name": "stdout",
     "output_type": "stream",
     "text": [
      "tell me the price of tomatos: 60\n",
      "Give me 2 KG\n"
     ]
    }
   ],
   "source": [
    "tomato_price = int(input(\"tell me the price of tomatos: \"))\n",
    "if tomato_price < 50:\n",
    "    print(\"Give me 4 KG\")\n",
    "else:\n",
    "    print(\"Give me 2 KG\")\n",
    "# here when the if condition is false it will find its else.\n",
    "# if the else statement is present in program it will execute it \n",
    "# otherwise it will be silent"
   ]
  },
  {
   "cell_type": "code",
   "execution_count": 10,
   "id": "3109bb86",
   "metadata": {},
   "outputs": [
    {
     "name": "stdout",
     "output_type": "stream",
     "text": [
      "is it raining outside yes/no yes\n",
      "Class Cancel\n"
     ]
    }
   ],
   "source": [
    "# if Statement execute when condition is true\n",
    "status= None\n",
    "isRaining = input(\"is it raining outside yes/no \") \n",
    "\n",
    "if (isRaining =='yes'):  \n",
    "    status = 'Cancel'\n",
    "else:\n",
    "    status = \"On time\"\n",
    "print(f\"Class {status}\")\n",
    "# when the condition is true the if block is execute but else satement is not execute"
   ]
  },
  {
   "cell_type": "code",
   "execution_count": 11,
   "id": "78512c81",
   "metadata": {},
   "outputs": [
    {
     "name": "stdout",
     "output_type": "stream",
     "text": [
      "is it raining outside yes/no no\n",
      "Class On time\n"
     ]
    }
   ],
   "source": [
    "# else Statement execute when condition is false\n",
    "status= None\n",
    "isRaining = input(\"is it raining outside yes/no \") \n",
    "\n",
    "if (isRaining =='yes'):  \n",
    "    status = 'Cancel'\n",
    "else:\n",
    "    status = \"On time\"\n",
    "print(f\"Class {status}\")\n",
    "# when the condition is false the if statemet is not execute but the else block is execute"
   ]
  },
  {
   "cell_type": "markdown",
   "id": "07a6ce8d",
   "metadata": {},
   "source": [
    "### Indentations in Python"
   ]
  },
  {
   "cell_type": "markdown",
   "id": "03d28190",
   "metadata": {},
   "source": [
    "- indentation is a way of telling a Python interpreter that the group of statements belongs to a particular block of code.\n",
    "- Python indentation refers to adding white space before a statement to a particular block of code.\n",
    "- we can use TAB button or spacebar to add whitspaces to indent a program properly"
   ]
  },
  {
   "cell_type": "code",
   "execution_count": 3,
   "id": "ee512b51",
   "metadata": {},
   "outputs": [
    {
     "name": "stdout",
     "output_type": "stream",
     "text": [
      "is it festival yes/no yes\n",
      "Class Cancel\n"
     ]
    }
   ],
   "source": [
    "# properly indentation used\n",
    "status= None\n",
    "isfestival = input(\"is it festival yes/no \") \n",
    "\n",
    "if (isfestival =='yes'):  \n",
    "    status = 'Cancel'\n",
    "else:\n",
    "    status = \"On time\"\n",
    "print(f\"Class {status}\")"
   ]
  },
  {
   "cell_type": "markdown",
   "id": "3b877cbb",
   "metadata": {},
   "source": [
    "- without properly indenting the Python code, you will end up seeing IndentationError"
   ]
  },
  {
   "cell_type": "code",
   "execution_count": 4,
   "id": "ed2d5223",
   "metadata": {},
   "outputs": [
    {
     "ename": "IndentationError",
     "evalue": "expected an indented block (2896020327.py, line 6)",
     "output_type": "error",
     "traceback": [
      "\u001b[1;36m  Input \u001b[1;32mIn [4]\u001b[1;36m\u001b[0m\n\u001b[1;33m    status = 'Cancel'\u001b[0m\n\u001b[1;37m    ^\u001b[0m\n\u001b[1;31mIndentationError\u001b[0m\u001b[1;31m:\u001b[0m expected an indented block\n"
     ]
    }
   ],
   "source": [
    "# not properly indentation used\n",
    "status= None\n",
    "isfestival = input(\"is it festival yes/no \") \n",
    "\n",
    "if (isfestival =='yes'):  \n",
    "status = 'Cancel'\n",
    "else:\n",
    "        status = \"On time\"\n",
    "print(f\"Class {status}\")"
   ]
  },
  {
   "cell_type": "markdown",
   "id": "a9d0c425",
   "metadata": {},
   "source": [
    "## Nested If Statement "
   ]
  },
  {
   "cell_type": "markdown",
   "id": "e6b81112",
   "metadata": {},
   "source": [
    "- A block inside another block (block kay ander aik aur block)\n",
    "- We can also use an if statement inside of an if statement. This is known as a nested if statement."
   ]
  },
  {
   "cell_type": "markdown",
   "id": "46919c2c",
   "metadata": {},
   "source": [
    "- For Example If I want to buy a shirt 👚 what are requirements\n",
    " 1. 👚 Brand\n",
    " 2. 👚 color\n",
    " 3. 👚 size\n",
    " 4. 👚 price\n",
    "\n",
    "    - then i would say \n",
    "👚 yes or no "
   ]
  },
  {
   "cell_type": "code",
   "execution_count": 6,
   "id": "ed5a7106",
   "metadata": {},
   "outputs": [
    {
     "name": "stdout",
     "output_type": "stream",
     "text": [
      "Brand Name: monark\n",
      "Shirt Color: red\n",
      "Shirt Size: M\n",
      "Shirt Prize: 1300\n",
      "Pack Karo! \n"
     ]
    }
   ],
   "source": [
    "# example of nested if's\n",
    "# in this we firstly true all condtion and see output\n",
    "brand_name = input(\"Brand Name: \")\n",
    "shirt_color = input(\"Shirt Color: \")\n",
    "shirt_size = input(\"Shirt Size: \")\n",
    "shirt_prize = int(input(\"Shirt Prize: \"))\n",
    "\n",
    "if brand_name == \"monark\":\n",
    "    if shirt_color == \"red\":\n",
    "        if shirt_size == \"M\":\n",
    "            if shirt_prize < 1500:\n",
    "                print(\"Pack Karo! \")"
   ]
  },
  {
   "cell_type": "code",
   "execution_count": 7,
   "id": "d7a4078e",
   "metadata": {},
   "outputs": [
    {
     "name": "stdout",
     "output_type": "stream",
     "text": [
      "Brand Name: bonanza\n",
      "Shirt Color: red\n",
      "Shirt Size: M\n",
      "Shirt Prize: 1300\n"
     ]
    }
   ],
   "source": [
    "# what if first condition is false\n",
    "brand_name = input(\"Brand Name: \")\n",
    "shirt_color = input(\"Shirt Color: \")\n",
    "shirt_size = input(\"Shirt Size: \")\n",
    "shirt_prize = int(input(\"Shirt Prize: \"))\n",
    "\n",
    "if brand_name == \"monark\":\n",
    "    if shirt_color == \"red\":\n",
    "        if shirt_size == \"M\":\n",
    "            if shirt_prize < 1500:\n",
    "                print(\"Pack Karo! \")\n",
    "# nothing will be printed beacuse the first condition brand name is false"
   ]
  },
  {
   "cell_type": "code",
   "execution_count": 9,
   "id": "e393b486",
   "metadata": {
    "scrolled": true
   },
   "outputs": [
    {
     "name": "stdout",
     "output_type": "stream",
     "text": [
      "Brand Name: monark\n",
      "Shirt Color: red\n",
      "Shirt Size: L\n"
     ]
    }
   ],
   "source": [
    "# But we see that whenever the first condition is false it is still taking other input which an error\n",
    "# we can solve this error we have redifined the above code like this\n",
    "brand_name = input(\"Brand Name: \")\n",
    "if brand_name == \"monark\":\n",
    "    shirt_color = input(\"Shirt Color: \")\n",
    "    if shirt_color == \"red\":\n",
    "        shirt_size = input(\"Shirt Size: \")\n",
    "        if shirt_size == \"M\":\n",
    "            shirt_price = int(input(\"Shirt Price: \"))\n",
    "            if shirt_price < 1500:\n",
    "                print(\"Pack Karo! \")"
   ]
  },
  {
   "cell_type": "markdown",
   "id": "aae15062",
   "metadata": {},
   "source": [
    "## Nested If Else Statement\n",
    "- In nested every if must be true to reach target answer\n",
    "- and if any if clause fails it will move to respective else block\n",
    "- Now we can add nested else statement with if's\n",
    "- we can write else statement with their if statement"
   ]
  },
  {
   "cell_type": "markdown",
   "id": "791fed4b",
   "metadata": {},
   "source": [
    "- Note: without defining the body of if we can not use the else block it will give me error."
   ]
  },
  {
   "cell_type": "code",
   "execution_count": 10,
   "id": "6bb7ae6a",
   "metadata": {},
   "outputs": [
    {
     "ename": "IndentationError",
     "evalue": "expected an indented block (3307485773.py, line 4)",
     "output_type": "error",
     "traceback": [
      "\u001b[1;36m  Input \u001b[1;32mIn [10]\u001b[1;36m\u001b[0m\n\u001b[1;33m    else:\u001b[0m\n\u001b[1;37m    ^\u001b[0m\n\u001b[1;31mIndentationError\u001b[0m\u001b[1;31m:\u001b[0m expected an indented block\n"
     ]
    }
   ],
   "source": [
    "brand_name = input(\"Brand Name\")\n",
    "if brand_name == \"monark\":\n",
    "    \n",
    "else:\n",
    "    print(\"Not avalible\")"
   ]
  },
  {
   "cell_type": "markdown",
   "id": "df86fff1",
   "metadata": {},
   "source": [
    "- for this pupose we can use pass keyword in the body of if\n",
    "- if we don't know about what will be executed in the body of if we can use pass keyword"
   ]
  },
  {
   "cell_type": "code",
   "execution_count": 12,
   "id": "c8f3d920",
   "metadata": {},
   "outputs": [
    {
     "name": "stdout",
     "output_type": "stream",
     "text": [
      "Brand Name polo\n",
      "Not avalible\n"
     ]
    }
   ],
   "source": [
    "brand_name = input(\"Brand Name \")\n",
    "if brand_name == \"monark\":\n",
    "    pass\n",
    "else:\n",
    "    print(\"Not avalible\")"
   ]
  },
  {
   "cell_type": "code",
   "execution_count": 4,
   "id": "96062c13",
   "metadata": {},
   "outputs": [
    {
     "name": "stdin",
     "output_type": "stream",
     "text": [
      "Brand Name  monark\n",
      "Shirt Color:  red\n",
      "Shirt Size:  M\n",
      "Shirt Prize:  1400\n"
     ]
    },
    {
     "name": "stdout",
     "output_type": "stream",
     "text": [
      "\n",
      "    ABC Shopping Center\n",
      "  ____________________________________\n",
      "  \n",
      "  Item Brand  : monark\n",
      "  Item Color  : red\n",
      "  Item Size   : M\n",
      "  Item Price  : 1400\n",
      "  Your Order  : Pack Karo! monark red M 1400\n",
      "  Thank you for Shopping with us!\n",
      "  ____________________________________\n",
      "\n",
      "\n"
     ]
    }
   ],
   "source": [
    "shopping_cart = None\n",
    "brand_name = input(\"Brand Name \")\n",
    "if brand_name == \"monark\":\n",
    "    shirt_color = input(\"Shirt Color: \")\n",
    "    if shirt_color == \"red\":\n",
    "        shirt_size = input(\"Shirt Size: \")\n",
    "        if shirt_size == \"M\":\n",
    "            shirt_price = int(input(\"Shirt Prize: \"))\n",
    "            if shirt_price < 1500:\n",
    "                shopping_cart = f\"Pack Karo! {brand_name} {shirt_color} {shirt_size} {shirt_price}\"\n",
    "            else: \n",
    "                print(\"Price Out of Bugdet!\")\n",
    "        else:\n",
    "            print(\"Size Not Avalible!\")\n",
    "    else:\n",
    "        print(\"Color Not Avalible!\")\n",
    "else:\n",
    "    print(\"Brand Not Avalible!\")\n",
    "\n",
    "print(f\"\"\"\n",
    "    ABC Shopping Center\n",
    "  ____________________________________\n",
    "  \n",
    "  Item Brand  : {brand_name}\n",
    "  Item Color  : {shirt_color}\n",
    "  Item Size   : {shirt_size}\n",
    "  Item Price  : {shirt_price}\n",
    "  Your Order  : {shopping_cart}\n",
    "  Thank you for Shopping with us!\n",
    "  ____________________________________\n",
    "\n",
    "\"\"\")"
   ]
  },
  {
   "cell_type": "markdown",
   "id": "81fb714c",
   "metadata": {},
   "source": [
    "- we can .lower() function in brand name & shirt color beacuse if user enter brand name and color in uppercase so it will not met our if condition in which we have used lowercase so we first need to convert it into lowercase.\n",
    "- we use .upper() function in shirt size because if a user enter a lowercase input it convert it to uppercase beacuse we used uppercase in our if condition."
   ]
  },
  {
   "cell_type": "code",
   "execution_count": 7,
   "id": "c29690a7",
   "metadata": {},
   "outputs": [
    {
     "name": "stdin",
     "output_type": "stream",
     "text": [
      "Brand Name  MONARK\n",
      "Shirt Color:  RED\n",
      "Shirt Size:  m\n",
      "Shirt Prize:  1400\n"
     ]
    },
    {
     "name": "stdout",
     "output_type": "stream",
     "text": [
      "\n",
      "    ABC Shopping Center\n",
      "  ____________________________________\n",
      "  \n",
      "  Item Brand  : monark\n",
      "  Item Color  : red\n",
      "  Item Size   : M\n",
      "  Item Price  : 1400\n",
      "  Your Order  : Pack Karo! monark red M 1400\n",
      "  Thank you for Shopping with us!\n",
      "  ____________________________________\n",
      "\n",
      "\n"
     ]
    }
   ],
   "source": [
    "shopping_cart = None\n",
    "brand_name = input(\"Brand Name \").lower()\n",
    "if brand_name == \"monark\":\n",
    "    shirt_color = input(\"Shirt Color: \").lower()\n",
    "    if shirt_color == \"red\":\n",
    "        shirt_size = input(\"Shirt Size: \").upper()\n",
    "        if shirt_size == \"M\":\n",
    "            shirt_price = int(input(\"Shirt Prize: \"))\n",
    "            if shirt_price < 1500:\n",
    "                shopping_cart = f\"Pack Karo! {brand_name} {shirt_color} {shirt_size} {shirt_price}\"\n",
    "            else: \n",
    "                print(\"Price Out of Bugdet!\")\n",
    "        else:\n",
    "            print(\"Size Not Avalible!\")\n",
    "    else:\n",
    "        print(\"Color Not Avalible!\")\n",
    "else:\n",
    "    print(\"Brand Not Avalible!\")\n",
    "\n",
    "print(f\"\"\"\n",
    "    ABC Shopping Center\n",
    "  ____________________________________\n",
    "  \n",
    "  Item Brand  : {brand_name}\n",
    "  Item Color  : {shirt_color}\n",
    "  Item Size   : {shirt_size}\n",
    "  Item Price  : {shirt_price}\n",
    "  Your Order  : {shopping_cart}\n",
    "  Thank you for Shopping with us!\n",
    "  ____________________________________\n",
    "\n",
    "\"\"\")"
   ]
  },
  {
   "cell_type": "markdown",
   "id": "69e1c775",
   "metadata": {},
   "source": [
    "## Multiple If Else Statement\n",
    "- if we need to make a choice between more than two alternatives, then we use the if...elif...else statement.\n",
    "- elif is the short form of else if\n",
    "- It means instead of using condition in else statement we can use elif because we can add conditions in else block "
   ]
  },
  {
   "cell_type": "code",
   "execution_count": 9,
   "id": "ccc257a7",
   "metadata": {},
   "outputs": [
    {
     "name": "stdout",
     "output_type": "stream",
     "text": [
      "Enter Python Marks: 90\n",
      "Enter Java Marks: 91\n",
      "Enter C Marks: 94\n",
      "Enter JavaScript Marks: 95\n",
      "Enter PHP Marks: 98\n",
      "\n",
      "    RESULT CARD \n",
      "  _____________________________\n",
      "  \n",
      "  TOTAL MARKS    : 500\n",
      "  OBTAINED MARKS : 468\n",
      "  PERSENTAGE     : 93.60000000000001\n",
      "  GRADE          : A+\n",
      "\n",
      "  ___________________________\n",
      "  \n",
      "\n"
     ]
    }
   ],
   "source": [
    "# Grading System\n",
    "python = int(input(\"Enter Python Marks: \"))\n",
    "java = int(input(\"Enter Java Marks: \"))\n",
    "c = int(input(\"Enter C Marks: \"))\n",
    "javaScript = int(input(\"Enter JavaScript Marks: \"))\n",
    "php = int(input(\"Enter PHP Marks: \"))\n",
    "grade = None\n",
    "total_marks = 500\n",
    "total_obt = python + java + c + javaScript + php\n",
    "percentage = (total_obt / total_marks) * 100\n",
    "\n",
    "if percentage >= 90:\n",
    "    grade = \"A+\"\n",
    "elif percentage >= 80:\n",
    "    grade = \"A\"\n",
    "elif percentage >= 70:\n",
    "    grade = \"B\"\n",
    "elif percentage >= 60:\n",
    "    grade = \"C\"\n",
    "elif percentage >= 50:\n",
    "    grade = \"D\"\n",
    "else:\n",
    "    grade = \"F\"\n",
    "    \n",
    "print(f\"\"\"\n",
    "    RESULT CARD \n",
    "  _____________________________\n",
    "  \n",
    "  TOTAL MARKS    : {total_marks}\n",
    "  OBTAINED MARKS : {total_obt}\n",
    "  PERSENTAGE     : {percentage}\n",
    "  GRADE          : {grade}\n",
    "\n",
    "  ___________________________\n",
    "  \n",
    "\"\"\")"
   ]
  },
  {
   "cell_type": "markdown",
   "id": "7d38094b",
   "metadata": {},
   "source": [
    "- the above program is execute and check if condition first\n",
    "    - if the cndition of if block is true it will execute its body code \n",
    "    - otherwise the condition of if block is false it will check the elif condition \n",
    "- and if elif condition is true it will execute elif body code\n",
    "    - otherwise if elif block is false it will check next elif condition and move next \n",
    "- until all elif condition are false then it will move to else statement and execute it."
   ]
  },
  {
   "cell_type": "markdown",
   "id": "354f1beb",
   "metadata": {},
   "source": [
    "## and & or Operators"
   ]
  },
  {
   "cell_type": "markdown",
   "id": "ed10ce15",
   "metadata": {},
   "source": [
    "- nested if else statement belongs to and operators\n",
    "- multiple if else statement belongs to or operators"
   ]
  },
  {
   "cell_type": "code",
   "execution_count": 11,
   "id": "d049cfad",
   "metadata": {},
   "outputs": [
    {
     "name": "stdout",
     "output_type": "stream",
     "text": [
      "Enter User ID: huzaifa786\n",
      "Enter your Password: abcd1234\n",
      "You are Welcome in my Class!\n"
     ]
    }
   ],
   "source": [
    "# user login system\n",
    "# user_id and password stored in the database\n",
    "user_id = \"huzaifa786\"\n",
    "password = 'abcd1234'\n",
    "\n",
    "uid = input(\"Enter User ID: \")\n",
    "pwd = input(\"Enter your Password: \")\n",
    "if (uid == user_id) and (pwd == password):\n",
    "    print(\"You are Welcome in my Class!\")\n",
    "else:\n",
    "    print(\"User ID or Password Incorrect\")    "
   ]
  },
  {
   "cell_type": "code",
   "execution_count": 4,
   "id": "98970a8f",
   "metadata": {},
   "outputs": [
    {
     "name": "stdout",
     "output_type": "stream",
     "text": [
      "Enter your required brand monark\n",
      "Enter color RED\n",
      "Enter your shirt size m\n",
      "Enter your price 1400\n",
      "you have bought Red Monark Medium Size Shirt \n"
     ]
    }
   ],
   "source": [
    "brand = input(\"Enter your required brand \").lower()\n",
    "color = input(\"Enter color \").lower()\n",
    "size = input(\"Enter your shirt size \").upper()\n",
    "price = int(input(\"Enter your price \"))\n",
    "\n",
    "if ( (brand==\"monark\") and (color=='red') and (size=='M') and (price <=1500) ):\n",
    "    cart = \"Red Monark Medium Size Shirt\"\n",
    "else:\n",
    "    cart = \"Nothing\"\n",
    "    \n",
    "print(f\"you have bought {cart} \")"
   ]
  },
  {
   "cell_type": "code",
   "execution_count": 9,
   "id": "3cbaa2c7",
   "metadata": {},
   "outputs": [
    {
     "name": "stdout",
     "output_type": "stream",
     "text": [
      "Do you have CNIC Yes/No: mo\n",
      "Do you have Passport Yes/NO: no\n",
      "You are Not Eligible for Driving License\n"
     ]
    }
   ],
   "source": [
    "# or operator\n",
    "isCNIC = input(\"Do you have CNIC Yes/No: \").lower()\n",
    "isPassport = input(\"Do you have Passport Yes/NO: \").lower()\n",
    "\n",
    "if isCNIC == \"yes\" or isPassport == \"yes\":\n",
    "    print(\"You are Eligible for Driving License\")\n",
    "else:\n",
    "    print(\"You are Not Eligible for Driving License\")"
   ]
  }
 ],
 "metadata": {
  "kernelspec": {
   "display_name": "Python 3 (ipykernel)",
   "language": "python",
   "name": "python3"
  },
  "language_info": {
   "codemirror_mode": {
    "name": "ipython",
    "version": 3
   },
   "file_extension": ".py",
   "mimetype": "text/x-python",
   "name": "python",
   "nbconvert_exporter": "python",
   "pygments_lexer": "ipython3",
   "version": "3.12.4"
  }
 },
 "nbformat": 4,
 "nbformat_minor": 5
}
