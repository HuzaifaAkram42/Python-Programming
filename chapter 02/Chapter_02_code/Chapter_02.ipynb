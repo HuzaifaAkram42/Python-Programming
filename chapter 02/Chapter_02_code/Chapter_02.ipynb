{
 "cells": [
  {
   "cell_type": "markdown",
   "id": "d4e67a52",
   "metadata": {},
   "source": [
    "# Chapter 02 User Input, Type Casting & String Data Type "
   ]
  },
  {
   "cell_type": "markdown",
   "id": "6543a5ba",
   "metadata": {},
   "source": [
    "### Topics\n",
    "- user input & multi user input\n",
    "- Type casting\n",
    "- Literals\n",
    "- String concatenation\n",
    "- String Formatting\n",
    "    - String formatting  using format function\n",
    "    - String formatting using f \n",
    "    - string multiple lines formatting using tripple quoates\n",
    "- Accessing Substring from a String\n",
    "    - String indexing\n",
    "    - string Slicing\n",
    "- String Edit & Delete\n",
    "- string Operations\n",
    "- String methods"
   ]
  },
  {
   "cell_type": "markdown",
   "id": "92225e15",
   "metadata": {},
   "source": [
    "## User Input\n",
    "- In programming, we might want to take the input from the user. In Python, we can use the input() function.\n",
    "- input function take input from user on console. \n",
    "- the input given is called console input/ runtime input"
   ]
  },
  {
   "cell_type": "code",
   "execution_count": 1,
   "id": "25df2886",
   "metadata": {},
   "outputs": [
    {
     "name": "stdout",
     "output_type": "stream",
     "text": [
      "155\n"
     ]
    },
    {
     "data": {
      "text/plain": [
       "'155'"
      ]
     },
     "execution_count": 1,
     "metadata": {},
     "output_type": "execute_result"
    }
   ],
   "source": [
    "input()"
   ]
  },
  {
   "cell_type": "markdown",
   "id": "4d332376",
   "metadata": {},
   "source": [
    "- when we simply use input() function there is a problem for the user. Because they couldn't understand what to enter in the input box like name, age, etc.\n",
    "- for Solution we add a prompt which is exactly seen to the user."
   ]
  },
  {
   "cell_type": "code",
   "execution_count": 2,
   "id": "b3b04418",
   "metadata": {},
   "outputs": [
    {
     "name": "stdout",
     "output_type": "stream",
     "text": [
      "Apna Naam Batao: Muhammad Huzaifa\n"
     ]
    },
    {
     "data": {
      "text/plain": [
       "'Muhammad Huzaifa'"
      ]
     },
     "execution_count": 2,
     "metadata": {},
     "output_type": "execute_result"
    }
   ],
   "source": [
    "input(\"Apna Naam Batao: \")"
   ]
  },
  {
   "cell_type": "markdown",
   "id": "a6346508",
   "metadata": {},
   "source": [
    "#### Syntax of Input Function\n",
    "- input(prompt)\n",
    "- Here, prompt is the string we wish to display on the screen for User. It is optional."
   ]
  },
  {
   "cell_type": "code",
   "execution_count": 3,
   "id": "681dd9b4",
   "metadata": {},
   "outputs": [
    {
     "name": "stdout",
     "output_type": "stream",
     "text": [
      "Tell Me Your Good Name: Muhmmad Huzaifa\n",
      "Your Good Name is:  Muhmmad Huzaifa\n"
     ]
    }
   ],
   "source": [
    "name = input(\"Tell Me Your Good Name: \")\n",
    "print(\"Your Good Name is: \", name)"
   ]
  },
  {
   "cell_type": "markdown",
   "id": "7b30a956",
   "metadata": {},
   "source": [
    "- **The input given from console will always be a string either you input a\n",
    "string value or integer value**"
   ]
  },
  {
   "cell_type": "code",
   "execution_count": 4,
   "id": "d8f1e259",
   "metadata": {},
   "outputs": [
    {
     "name": "stdout",
     "output_type": "stream",
     "text": [
      "Tell me your good name sir! Nasir Hussain\n"
     ]
    }
   ],
   "source": [
    "name = input(\"Tell me your good name sir! \")"
   ]
  },
  {
   "cell_type": "code",
   "execution_count": 5,
   "id": "81c0b49d",
   "metadata": {},
   "outputs": [
    {
     "name": "stdout",
     "output_type": "stream",
     "text": [
      "Nasir Hussain\n",
      "<class 'str'>\n"
     ]
    }
   ],
   "source": [
    "print(name)\n",
    "print(type(name))"
   ]
  },
  {
   "cell_type": "code",
   "execution_count": 5,
   "id": "716a609c",
   "metadata": {},
   "outputs": [
    {
     "name": "stdout",
     "output_type": "stream",
     "text": [
      "Tell me your age>22\n",
      "22\n",
      "<class 'str'>\n"
     ]
    }
   ],
   "source": [
    "age = input(\"Tell me your age>\")\n",
    "print(age)\n",
    "print(type(age))\n",
    "# still the type of age is string even we enter a integer value in input"
   ]
  },
  {
   "cell_type": "markdown",
   "id": "f53d03e2",
   "metadata": {},
   "source": [
    "- Write a program that take two number as input and find addition of the two numbers."
   ]
  },
  {
   "cell_type": "code",
   "execution_count": 7,
   "id": "110e133d",
   "metadata": {},
   "outputs": [
    {
     "name": "stdout",
     "output_type": "stream",
     "text": [
      "Enter the First Number: 12\n",
      "Enter the Second Number: 15\n",
      "1215\n"
     ]
    }
   ],
   "source": [
    "first_num = input(\"Enter the First Number: \")\n",
    "second_num = input(\"Enter the Second Number: \")\n",
    "result = first_num + second_num\n",
    "print(result)"
   ]
  },
  {
   "cell_type": "code",
   "execution_count": 9,
   "id": "ed5a5bed",
   "metadata": {},
   "outputs": [
    {
     "name": "stdout",
     "output_type": "stream",
     "text": [
      "<class 'str'>\n",
      "<class 'str'>\n"
     ]
    }
   ],
   "source": [
    "print(type(first_num))\n",
    "print(type(second_num))"
   ]
  },
  {
   "cell_type": "markdown",
   "id": "2472ebfa",
   "metadata": {},
   "source": [
    "- we can solve this mathematical addition issue with type casting in later"
   ]
  },
  {
   "cell_type": "markdown",
   "id": "a7c8f66a",
   "metadata": {},
   "source": [
    "### Can we give more than one input from console?\n",
    "\n",
    "- No we can not give more than one input from console. \n",
    "- But we can use different techniquues to break single input into more than one input "
   ]
  },
  {
   "cell_type": "code",
   "execution_count": 13,
   "id": "f7953211",
   "metadata": {},
   "outputs": [
    {
     "name": "stdout",
     "output_type": "stream",
     "text": [
      "Tell me your age: 23,36\n"
     ]
    }
   ],
   "source": [
    "asad,usman  = input(\"Tell me your age: \").split(',')"
   ]
  },
  {
   "cell_type": "markdown",
   "id": "1dc8cfe1",
   "metadata": {},
   "source": [
    "- 23,36 is inputted in a single string like '23,36'. \n",
    "- But we use split() function to split this single string on \",\" to break it into two string.\n",
    "- since split will break \"23,36\" into  '23','36' and assigned it into two variables\n",
    "- asad <<<== 23 & usman <<<=== 36\n",
    "\n",
    "- Note: since our string value will be borken down into 2 values we will need two variables to catch the values. "
   ]
  },
  {
   "cell_type": "code",
   "execution_count": 14,
   "id": "308b6e54",
   "metadata": {},
   "outputs": [
    {
     "name": "stdout",
     "output_type": "stream",
     "text": [
      "23\n",
      "36\n"
     ]
    }
   ],
   "source": [
    "print(asad)\n",
    "print(usman)"
   ]
  },
  {
   "cell_type": "markdown",
   "id": "ccd967aa",
   "metadata": {},
   "source": [
    "## Type Casting\n",
    "- changing the data type of a value to another data type is called type casting\n",
    "    - implicit type casting\n",
    "    - explicit type casting"
   ]
  },
  {
   "cell_type": "markdown",
   "id": "d5d53aec",
   "metadata": {},
   "source": [
    "### Implicit Type Casting\n",
    "- In some situations, Python automatically converts one data type to another. This is known as implicit type casting."
   ]
  },
  {
   "cell_type": "code",
   "execution_count": 16,
   "id": "58acd003",
   "metadata": {},
   "outputs": [
    {
     "data": {
      "text/plain": [
       "11.5"
      ]
     },
     "execution_count": 16,
     "metadata": {},
     "output_type": "execute_result"
    }
   ],
   "source": [
    "# implicit type casting Example\n",
    "6 + 5.5\n",
    "# here python automatically convert int data type to float data type."
   ]
  },
  {
   "cell_type": "code",
   "execution_count": 18,
   "id": "10845941",
   "metadata": {},
   "outputs": [
    {
     "data": {
      "text/plain": [
       "(13+6j)"
      ]
     },
     "execution_count": 18,
     "metadata": {},
     "output_type": "execute_result"
    }
   ],
   "source": [
    "# implicit type casting example\n",
    "6 + 7+6j\n",
    "# here python automatically convert int data type to complex data type."
   ]
  },
  {
   "cell_type": "markdown",
   "id": "a018d4f4",
   "metadata": {},
   "source": [
    "### Explicit Type Casting\n",
    "- In explicit type casting, users convert the data type of an object to the required data type.\n",
    "- We use built-in functions like int(), float(), str(), etc. to perform explicit type casting."
   ]
  },
  {
   "cell_type": "code",
   "execution_count": 20,
   "id": "9c394a7d",
   "metadata": {},
   "outputs": [
    {
     "name": "stdout",
     "output_type": "stream",
     "text": [
      "46\n",
      "65\n"
     ]
    }
   ],
   "source": [
    "# ----> int() <----\n",
    "# float to int\n",
    "print(int(46.5))\n",
    "# string to int\n",
    "print(int('65'))"
   ]
  },
  {
   "cell_type": "code",
   "execution_count": 21,
   "id": "995be424",
   "metadata": {},
   "outputs": [
    {
     "ename": "ValueError",
     "evalue": "invalid literal for int() with base 10: 'Karachi'",
     "output_type": "error",
     "traceback": [
      "\u001b[1;31m---------------------------------------------------------------------------\u001b[0m",
      "\u001b[1;31mValueError\u001b[0m                                Traceback (most recent call last)",
      "Input \u001b[1;32mIn [21]\u001b[0m, in \u001b[0;36m<cell line: 2>\u001b[1;34m()\u001b[0m\n\u001b[0;32m      1\u001b[0m \u001b[38;5;66;03m# string to int\u001b[39;00m\n\u001b[1;32m----> 2\u001b[0m \u001b[38;5;28;43mint\u001b[39;49m\u001b[43m(\u001b[49m\u001b[38;5;124;43m'\u001b[39;49m\u001b[38;5;124;43mKarachi\u001b[39;49m\u001b[38;5;124;43m'\u001b[39;49m\u001b[43m)\u001b[49m\n",
      "\u001b[1;31mValueError\u001b[0m: invalid literal for int() with base 10: 'Karachi'"
     ]
    }
   ],
   "source": [
    "# string to int\n",
    "int('Karachi') "
   ]
  },
  {
   "cell_type": "code",
   "execution_count": 26,
   "id": "c7c309f6",
   "metadata": {},
   "outputs": [
    {
     "name": "stdout",
     "output_type": "stream",
     "text": [
      "4564.0\n",
      "45.65\n"
     ]
    }
   ],
   "source": [
    "# ----> float() <----\n",
    "# int to float\n",
    "print(float(4564))\n",
    "# string to float\n",
    "print(float('45.65'))"
   ]
  },
  {
   "cell_type": "code",
   "execution_count": 24,
   "id": "a48be56d",
   "metadata": {},
   "outputs": [
    {
     "ename": "ValueError",
     "evalue": "could not convert string to float: 'Lahore'",
     "output_type": "error",
     "traceback": [
      "\u001b[1;31m---------------------------------------------------------------------------\u001b[0m",
      "\u001b[1;31mValueError\u001b[0m                                Traceback (most recent call last)",
      "Input \u001b[1;32mIn [24]\u001b[0m, in \u001b[0;36m<cell line: 2>\u001b[1;34m()\u001b[0m\n\u001b[0;32m      1\u001b[0m \u001b[38;5;66;03m# string to float\u001b[39;00m\n\u001b[1;32m----> 2\u001b[0m \u001b[38;5;28;43mfloat\u001b[39;49m\u001b[43m(\u001b[49m\u001b[38;5;124;43m'\u001b[39;49m\u001b[38;5;124;43mLahore\u001b[39;49m\u001b[38;5;124;43m'\u001b[39;49m\u001b[43m)\u001b[49m\n",
      "\u001b[1;31mValueError\u001b[0m: could not convert string to float: 'Lahore'"
     ]
    }
   ],
   "source": [
    "# string to float\n",
    "float('Lahore')"
   ]
  },
  {
   "cell_type": "code",
   "execution_count": 29,
   "id": "68c483cf",
   "metadata": {},
   "outputs": [
    {
     "name": "stdout",
     "output_type": "stream",
     "text": [
      "<class 'str'>\n"
     ]
    }
   ],
   "source": [
    "# ----> str() <----\n",
    "# int to string\n",
    "str(45)\n",
    "print(type(str(45)))\n"
   ]
  },
  {
   "cell_type": "code",
   "execution_count": 30,
   "id": "20c17261",
   "metadata": {},
   "outputs": [
    {
     "data": {
      "text/plain": [
       "'4.5'"
      ]
     },
     "execution_count": 30,
     "metadata": {},
     "output_type": "execute_result"
    }
   ],
   "source": [
    "str('4.5')"
   ]
  },
  {
   "cell_type": "markdown",
   "id": "f3cd6dd9",
   "metadata": {},
   "source": [
    "- type casting is not perminent Like"
   ]
  },
  {
   "cell_type": "code",
   "execution_count": 32,
   "id": "4f069fbe",
   "metadata": {},
   "outputs": [
    {
     "data": {
      "text/plain": [
       "45"
      ]
     },
     "execution_count": 32,
     "metadata": {},
     "output_type": "execute_result"
    }
   ],
   "source": [
    "a = 45.5\n",
    "int(a)"
   ]
  },
  {
   "cell_type": "code",
   "execution_count": 33,
   "id": "2bf56862",
   "metadata": {},
   "outputs": [
    {
     "name": "stdout",
     "output_type": "stream",
     "text": [
      "45.5\n"
     ]
    }
   ],
   "source": [
    "print(a)"
   ]
  },
  {
   "cell_type": "code",
   "execution_count": 35,
   "id": "eb041a3d",
   "metadata": {},
   "outputs": [
    {
     "name": "stdout",
     "output_type": "stream",
     "text": [
      "45\n"
     ]
    }
   ],
   "source": [
    "# Now it is perminent\n",
    "a = int(45.5)\n",
    "print(a)"
   ]
  },
  {
   "cell_type": "markdown",
   "id": "85650ae3",
   "metadata": {},
   "source": [
    "- now we solve the previous addition program with explicit type casting"
   ]
  },
  {
   "cell_type": "code",
   "execution_count": 31,
   "id": "f4f9757b",
   "metadata": {},
   "outputs": [
    {
     "name": "stdout",
     "output_type": "stream",
     "text": [
      "Enter the First Number: 45\n",
      "Enter the Second Number: 65\n",
      "110\n"
     ]
    }
   ],
   "source": [
    "first_num = int(input(\"Enter the First Number: \"))\n",
    "second_num = int(input(\"Enter the Second Number: \"))\n",
    "result = first_num + second_num\n",
    "print(result)"
   ]
  },
  {
   "cell_type": "markdown",
   "id": "bcb7ee29",
   "metadata": {},
   "source": [
    "## Literals in python\n",
    "- literals is a raw data or value given to a variable.\n",
    "- In python, there are various typs of literals\n",
    "    1. Numeric Literals\n",
    "    2. String Literals\n",
    "    3. Boolean Literals\n",
    "    4. Special Literals"
   ]
  },
  {
   "cell_type": "markdown",
   "id": "591da070",
   "metadata": {},
   "source": [
    "### 1. Numeric Literals"
   ]
  },
  {
   "cell_type": "markdown",
   "id": "462d7a0c",
   "metadata": {},
   "source": [
    "- **int Literals**\n",
    "    - Decimal ------>  5, 10, -68 -----> Regular numbers.\n",
    "    - Binary ------->  0b101, 0b11 ----> Start with 0b.\n",
    "    - Octal -------->  0o13 -----------> Start with 0o.\n",
    "    - Hexadecimal ---> 0x13 -----------> Start with 0x."
   ]
  },
  {
   "cell_type": "code",
   "execution_count": 4,
   "id": "4fe8129d",
   "metadata": {},
   "outputs": [
    {
     "name": "stdout",
     "output_type": "stream",
     "text": [
      "10 9 11 298\n",
      "10.56 1600.0 0.0016\n"
     ]
    }
   ],
   "source": [
    "a = 10 # Decimal\n",
    "b = 0b1001 # binary\n",
    "c = 0o13 # octal\n",
    "d = 0x12A # hexadecimal\n",
    "\n",
    "# Float Literals\n",
    "x = 10.56 # Normal float\n",
    "y = 1.6e3 # hightest exponential value\n",
    "z = 1.6e-3 # lowest exponential value\n",
    "\n",
    "print(a, b, c, d)\n",
    "print(x, y, z)"
   ]
  },
  {
   "cell_type": "markdown",
   "id": "7d6cf864",
   "metadata": {},
   "source": [
    "### 2. String Literal"
   ]
  },
  {
   "cell_type": "code",
   "execution_count": 9,
   "id": "50bff15d",
   "metadata": {},
   "outputs": [
    {
     "name": "stdout",
     "output_type": "stream",
     "text": [
      "This is Single Quote String. This is double Quote String. H This is multiline String used to get large values.\n",
      "😀😆🤣\n",
      "raw \\n \\t <br> string\n"
     ]
    }
   ],
   "source": [
    "string = 'This is Single Quote String.'\n",
    "strings = \"This is double Quote String.\"\n",
    "char = \"H\" # single character\n",
    "multi_line = \"\"\"This is multiline String used to get large values.\"\"\"\n",
    "unicode = u\"\\U0001f600\\U0001F606\\U0001F923\" # use to add emogis\n",
    "raw_str = r\"raw \\n \\t <br> string\" # use for add html code\n",
    "\n",
    "print(string, strings, char, multi_line)\n",
    "print(unicode)\n",
    "print(raw_str)"
   ]
  },
  {
   "cell_type": "markdown",
   "id": "cf609baa",
   "metadata": {},
   "source": [
    "### 3. Boolean Literals"
   ]
  },
  {
   "cell_type": "code",
   "execution_count": 3,
   "id": "184da6fb",
   "metadata": {},
   "outputs": [
    {
     "name": "stdout",
     "output_type": "stream",
     "text": [
      "6\n",
      "16\n"
     ]
    }
   ],
   "source": [
    "a = True + 5 # the value of True by default 1 in python\n",
    "#    1 + 5 = 6\n",
    "b = False + 16 # the value of Flase by default 0 in python\n",
    "#    0 + 16 = 16\n",
    "print(a)\n",
    "print(b)"
   ]
  },
  {
   "cell_type": "markdown",
   "id": "bbbfef0f",
   "metadata": {},
   "source": [
    "### 4. Special Literals"
   ]
  },
  {
   "cell_type": "markdown",
   "id": "df131763",
   "metadata": {},
   "source": [
    "- None is a special literal which is used when we could know the value of a variable but we want to use the variable in later of the program we assign it None. None is nothing just a sign of absent."
   ]
  },
  {
   "cell_type": "code",
   "execution_count": 4,
   "id": "19622eaf",
   "metadata": {},
   "outputs": [
    {
     "name": "stdout",
     "output_type": "stream",
     "text": [
      "None\n"
     ]
    }
   ],
   "source": [
    "h = None\n",
    "print(h)"
   ]
  },
  {
   "cell_type": "markdown",
   "id": "e3b76fa1",
   "metadata": {},
   "source": [
    "## String Concatination\n",
    "- it is a method of joining the two string togeather.\n",
    "- the (+) operator is used for string concatination."
   ]
  },
  {
   "cell_type": "code",
   "execution_count": 7,
   "id": "a6fb934d",
   "metadata": {},
   "outputs": [
    {
     "data": {
      "text/plain": [
       "'MuhammadHuzaifa'"
      ]
     },
     "execution_count": 7,
     "metadata": {},
     "output_type": "execute_result"
    }
   ],
   "source": [
    "fName = \"Muhammad\"\n",
    "lName = \"Huzaifa\"\n",
    "fName + lName"
   ]
  },
  {
   "cell_type": "code",
   "execution_count": 8,
   "id": "3c9ff5ee",
   "metadata": {},
   "outputs": [
    {
     "data": {
      "text/plain": [
       "'PakistanZindabad'"
      ]
     },
     "execution_count": 8,
     "metadata": {},
     "output_type": "execute_result"
    }
   ],
   "source": [
    "\"Pakistan\" + \"Zindabad\""
   ]
  },
  {
   "cell_type": "code",
   "execution_count": 9,
   "id": "3acc4be1",
   "metadata": {},
   "outputs": [
    {
     "ename": "TypeError",
     "evalue": "can only concatenate str (not \"int\") to str",
     "output_type": "error",
     "traceback": [
      "\u001b[1;31m---------------------------------------------------------------------------\u001b[0m",
      "\u001b[1;31mTypeError\u001b[0m                                 Traceback (most recent call last)",
      "Input \u001b[1;32mIn [9]\u001b[0m, in \u001b[0;36m<cell line: 1>\u001b[1;34m()\u001b[0m\n\u001b[1;32m----> 1\u001b[0m \u001b[38;5;124;43m\"\u001b[39;49m\u001b[38;5;124;43mMohsin\u001b[39;49m\u001b[38;5;124;43m\"\u001b[39;49m\u001b[43m \u001b[49m\u001b[38;5;241;43m+\u001b[39;49m\u001b[43m \u001b[49m\u001b[38;5;241;43m23\u001b[39;49m\n",
      "\u001b[1;31mTypeError\u001b[0m: can only concatenate str (not \"int\") to str"
     ]
    }
   ],
   "source": [
    "\"Mohsin\" + 23"
   ]
  },
  {
   "cell_type": "code",
   "execution_count": 10,
   "id": "c57d9661",
   "metadata": {},
   "outputs": [
    {
     "data": {
      "text/plain": [
       "'Mohsin23'"
      ]
     },
     "execution_count": 10,
     "metadata": {},
     "output_type": "execute_result"
    }
   ],
   "source": [
    "# to solve this we can typecast the second integer value into string with str()\n",
    "\"Mohsin\" + str(23)"
   ]
  },
  {
   "cell_type": "code",
   "execution_count": 12,
   "id": "2644acd9",
   "metadata": {},
   "outputs": [
    {
     "name": "stdout",
     "output_type": "stream",
     "text": [
      "Enter your name: Muhammad Usama\n",
      "Enter Your Year of Birth: 1999\n",
      "Your name is Muhammad Usama and your Year of Birth is 1999\n"
     ]
    }
   ],
   "source": [
    "name = input(\"Enter your name: \")\n",
    "YearOfBirth = input(\"Enter Your Year of Birth: \")\n",
    "# Here year of birth although an integer value\n",
    "# but due to console input it will be assign as string value\n",
    "print(\"Your name is \" + name + \" and your Year of Birth is \" + YearOfBirth) "
   ]
  },
  {
   "cell_type": "code",
   "execution_count": 18,
   "id": "9d42c13e",
   "metadata": {},
   "outputs": [
    {
     "name": "stdout",
     "output_type": "stream",
     "text": [
      "Enter your name: Muhammad Tahir\n",
      "Enter your age: 23\n"
     ]
    }
   ],
   "source": [
    "student_name = input(\"Enter your name: \")\n",
    "student_age = input(\"Enter your age: \")"
   ]
  },
  {
   "cell_type": "code",
   "execution_count": 19,
   "id": "51dae86b",
   "metadata": {},
   "outputs": [
    {
     "ename": "TypeError",
     "evalue": "can only concatenate str (not \"int\") to str",
     "output_type": "error",
     "traceback": [
      "\u001b[1;31m---------------------------------------------------------------------------\u001b[0m",
      "\u001b[1;31mTypeError\u001b[0m                                 Traceback (most recent call last)",
      "Input \u001b[1;32mIn [19]\u001b[0m, in \u001b[0;36m<cell line: 2>\u001b[1;34m()\u001b[0m\n\u001b[0;32m      1\u001b[0m after_10_years \u001b[38;5;241m=\u001b[39m \u001b[38;5;241m10\u001b[39m\n\u001b[1;32m----> 2\u001b[0m \u001b[43mstudent_age\u001b[49m\u001b[43m \u001b[49m\u001b[38;5;241;43m+\u001b[39;49m\u001b[43m \u001b[49m\u001b[43mafter_10_years\u001b[49m\n",
      "\u001b[1;31mTypeError\u001b[0m: can only concatenate str (not \"int\") to str"
     ]
    }
   ],
   "source": [
    "after_10_years = 10\n",
    "student_age + after_10_years\n",
    "# str           int"
   ]
  },
  {
   "cell_type": "code",
   "execution_count": 15,
   "id": "64123063",
   "metadata": {},
   "outputs": [
    {
     "name": "stdout",
     "output_type": "stream",
     "text": [
      "Enter your name: Muhammad Tahir\n",
      "Enter your age: 23\n"
     ]
    }
   ],
   "source": [
    "student_name = input(\"Enter your name: \")\n",
    "student_age = int(input(\"Enter your age: \")) \n",
    "# common sense says age should be integer value so we can typecast to int in input function"
   ]
  },
  {
   "cell_type": "code",
   "execution_count": 17,
   "id": "d586a42e",
   "metadata": {},
   "outputs": [
    {
     "data": {
      "text/plain": [
       "33"
      ]
     },
     "execution_count": 17,
     "metadata": {},
     "output_type": "execute_result"
    }
   ],
   "source": [
    "after_10_years = 10\n",
    "student_age + after_10_years\n",
    "# int           int"
   ]
  },
  {
   "cell_type": "markdown",
   "id": "9062e388",
   "metadata": {},
   "source": [
    "- when we take age as an input and the user add age in floating number so there an error generate"
   ]
  },
  {
   "cell_type": "code",
   "execution_count": 20,
   "id": "d3015458",
   "metadata": {},
   "outputs": [
    {
     "name": "stdout",
     "output_type": "stream",
     "text": [
      "Enter your age: 23.5\n"
     ]
    },
    {
     "ename": "ValueError",
     "evalue": "invalid literal for int() with base 10: '23.5'",
     "output_type": "error",
     "traceback": [
      "\u001b[1;31m---------------------------------------------------------------------------\u001b[0m",
      "\u001b[1;31mValueError\u001b[0m                                Traceback (most recent call last)",
      "Input \u001b[1;32mIn [20]\u001b[0m, in \u001b[0;36m<cell line: 1>\u001b[1;34m()\u001b[0m\n\u001b[1;32m----> 1\u001b[0m student_age \u001b[38;5;241m=\u001b[39m \u001b[38;5;28;43mint\u001b[39;49m\u001b[43m(\u001b[49m\u001b[38;5;28;43minput\u001b[39;49m\u001b[43m(\u001b[49m\u001b[38;5;124;43m\"\u001b[39;49m\u001b[38;5;124;43mEnter your age: \u001b[39;49m\u001b[38;5;124;43m\"\u001b[39;49m\u001b[43m)\u001b[49m\u001b[43m)\u001b[49m\n",
      "\u001b[1;31mValueError\u001b[0m: invalid literal for int() with base 10: '23.5'"
     ]
    }
   ],
   "source": [
    "student_age = int(input(\"Enter your age: \")) "
   ]
  },
  {
   "cell_type": "markdown",
   "id": "a1d810b1",
   "metadata": {},
   "source": [
    "- when a user enter age in float like 23.5\n",
    "- the input convert it into string like '23.5'\n",
    "- and then int() function typecast and remove string quotation like 23.5 \n",
    "- but we saw that the value is float and we have typecast it as an int so there is an error generate\n",
    "- to solve we can typecast it as a float like"
   ]
  },
  {
   "cell_type": "code",
   "execution_count": 21,
   "id": "6defed72",
   "metadata": {},
   "outputs": [
    {
     "name": "stdout",
     "output_type": "stream",
     "text": [
      "Enter your age: 23.5\n"
     ]
    }
   ],
   "source": [
    "student_age = float(input(\"Enter your age: \")) "
   ]
  },
  {
   "cell_type": "markdown",
   "id": "496fc626",
   "metadata": {},
   "source": [
    "- but we don't need float number we need an integer value so we can again typecast it int() after float()"
   ]
  },
  {
   "cell_type": "code",
   "execution_count": 22,
   "id": "827cc9b1",
   "metadata": {},
   "outputs": [
    {
     "name": "stdout",
     "output_type": "stream",
     "text": [
      "Enter your age: 23.5\n"
     ]
    }
   ],
   "source": [
    "student_age = int(float((input(\"Enter your age: \"))))"
   ]
  },
  {
   "cell_type": "code",
   "execution_count": 23,
   "id": "b83d7f93",
   "metadata": {},
   "outputs": [
    {
     "name": "stdout",
     "output_type": "stream",
     "text": [
      "23\n"
     ]
    }
   ],
   "source": [
    "print(student_age)"
   ]
  },
  {
   "cell_type": "code",
   "execution_count": 24,
   "id": "3a0f7e68",
   "metadata": {},
   "outputs": [
    {
     "name": "stdout",
     "output_type": "stream",
     "text": [
      "Enter your name: Muhmmad Tahir\n",
      "Enter your age: 23\n"
     ]
    },
    {
     "ename": "TypeError",
     "evalue": "can only concatenate str (not \"int\") to str",
     "output_type": "error",
     "traceback": [
      "\u001b[1;31m---------------------------------------------------------------------------\u001b[0m",
      "\u001b[1;31mTypeError\u001b[0m                                 Traceback (most recent call last)",
      "Input \u001b[1;32mIn [24]\u001b[0m, in \u001b[0;36m<cell line: 4>\u001b[1;34m()\u001b[0m\n\u001b[0;32m      1\u001b[0m student_name \u001b[38;5;241m=\u001b[39m \u001b[38;5;28minput\u001b[39m(\u001b[38;5;124m\"\u001b[39m\u001b[38;5;124mEnter your name: \u001b[39m\u001b[38;5;124m\"\u001b[39m)\n\u001b[0;32m      2\u001b[0m student_age \u001b[38;5;241m=\u001b[39m \u001b[38;5;28mint\u001b[39m(\u001b[38;5;28minput\u001b[39m(\u001b[38;5;124m\"\u001b[39m\u001b[38;5;124mEnter your age: \u001b[39m\u001b[38;5;124m\"\u001b[39m))\n\u001b[1;32m----> 4\u001b[0m \u001b[38;5;28mprint\u001b[39m(\u001b[38;5;124;43m\"\u001b[39;49m\u001b[38;5;124;43mYour name is \u001b[39;49m\u001b[38;5;124;43m\"\u001b[39;49m\u001b[43m \u001b[49m\u001b[38;5;241;43m+\u001b[39;49m\u001b[43m \u001b[49m\u001b[43mstudent_name\u001b[49m\u001b[43m \u001b[49m\u001b[38;5;241;43m+\u001b[39;49m\u001b[43m \u001b[49m\u001b[38;5;124;43m\"\u001b[39;49m\u001b[38;5;124;43m and your age is \u001b[39;49m\u001b[38;5;124;43m\"\u001b[39;49m\u001b[43m \u001b[49m\u001b[38;5;241;43m+\u001b[39;49m\u001b[43m \u001b[49m\u001b[43mstudent_age\u001b[49m)\n",
      "\u001b[1;31mTypeError\u001b[0m: can only concatenate str (not \"int\") to str"
     ]
    }
   ],
   "source": [
    "student_name = input(\"Enter your name: \")\n",
    "student_age = int(input(\"Enter your age: \"))\n",
    "\n",
    "print(\"Your name is \" + student_name + \" and your age is \" + student_age) "
   ]
  },
  {
   "cell_type": "code",
   "execution_count": 25,
   "id": "c46e9b42",
   "metadata": {},
   "outputs": [
    {
     "name": "stdout",
     "output_type": "stream",
     "text": [
      "Enter your name: Muhammad Tahir\n",
      "Enter your age: 23\n",
      "Your name is Muhammad Tahir and your age is 23\n"
     ]
    }
   ],
   "source": [
    "student_name = input(\"Enter your name: \")\n",
    "student_age = int(input(\"Enter your age: \"))\n",
    "\n",
    "print(\"Your name is \" + student_name + \" and your age is \" + str(student_age)) \n",
    "# solve error by typecast student age into string with str()"
   ]
  },
  {
   "cell_type": "markdown",
   "id": "c481414a",
   "metadata": {},
   "source": [
    "## String Formatting\n",
    "- Concatenation joins two strings where as formatting is a method to format a string.\n",
    "- We don't need to type cast values in formatting which we used in concatination.\n",
    "- Formatting is more convenient and easy to handle the values\n",
    "- There are two methods of string formatting.\n",
    "    - format()\n",
    "    - f-method"
   ]
  },
  {
   "cell_type": "markdown",
   "id": "a04e2b7a",
   "metadata": {},
   "source": [
    "### String Formatting using format()"
   ]
  },
  {
   "cell_type": "markdown",
   "id": "6ecb961f",
   "metadata": {},
   "source": [
    "- {} braces are called palace holders.\n",
    "- value used in {} place holders will be supplied from format() function in sequence\n",
    "- 1st place holder can hold 1st value of format() function 2nd place holder can hold 2nd value of format() function respectively. \n",
    "- format() function can have hard coded value or a variable"
   ]
  },
  {
   "cell_type": "code",
   "execution_count": 8,
   "id": "3a00a83c",
   "metadata": {},
   "outputs": [
    {
     "name": "stdout",
     "output_type": "stream",
     "text": [
      "Enter your name Muhammad Hamza\n",
      "Enter your age 12\n",
      "User name is Muhammad Hamza and age is 12\n"
     ]
    }
   ],
   "source": [
    "# variable values\n",
    "user_name = input(\"Enter your name \")\n",
    "user_age  = int(input(\"Enter your age \")) \n",
    "\n",
    "print(\"User name is {} and age is {}\".format(user_name,user_age))"
   ]
  },
  {
   "cell_type": "code",
   "execution_count": 9,
   "id": "ff289ff9",
   "metadata": {},
   "outputs": [
    {
     "name": "stdout",
     "output_type": "stream",
     "text": [
      "User name is Muhmmad Hamza and age is 12\n"
     ]
    }
   ],
   "source": [
    "# hard coded values\n",
    "print(\"User name is {} and age is {}\".format(\"Muhmmad Hamza\",12))"
   ]
  },
  {
   "cell_type": "raw",
   "id": "0366ab78",
   "metadata": {},
   "source": [
    "format() function have values and also it contains index of each value like\n",
    "format(value1, value2,...)\n",
    "index     0       1 "
   ]
  },
  {
   "cell_type": "code",
   "execution_count": 12,
   "id": "e16a5f86",
   "metadata": {
    "scrolled": false
   },
   "outputs": [
    {
     "name": "stdout",
     "output_type": "stream",
     "text": [
      "User name is Muhammad Fayyaz and age is 45\n"
     ]
    }
   ],
   "source": [
    "print(\"User name is {} and age is {}\".format(\"Muhammad Fayyaz\", 45))\n",
    "                                        #           0            1"
   ]
  },
  {
   "cell_type": "code",
   "execution_count": 16,
   "id": "16635239",
   "metadata": {},
   "outputs": [
    {
     "name": "stdout",
     "output_type": "stream",
     "text": [
      "User name is Muhammad Fayyaz and age is 45\n"
     ]
    }
   ],
   "source": [
    "# we can also add index number in place holders\n",
    "print(\"User name is {0} and age is {1}\".format(\"Muhammad Fayyaz\", 45))"
   ]
  },
  {
   "cell_type": "markdown",
   "id": "8809257b",
   "metadata": {},
   "source": [
    "- if we have more place holders than values supplied in format() function it will throw an error. "
   ]
  },
  {
   "cell_type": "code",
   "execution_count": 15,
   "id": "7c926ad4",
   "metadata": {},
   "outputs": [
    {
     "ename": "IndexError",
     "evalue": "Replacement index 2 out of range for positional args tuple",
     "output_type": "error",
     "traceback": [
      "\u001b[1;31m---------------------------------------------------------------------------\u001b[0m",
      "\u001b[1;31mIndexError\u001b[0m                                Traceback (most recent call last)",
      "Input \u001b[1;32mIn [15]\u001b[0m, in \u001b[0;36m<cell line: 1>\u001b[1;34m()\u001b[0m\n\u001b[1;32m----> 1\u001b[0m \u001b[38;5;28mprint\u001b[39m(\u001b[38;5;124;43m\"\u001b[39;49m\u001b[38;5;124;43mStudent name is \u001b[39;49m\u001b[38;5;132;43;01m{}\u001b[39;49;00m\u001b[38;5;124;43m and student age is \u001b[39;49m\u001b[38;5;132;43;01m{}\u001b[39;49;00m\u001b[38;5;124;43m. Student enroll in \u001b[39;49m\u001b[38;5;132;43;01m{}\u001b[39;49;00m\u001b[38;5;124;43m department\u001b[39;49m\u001b[38;5;124;43m\"\u001b[39;49m\u001b[38;5;241;43m.\u001b[39;49m\u001b[43mformat\u001b[49m\u001b[43m(\u001b[49m\u001b[38;5;124;43m\"\u001b[39;49m\u001b[38;5;124;43mTahir\u001b[39;49m\u001b[38;5;124;43m\"\u001b[39;49m\u001b[43m,\u001b[49m\u001b[43m \u001b[49m\u001b[38;5;241;43m23\u001b[39;49m\u001b[43m)\u001b[49m)\n",
      "\u001b[1;31mIndexError\u001b[0m: Replacement index 2 out of range for positional args tuple"
     ]
    }
   ],
   "source": [
    "print(\"Student name is {} and student age is {}. Student enroll in {} department\".format(\"Tahir\", 23))"
   ]
  },
  {
   "cell_type": "markdown",
   "id": "655412a8",
   "metadata": {},
   "source": [
    "- Using index of values in palce holder allows to reuse of same values in different placeholders in a string"
   ]
  },
  {
   "cell_type": "code",
   "execution_count": 17,
   "id": "ed991c40",
   "metadata": {},
   "outputs": [
    {
     "name": "stdout",
     "output_type": "stream",
     "text": [
      "my name is Huzaifa and i am 22 years old. Huzaifa is my name and age is 22\n"
     ]
    }
   ],
   "source": [
    "print(\"my name is {0} and i am {1} years old. {0} is my name and age is {1}\".format(\"Huzaifa\", 22))"
   ]
  },
  {
   "cell_type": "markdown",
   "id": "6abcecbd",
   "metadata": {},
   "source": [
    "### String Formatting using f-Method"
   ]
  },
  {
   "cell_type": "markdown",
   "id": "2be65728",
   "metadata": {},
   "source": [
    "- In f methods we use a f before starting a string. \n",
    "- {}{} place holders can directly take the variables. \n",
    "- This allows more flexibility in formatting a string. "
   ]
  },
  {
   "cell_type": "code",
   "execution_count": 22,
   "id": "33369890",
   "metadata": {},
   "outputs": [
    {
     "name": "stdout",
     "output_type": "stream",
     "text": [
      "Enter your name Muhammad Huzaifa\n",
      "Enter your birth date 19-08-2001\n",
      "Your name is Muhammad Huzaifa and your birth date is 19-08-2001\n"
     ]
    }
   ],
   "source": [
    "# using varibles in place holders\n",
    "user_name = input(\"Enter your name \")\n",
    "birth_date = input(\"Enter your birth date \")\n",
    "\n",
    "print(f\"Your name is {user_name} and your birth date is {birth_date}\")"
   ]
  },
  {
   "cell_type": "code",
   "execution_count": 2,
   "id": "3d2acbce",
   "metadata": {},
   "outputs": [
    {
     "name": "stdout",
     "output_type": "stream",
     "text": [
      "Hello World my name is Muhmmad Huzaifa. I was born in year 2001 in karachi. my age is 22. my matric percentage is 77.5%.\n"
     ]
    }
   ],
   "source": [
    "# using hard coded values in place holder\n",
    "print(f\"Hello World my name is Muhmmad Huzaifa. I was born in year {2001} in karachi. my age is {22}. my matric percentage is {77.5}%.\")"
   ]
  },
  {
   "cell_type": "markdown",
   "id": "dfc0d58c",
   "metadata": {},
   "source": [
    "### Multiple line strings \n",
    "- A tripple quote string allows a multiple line string with spaces and line changes as it is as you supply in string"
   ]
  },
  {
   "cell_type": "raw",
   "id": "aed4f988",
   "metadata": {},
   "source": [
    "for Example i want to print like this: \n",
    "\n",
    " __________________________________________________\n",
    "|                                                  | \n",
    "|                   ID Card                        |\n",
    "| _________________________________________________|\n",
    "|                                                  | \n",
    "|                     PIAIC                        |\n",
    "|                                                  |\n",
    "| Name : Nasir Hussain                             |\n",
    "| Father Name: Hussain                             |\n",
    "|                                                  |\n",
    "| Course: Artificial Intelligence                  |\n",
    "| Batch Year: 2022                                 |\n",
    "| Centre: Sir Syed University of Eng. & Technology |\n",
    "|                                                  |\n",
    "|__________________________________________________|"
   ]
  },
  {
   "cell_type": "code",
   "execution_count": 4,
   "id": "6de6f43d",
   "metadata": {},
   "outputs": [
    {
     "name": "stdout",
     "output_type": "stream",
     "text": [
      "Enter Your Name: Muhammad Huzaifa\n",
      "Enter Your Father Name: Muhammad Akram\n",
      "Enter Your Course Name: Artificial Intelligence (AI)\n",
      "Enter Your Batch Year2022\n",
      "Enter Your Centre: Sir Sayed University of Eng. & Technology\n"
     ]
    }
   ],
   "source": [
    "name = input(\"Enter Your Name: \")\n",
    "f_name = input(\"Enter Your Father Name: \")\n",
    "course = input(\"Enter Your Course Name: \")\n",
    "batch_Year = int(input(\"Enter Your Batch Year\"))\n",
    "centre = input(\"Enter Your Centre: \")"
   ]
  },
  {
   "cell_type": "code",
   "execution_count": 55,
   "id": "f917a4c5",
   "metadata": {},
   "outputs": [
    {
     "name": "stdout",
     "output_type": "stream",
     "text": [
      "\n",
      " _________________________________________________\n",
      "|                                                 | \n",
      "|                      ID Card                    |\n",
      "| ________________________________________________|\n",
      "|                                                 | \n",
      "|                       PIAIC                     |\n",
      "|                                                 |\n",
      "| Name : Muhammad Huzaifa                         |\n",
      "| Father Name: Muhammad Akram                     |\n",
      "|                                                 |\n",
      "| Course: Artificial Intelligence (AI)            |       \n",
      "| Batch Year: 2022                                |\n",
      "| Centre: Sir Sayed University of Eng. & Technology| \n",
      "|                                                 |\n",
      "|_________________________________________________|\n",
      "\n",
      "\n"
     ]
    }
   ],
   "source": [
    "print(f\"\"\"\n",
    " _________________________________________________\n",
    "|                                                 | \n",
    "|                      ID Card                    |\n",
    "| ________________________________________________|\n",
    "|                                                 | \n",
    "|                       PIAIC                     |\n",
    "|                                                 |\n",
    "| Name : {name          }                         |\n",
    "| Father Name: {f_name      }                     |\n",
    "|                                                 |\n",
    "| Course: {course                    }            |       \n",
    "| Batch Year: {batch_Year                       }                                |\n",
    "| Centre: {centre}| \n",
    "|                                                 |\n",
    "|_________________________________________________|\n",
    "\n",
    "\"\"\")"
   ]
  },
  {
   "cell_type": "markdown",
   "id": "50c5bbca",
   "metadata": {},
   "source": [
    "## Accessing Substring from a String\n",
    "- accessing means to extract and substring means small part of a string.\n",
    "- it means we can extract a small part of string from a complete string.\n",
    "- this can be done with two methods\n",
    "    - String indexing\n",
    "    - String Slicing"
   ]
  },
  {
   "cell_type": "markdown",
   "id": "d4869ea1",
   "metadata": {},
   "source": [
    "### String Indexing\n",
    "- In computer programming, a string is a sequence of characters. For example, \"hello\" is a string containing a sequence of characters 'h', 'e', 'l', 'l', and 'o'\n",
    "- every character has an index position which is starting from 0.\n",
    "- It means first letter in string has 0 index number which is 'h'.\n",
    "- we can use [] brackets to access substring according to its index value."
   ]
  },
  {
   "cell_type": "code",
   "execution_count": 4,
   "id": "5ee459f8",
   "metadata": {},
   "outputs": [
    {
     "name": "stdout",
     "output_type": "stream",
     "text": [
      "Hello World!\n"
     ]
    }
   ],
   "source": [
    "message = \"Hello World!\"\n",
    "#          012345678901    index 0 to 11\n",
    "print(message)"
   ]
  },
  {
   "cell_type": "code",
   "execution_count": 5,
   "id": "f147692b",
   "metadata": {},
   "outputs": [
    {
     "data": {
      "text/plain": [
       "'H'"
      ]
     },
     "execution_count": 5,
     "metadata": {},
     "output_type": "execute_result"
    }
   ],
   "source": [
    "message[0]"
   ]
  },
  {
   "cell_type": "code",
   "execution_count": 6,
   "id": "bc47479b",
   "metadata": {},
   "outputs": [
    {
     "data": {
      "text/plain": [
       "'e'"
      ]
     },
     "execution_count": 6,
     "metadata": {},
     "output_type": "execute_result"
    }
   ],
   "source": [
    "message[1]"
   ]
  },
  {
   "cell_type": "code",
   "execution_count": 7,
   "id": "0d78198d",
   "metadata": {},
   "outputs": [
    {
     "data": {
      "text/plain": [
       "'W'"
      ]
     },
     "execution_count": 7,
     "metadata": {},
     "output_type": "execute_result"
    }
   ],
   "source": [
    "message[6]"
   ]
  },
  {
   "cell_type": "code",
   "execution_count": 10,
   "id": "74e5cf21",
   "metadata": {},
   "outputs": [
    {
     "ename": "IndexError",
     "evalue": "string index out of range",
     "output_type": "error",
     "traceback": [
      "\u001b[1;31m---------------------------------------------------------------------------\u001b[0m",
      "\u001b[1;31mIndexError\u001b[0m                                Traceback (most recent call last)",
      "Input \u001b[1;32mIn [10]\u001b[0m, in \u001b[0;36m<cell line: 1>\u001b[1;34m()\u001b[0m\n\u001b[1;32m----> 1\u001b[0m \u001b[43mmessage\u001b[49m\u001b[43m[\u001b[49m\u001b[38;5;241;43m12\u001b[39;49m\u001b[43m]\u001b[49m\n",
      "\u001b[1;31mIndexError\u001b[0m: string index out of range"
     ]
    }
   ],
   "source": [
    "message[12]"
   ]
  },
  {
   "cell_type": "markdown",
   "id": "c35522cd",
   "metadata": {},
   "source": [
    "### Types of indexing\n",
    "- There are two types of indexing in python\n",
    "    - positive indexing\n",
    "    - negative indexing"
   ]
  },
  {
   "cell_type": "markdown",
   "id": "cc4605d8",
   "metadata": {},
   "source": [
    "#### Positive indexing\n",
    "- it start from 0 to onwards like \"01234....\"\n",
    "- it moves from left to right"
   ]
  },
  {
   "cell_type": "code",
   "execution_count": 11,
   "id": "f4b34200",
   "metadata": {},
   "outputs": [
    {
     "name": "stdout",
     "output_type": "stream",
     "text": [
      "d\n",
      "i\n"
     ]
    }
   ],
   "source": [
    "# positive indexing\n",
    "institute = \"Dawood University\"\n",
    "#            01234567890123456  index from 0 to 16\n",
    "print(institute[5])\n",
    "print(institute[14])"
   ]
  },
  {
   "cell_type": "markdown",
   "id": "dc8e2715",
   "metadata": {},
   "source": [
    "#### Negative indexing\n",
    "- it start from -1 to onwards like '-1-2-3-4-5...'\n",
    "- it moves form right to left\n",
    "- it mostly used to find last character of a string."
   ]
  },
  {
   "cell_type": "code",
   "execution_count": 12,
   "id": "3a82a661",
   "metadata": {},
   "outputs": [
    {
     "data": {
      "text/plain": [
       "'e'"
      ]
     },
     "execution_count": 12,
     "metadata": {},
     "output_type": "execute_result"
    }
   ],
   "source": [
    "# Negative indexing\n",
    "# -2-1-0-9-8-7-6-5-4-3-2-1-0-9-8-7-6-5-4-3-2-1\n",
    "course = \"Artificial Intellignce\"\n",
    "#   index from -1 to -22\n",
    "course[-1]"
   ]
  },
  {
   "cell_type": "code",
   "execution_count": 13,
   "id": "03a0737b",
   "metadata": {},
   "outputs": [
    {
     "data": {
      "text/plain": [
       "'A'"
      ]
     },
     "execution_count": 13,
     "metadata": {},
     "output_type": "execute_result"
    }
   ],
   "source": [
    "course[-22]"
   ]
  },
  {
   "cell_type": "code",
   "execution_count": 14,
   "id": "fd0b571d",
   "metadata": {},
   "outputs": [
    {
     "data": {
      "text/plain": [
       "'n'"
      ]
     },
     "execution_count": 14,
     "metadata": {},
     "output_type": "execute_result"
    }
   ],
   "source": [
    "course[-10]"
   ]
  },
  {
   "cell_type": "code",
   "execution_count": 15,
   "id": "47eaeef9",
   "metadata": {},
   "outputs": [
    {
     "ename": "IndexError",
     "evalue": "string index out of range",
     "output_type": "error",
     "traceback": [
      "\u001b[1;31m---------------------------------------------------------------------------\u001b[0m",
      "\u001b[1;31mIndexError\u001b[0m                                Traceback (most recent call last)",
      "Input \u001b[1;32mIn [15]\u001b[0m, in \u001b[0;36m<cell line: 1>\u001b[1;34m()\u001b[0m\n\u001b[1;32m----> 1\u001b[0m \u001b[43mcourse\u001b[49m\u001b[43m[\u001b[49m\u001b[38;5;241;43m-\u001b[39;49m\u001b[38;5;241;43m23\u001b[39;49m\u001b[43m]\u001b[49m\n",
      "\u001b[1;31mIndexError\u001b[0m: string index out of range"
     ]
    }
   ],
   "source": [
    "course[-23]"
   ]
  },
  {
   "cell_type": "markdown",
   "id": "bd4d60fa",
   "metadata": {},
   "source": [
    "### String Slicing\n",
    "- Access a range of characters in a string by using the slicing operator colon **( : )**.\n",
    "- syntax of slicing --> string_variable[starting_point : ending_point-1] "
   ]
  },
  {
   "cell_type": "code",
   "execution_count": 2,
   "id": "d8caef59",
   "metadata": {},
   "outputs": [
    {
     "name": "stdout",
     "output_type": "stream",
     "text": [
      "Pakistan is a beautiful country.\n"
     ]
    }
   ],
   "source": [
    "string = \"Pakistan is a beautiful country.\"\n",
    "print(string)"
   ]
  },
  {
   "cell_type": "code",
   "execution_count": 3,
   "id": "10bdbcd7",
   "metadata": {},
   "outputs": [
    {
     "data": {
      "text/plain": [
       "'Pakista'"
      ]
     },
     "execution_count": 3,
     "metadata": {},
     "output_type": "execute_result"
    }
   ],
   "source": [
    "# slicing with (:)\n",
    "string[0:7] \n",
    "# we always use n+1 in ending point because it not select the last index number which is specified\n",
    "# like 'pakistan' here pakistan has 0 to 7 index but when we slice it will give string upto 6 index\n",
    "#       01234567 "
   ]
  },
  {
   "cell_type": "code",
   "execution_count": 4,
   "id": "7f04859c",
   "metadata": {},
   "outputs": [
    {
     "name": "stdout",
     "output_type": "stream",
     "text": [
      "Pakistan\n"
     ]
    }
   ],
   "source": [
    "# slicing with (:) for getting 'pakistan' substring\n",
    "print(string[0:8])"
   ]
  },
  {
   "cell_type": "code",
   "execution_count": 5,
   "id": "bd15eb4f",
   "metadata": {},
   "outputs": [
    {
     "name": "stdout",
     "output_type": "stream",
     "text": [
      "beautiful\n"
     ]
    }
   ],
   "source": [
    "# slicing with (:) for getting 'beautiful' substring\n",
    "print(string[14:23])"
   ]
  },
  {
   "cell_type": "code",
   "execution_count": 9,
   "id": "717988f4",
   "metadata": {},
   "outputs": [
    {
     "name": "stdout",
     "output_type": "stream",
     "text": [
      "is a beautiful country.\n"
     ]
    }
   ],
   "source": [
    "# Variations of slicing\n",
    "# starting point is given but ending point is not considered so it will slice till to end.\n",
    "print(string[9:])"
   ]
  },
  {
   "cell_type": "code",
   "execution_count": 10,
   "id": "f8ab37be",
   "metadata": {},
   "outputs": [
    {
     "name": "stdout",
     "output_type": "stream",
     "text": [
      "Pakistan\n"
     ]
    }
   ],
   "source": [
    "# Variations of slicing\n",
    "# starting point is not considered but ending point given it will slice from starting to index point.\n",
    "print(string[:8])"
   ]
  },
  {
   "cell_type": "code",
   "execution_count": 12,
   "id": "eea0c04e",
   "metadata": {},
   "outputs": [
    {
     "name": "stdout",
     "output_type": "stream",
     "text": [
      "Pakistan is a beautiful country.\n"
     ]
    }
   ],
   "source": [
    "# Variations of slicing\n",
    "# starting point and ending point is not considered so it will slice from starting to till the end.\n",
    "print(string[:])"
   ]
  },
  {
   "cell_type": "markdown",
   "id": "3252acc6",
   "metadata": {},
   "source": [
    "- we have one more thing in slicing which steps in slicing like this string[starting:ending:steps]\n",
    "- it is used to skip the steps when slicing from staring to the end"
   ]
  },
  {
   "cell_type": "code",
   "execution_count": 13,
   "id": "c64abf6b",
   "metadata": {},
   "outputs": [
    {
     "data": {
      "text/plain": [
       "'Pksa '"
      ]
     },
     "execution_count": 13,
     "metadata": {},
     "output_type": "execute_result"
    }
   ],
   "source": [
    "string[0:10:2]"
   ]
  },
  {
   "cell_type": "code",
   "execution_count": 14,
   "id": "e6889af7",
   "metadata": {},
   "outputs": [
    {
     "data": {
      "text/plain": [
       "'Pksa sabatflcuty'"
      ]
     },
     "execution_count": 14,
     "metadata": {},
     "output_type": "execute_result"
    }
   ],
   "source": [
    "string[::2]"
   ]
  },
  {
   "cell_type": "markdown",
   "id": "e5882c3b",
   "metadata": {},
   "source": [
    "- when we use positive indexing we can't use negative steps. it will return empty string."
   ]
  },
  {
   "cell_type": "code",
   "execution_count": 16,
   "id": "0e4fb21a",
   "metadata": {},
   "outputs": [
    {
     "data": {
      "text/plain": [
       "''"
      ]
     },
     "execution_count": 16,
     "metadata": {},
     "output_type": "execute_result"
    }
   ],
   "source": [
    "string[0:8:-1]"
   ]
  },
  {
   "cell_type": "markdown",
   "id": "f6974bb6",
   "metadata": {},
   "source": [
    "- but we use negative indexing and positive steps like this below"
   ]
  },
  {
   "cell_type": "code",
   "execution_count": 20,
   "id": "bbb40cba",
   "metadata": {},
   "outputs": [
    {
     "data": {
      "text/plain": [
       "'tflcuty'"
      ]
     },
     "execution_count": 20,
     "metadata": {},
     "output_type": "execute_result"
    }
   ],
   "source": [
    "string[-14:-1:2]"
   ]
  },
  {
   "cell_type": "markdown",
   "id": "55981f50",
   "metadata": {},
   "source": [
    "- A famous syntax in python to reverse a whole string in one line of code."
   ]
  },
  {
   "cell_type": "code",
   "execution_count": 21,
   "id": "26cde892",
   "metadata": {},
   "outputs": [
    {
     "data": {
      "text/plain": [
       "'.yrtnuoc lufituaeb a si natsikaP'"
      ]
     },
     "execution_count": 21,
     "metadata": {},
     "output_type": "execute_result"
    }
   ],
   "source": [
    "string[::-1]"
   ]
  },
  {
   "cell_type": "code",
   "execution_count": 22,
   "id": "af18be4c",
   "metadata": {},
   "outputs": [
    {
     "data": {
      "text/plain": [
       "'dlroW olleH'"
      ]
     },
     "execution_count": 22,
     "metadata": {},
     "output_type": "execute_result"
    }
   ],
   "source": [
    "message = \"Hello World\"\n",
    "message[::-1]"
   ]
  },
  {
   "cell_type": "markdown",
   "id": "84b59e78",
   "metadata": {},
   "source": [
    "## String Edition & Deletion"
   ]
  },
  {
   "cell_type": "code",
   "execution_count": 23,
   "id": "7a4643e8",
   "metadata": {},
   "outputs": [
    {
     "name": "stdout",
     "output_type": "stream",
     "text": [
      "Pakistan Zindabad\n"
     ]
    }
   ],
   "source": [
    "msg = \"Pakistan Zindabad\"\n",
    "print(msg)"
   ]
  },
  {
   "cell_type": "markdown",
   "id": "0f9e99d4",
   "metadata": {},
   "source": [
    "- if i want to change first letter of string from 'P' to 'B' can it works?"
   ]
  },
  {
   "cell_type": "code",
   "execution_count": 24,
   "id": "aabafc45",
   "metadata": {},
   "outputs": [
    {
     "ename": "TypeError",
     "evalue": "'str' object does not support item assignment",
     "output_type": "error",
     "traceback": [
      "\u001b[1;31m---------------------------------------------------------------------------\u001b[0m",
      "\u001b[1;31mTypeError\u001b[0m                                 Traceback (most recent call last)",
      "Input \u001b[1;32mIn [24]\u001b[0m, in \u001b[0;36m<cell line: 1>\u001b[1;34m()\u001b[0m\n\u001b[1;32m----> 1\u001b[0m msg[\u001b[38;5;241m0\u001b[39m] \u001b[38;5;241m=\u001b[39m \u001b[38;5;124m\"\u001b[39m\u001b[38;5;124mB\u001b[39m\u001b[38;5;124m\"\u001b[39m\n",
      "\u001b[1;31mTypeError\u001b[0m: 'str' object does not support item assignment"
     ]
    }
   ],
   "source": [
    "msg[0] = \"B\""
   ]
  },
  {
   "cell_type": "markdown",
   "id": "efdc2b80",
   "metadata": {},
   "source": [
    "- No string does not support editing to change a particular character\n",
    "- beacause string is a immutable data type.\n",
    "- immutable means no change"
   ]
  },
  {
   "cell_type": "markdown",
   "id": "ce296465",
   "metadata": {},
   "source": [
    "- for this purpose to change a character in a string we can reassign the complete string."
   ]
  },
  {
   "cell_type": "code",
   "execution_count": 25,
   "id": "ea408c08",
   "metadata": {},
   "outputs": [
    {
     "name": "stdout",
     "output_type": "stream",
     "text": [
      "pakistan zindabad!\n"
     ]
    }
   ],
   "source": [
    "msg = \"pakistan zindabad!\"\n",
    "print(msg)"
   ]
  },
  {
   "cell_type": "markdown",
   "id": "fe89657e",
   "metadata": {},
   "source": [
    "- also you can not add a character to existing string"
   ]
  },
  {
   "cell_type": "code",
   "execution_count": 26,
   "id": "b1341b2a",
   "metadata": {},
   "outputs": [
    {
     "name": "stdout",
     "output_type": "stream",
     "text": [
      "pakistan zindabad!\n"
     ]
    }
   ],
   "source": [
    "print(msg)\n",
    "# pakistan zindabad!\n",
    "# 123456789012345678 index 0 to 18 but want add in index 19."
   ]
  },
  {
   "cell_type": "code",
   "execution_count": 27,
   "id": "82d57991",
   "metadata": {},
   "outputs": [
    {
     "ename": "TypeError",
     "evalue": "'str' object does not support item assignment",
     "output_type": "error",
     "traceback": [
      "\u001b[1;31m---------------------------------------------------------------------------\u001b[0m",
      "\u001b[1;31mTypeError\u001b[0m                                 Traceback (most recent call last)",
      "Input \u001b[1;32mIn [27]\u001b[0m, in \u001b[0;36m<cell line: 1>\u001b[1;34m()\u001b[0m\n\u001b[1;32m----> 1\u001b[0m msg[\u001b[38;5;241m19\u001b[39m] \u001b[38;5;241m=\u001b[39m \u001b[38;5;124m\"\u001b[39m\u001b[38;5;124mlove Pakistan\u001b[39m\u001b[38;5;124m\"\u001b[39m\n",
      "\u001b[1;31mTypeError\u001b[0m: 'str' object does not support item assignment"
     ]
    }
   ],
   "source": [
    "msg[19] = \"love Pakistan\""
   ]
  },
  {
   "cell_type": "markdown",
   "id": "90c55677",
   "metadata": {},
   "source": [
    "#### Deletion in String\n",
    "- for deletion we can use del keyword to delete the complete string."
   ]
  },
  {
   "cell_type": "code",
   "execution_count": 6,
   "id": "c1d28983",
   "metadata": {},
   "outputs": [
    {
     "name": "stdout",
     "output_type": "stream",
     "text": [
      "Please Delete this Message!.\n"
     ]
    }
   ],
   "source": [
    "note = \"Please Delete this Message!.\"\n",
    "print(note)"
   ]
  },
  {
   "cell_type": "code",
   "execution_count": 7,
   "id": "67e9e997",
   "metadata": {},
   "outputs": [],
   "source": [
    "# deletion in string \n",
    "del note"
   ]
  },
  {
   "cell_type": "code",
   "execution_count": 8,
   "id": "5f45f3b4",
   "metadata": {},
   "outputs": [
    {
     "ename": "NameError",
     "evalue": "name 'note' is not defined",
     "output_type": "error",
     "traceback": [
      "\u001b[1;31m---------------------------------------------------------------------------\u001b[0m",
      "\u001b[1;31mNameError\u001b[0m                                 Traceback (most recent call last)",
      "Input \u001b[1;32mIn [8]\u001b[0m, in \u001b[0;36m<cell line: 1>\u001b[1;34m()\u001b[0m\n\u001b[1;32m----> 1\u001b[0m \u001b[38;5;28mprint\u001b[39m(\u001b[43mnote\u001b[49m)\n",
      "\u001b[1;31mNameError\u001b[0m: name 'note' is not defined"
     ]
    }
   ],
   "source": [
    "print(note)"
   ]
  },
  {
   "cell_type": "code",
   "execution_count": 9,
   "id": "5749327b",
   "metadata": {},
   "outputs": [
    {
     "ename": "TypeError",
     "evalue": "'str' object doesn't support item deletion",
     "output_type": "error",
     "traceback": [
      "\u001b[1;31m---------------------------------------------------------------------------\u001b[0m",
      "\u001b[1;31mTypeError\u001b[0m                                 Traceback (most recent call last)",
      "Input \u001b[1;32mIn [9]\u001b[0m, in \u001b[0;36m<cell line: 3>\u001b[1;34m()\u001b[0m\n\u001b[0;32m      1\u001b[0m \u001b[38;5;66;03m# similar to above we can not delete one character from a string.\u001b[39;00m\n\u001b[0;32m      2\u001b[0m note \u001b[38;5;241m=\u001b[39m \u001b[38;5;124m\"\u001b[39m\u001b[38;5;124mDon\u001b[39m\u001b[38;5;124m'\u001b[39m\u001b[38;5;124mt Delete Please!\u001b[39m\u001b[38;5;124m\"\u001b[39m\n\u001b[1;32m----> 3\u001b[0m \u001b[38;5;28;01mdel\u001b[39;00m note[\u001b[38;5;241m0\u001b[39m]\n",
      "\u001b[1;31mTypeError\u001b[0m: 'str' object doesn't support item deletion"
     ]
    }
   ],
   "source": [
    "# similar to above we can not delete one character from a string.\n",
    "note = \"Don't Delete Please!\"\n",
    "del note[0]"
   ]
  },
  {
   "cell_type": "code",
   "execution_count": 10,
   "id": "bf1c063b",
   "metadata": {},
   "outputs": [
    {
     "ename": "TypeError",
     "evalue": "'str' object does not support item deletion",
     "output_type": "error",
     "traceback": [
      "\u001b[1;31m---------------------------------------------------------------------------\u001b[0m",
      "\u001b[1;31mTypeError\u001b[0m                                 Traceback (most recent call last)",
      "Input \u001b[1;32mIn [10]\u001b[0m, in \u001b[0;36m<cell line: 1>\u001b[1;34m()\u001b[0m\n\u001b[1;32m----> 1\u001b[0m \u001b[38;5;28;01mdel\u001b[39;00m note[\u001b[38;5;241m0\u001b[39m:\u001b[38;5;241m3\u001b[39m]\n",
      "\u001b[1;31mTypeError\u001b[0m: 'str' object does not support item deletion"
     ]
    }
   ],
   "source": [
    "del note[0:3]"
   ]
  },
  {
   "cell_type": "markdown",
   "id": "9371f23c",
   "metadata": {},
   "source": [
    "## String Operation\n",
    "- Artithmetic Operations\n",
    "- Comparision operations\n",
    "- Membership operators"
   ]
  },
  {
   "cell_type": "code",
   "execution_count": 11,
   "id": "b756a86a",
   "metadata": {},
   "outputs": [
    {
     "data": {
      "text/plain": [
       "'Hello World!'"
      ]
     },
     "execution_count": 11,
     "metadata": {},
     "output_type": "execute_result"
    }
   ],
   "source": [
    "# Airthmetic Operation have two operators used in string (+) and (*)\n",
    "# (+) which know n for string cancatination\n",
    "\"Hello\" + \" \" + \"World!\""
   ]
  },
  {
   "cell_type": "code",
   "execution_count": 14,
   "id": "1d434eae",
   "metadata": {},
   "outputs": [
    {
     "name": "stdout",
     "output_type": "stream",
     "text": [
      "******************************\n"
     ]
    }
   ],
   "source": [
    "# (*) operator is used in String\n",
    "print(\"*\" * 30)"
   ]
  },
  {
   "cell_type": "code",
   "execution_count": 15,
   "id": "ee43f15a",
   "metadata": {},
   "outputs": [
    {
     "name": "stdout",
     "output_type": "stream",
     "text": [
      "Hello World Hello World Hello World \n"
     ]
    }
   ],
   "source": [
    "print(\"Hello World \"*3)"
   ]
  },
  {
   "cell_type": "code",
   "execution_count": 16,
   "id": "5180c7f0",
   "metadata": {},
   "outputs": [
    {
     "data": {
      "text/plain": [
       "True"
      ]
     },
     "execution_count": 16,
     "metadata": {},
     "output_type": "execute_result"
    }
   ],
   "source": [
    "# Comparision operators are used to compare two string with each other and give boolean result\n",
    "\"Hello\" == \"Hello\""
   ]
  },
  {
   "cell_type": "code",
   "execution_count": 17,
   "id": "05acb26b",
   "metadata": {},
   "outputs": [
    {
     "data": {
      "text/plain": [
       "False"
      ]
     },
     "execution_count": 17,
     "metadata": {},
     "output_type": "execute_result"
    }
   ],
   "source": [
    "\"Hello\" == \"World\""
   ]
  },
  {
   "cell_type": "code",
   "execution_count": 18,
   "id": "073d1473",
   "metadata": {},
   "outputs": [
    {
     "data": {
      "text/plain": [
       "True"
      ]
     },
     "execution_count": 18,
     "metadata": {},
     "output_type": "execute_result"
    }
   ],
   "source": [
    "\"Hello\" != \"Germany\""
   ]
  },
  {
   "cell_type": "code",
   "execution_count": 19,
   "id": "61bed0f1",
   "metadata": {},
   "outputs": [
    {
     "data": {
      "text/plain": [
       "False"
      ]
     },
     "execution_count": 19,
     "metadata": {},
     "output_type": "execute_result"
    }
   ],
   "source": [
    "\"hello\" != \"hello\""
   ]
  },
  {
   "cell_type": "code",
   "execution_count": 20,
   "id": "d8c57e98",
   "metadata": {},
   "outputs": [
    {
     "data": {
      "text/plain": [
       "False"
      ]
     },
     "execution_count": 20,
     "metadata": {},
     "output_type": "execute_result"
    }
   ],
   "source": [
    "\"Germany\" > \"New Zeland\"\n",
    "# Lexiographicaly which means in dictionary which word comes first\n",
    "# in python which word comes first is smaller than the word comes last in dictionary"
   ]
  },
  {
   "cell_type": "code",
   "execution_count": 21,
   "id": "77efff67",
   "metadata": {},
   "outputs": [
    {
     "data": {
      "text/plain": [
       "False"
      ]
     },
     "execution_count": 21,
     "metadata": {},
     "output_type": "execute_result"
    }
   ],
   "source": [
    "\"New Zeland\" < \"England\""
   ]
  },
  {
   "cell_type": "code",
   "execution_count": 22,
   "id": "c37d14d3",
   "metadata": {},
   "outputs": [
    {
     "data": {
      "text/plain": [
       "True"
      ]
     },
     "execution_count": 22,
     "metadata": {},
     "output_type": "execute_result"
    }
   ],
   "source": [
    "\"USA\" > \"Pakistan\""
   ]
  },
  {
   "cell_type": "code",
   "execution_count": 23,
   "id": "271b58b1",
   "metadata": {},
   "outputs": [
    {
     "data": {
      "text/plain": [
       "True"
      ]
     },
     "execution_count": 23,
     "metadata": {},
     "output_type": "execute_result"
    }
   ],
   "source": [
    "# Membership operators used to check substring is present in a string\n",
    "name =\"Muhammad Huzaifa\"\n",
    "\"Huzaifa\" in name"
   ]
  },
  {
   "cell_type": "code",
   "execution_count": 24,
   "id": "bf947c98",
   "metadata": {},
   "outputs": [
    {
     "data": {
      "text/plain": [
       "True"
      ]
     },
     "execution_count": 24,
     "metadata": {},
     "output_type": "execute_result"
    }
   ],
   "source": [
    "\"M\" in name"
   ]
  },
  {
   "cell_type": "code",
   "execution_count": 25,
   "id": "f29f446f",
   "metadata": {},
   "outputs": [
    {
     "data": {
      "text/plain": [
       "False"
      ]
     },
     "execution_count": 25,
     "metadata": {},
     "output_type": "execute_result"
    }
   ],
   "source": [
    "\"g\" in name"
   ]
  },
  {
   "cell_type": "code",
   "execution_count": 26,
   "id": "0cc6b735",
   "metadata": {},
   "outputs": [
    {
     "data": {
      "text/plain": [
       "False"
      ]
     },
     "execution_count": 26,
     "metadata": {},
     "output_type": "execute_result"
    }
   ],
   "source": [
    "\"Muhammad\" not in name"
   ]
  },
  {
   "cell_type": "code",
   "execution_count": 28,
   "id": "f7363550",
   "metadata": {},
   "outputs": [
    {
     "data": {
      "text/plain": [
       "True"
      ]
     },
     "execution_count": 28,
     "metadata": {},
     "output_type": "execute_result"
    }
   ],
   "source": [
    "\"F\" not in name"
   ]
  },
  {
   "cell_type": "code",
   "execution_count": 29,
   "id": "4474a40f",
   "metadata": {},
   "outputs": [
    {
     "data": {
      "text/plain": [
       "True"
      ]
     },
     "execution_count": 29,
     "metadata": {},
     "output_type": "execute_result"
    }
   ],
   "source": [
    "\"zafi\" not in name"
   ]
  },
  {
   "cell_type": "markdown",
   "id": "26bf6581",
   "metadata": {},
   "source": [
    "## String Methods/Functions"
   ]
  },
  {
   "cell_type": "markdown",
   "id": "85aa52f9",
   "metadata": {},
   "source": [
    "### Common Function\n",
    "- len()\n",
    "- max()\n",
    "- min()\n",
    "- sorted()"
   ]
  },
  {
   "cell_type": "code",
   "execution_count": 1,
   "id": "c3e91507",
   "metadata": {},
   "outputs": [
    {
     "data": {
      "text/plain": [
       "7"
      ]
     },
     "execution_count": 1,
     "metadata": {},
     "output_type": "execute_result"
    }
   ],
   "source": [
    "# len() ---> used to find length of characters in a string\n",
    "city = \"karachi\"\n",
    "len(city)"
   ]
  },
  {
   "cell_type": "code",
   "execution_count": 2,
   "id": "e810a90f",
   "metadata": {},
   "outputs": [
    {
     "data": {
      "text/plain": [
       "'r'"
      ]
     },
     "execution_count": 2,
     "metadata": {},
     "output_type": "execute_result"
    }
   ],
   "source": [
    "# max() ---> gives you biggest character according to ASCII Values\n",
    "max(city)"
   ]
  },
  {
   "cell_type": "code",
   "execution_count": 3,
   "id": "51b08f2c",
   "metadata": {},
   "outputs": [
    {
     "data": {
      "text/plain": [
       "'a'"
      ]
     },
     "execution_count": 3,
     "metadata": {},
     "output_type": "execute_result"
    }
   ],
   "source": [
    "# min() ---> gives you smallest character according to ASCII Values\n",
    "min(city)"
   ]
  },
  {
   "cell_type": "code",
   "execution_count": 4,
   "id": "8c1f53bb",
   "metadata": {},
   "outputs": [
    {
     "data": {
      "text/plain": [
       "['a', 'a', 'c', 'h', 'i', 'k', 'r']"
      ]
     },
     "execution_count": 4,
     "metadata": {},
     "output_type": "execute_result"
    }
   ],
   "source": [
    "# sorted() ---> it will sort string character in ascending order according to ASCII values\n",
    "# it always return a list in output\n",
    "sorted(city)"
   ]
  },
  {
   "cell_type": "code",
   "execution_count": 5,
   "id": "085b6f04",
   "metadata": {},
   "outputs": [
    {
     "data": {
      "text/plain": [
       "['r', 'k', 'i', 'h', 'c', 'a', 'a']"
      ]
     },
     "execution_count": 5,
     "metadata": {},
     "output_type": "execute_result"
    }
   ],
   "source": [
    "# For descending order \n",
    "sorted(city, reverse = True)"
   ]
  },
  {
   "cell_type": "markdown",
   "id": "43bbd2a7",
   "metadata": {},
   "source": [
    "### Capitalize/Title/Upper/Lower/Swapcase"
   ]
  },
  {
   "cell_type": "code",
   "execution_count": 10,
   "id": "36cce7c3",
   "metadata": {},
   "outputs": [
    {
     "data": {
      "text/plain": [
       "'Karachi'"
      ]
     },
     "execution_count": 10,
     "metadata": {},
     "output_type": "execute_result"
    }
   ],
   "source": [
    "# capitalize() ---> it is uesd to capital first alphabet or character in a string\n",
    "city.capitalize()"
   ]
  },
  {
   "cell_type": "code",
   "execution_count": 11,
   "id": "4a897332",
   "metadata": {},
   "outputs": [
    {
     "name": "stdout",
     "output_type": "stream",
     "text": [
      "karachi\n"
     ]
    }
   ],
   "source": [
    "# but it will not change original string\n",
    "print(city)"
   ]
  },
  {
   "cell_type": "code",
   "execution_count": 12,
   "id": "46e60e2f",
   "metadata": {},
   "outputs": [
    {
     "data": {
      "text/plain": [
       "'Today is sunday'"
      ]
     },
     "execution_count": 12,
     "metadata": {},
     "output_type": "execute_result"
    }
   ],
   "source": [
    "\"today is sunday\".capitalize()"
   ]
  },
  {
   "cell_type": "code",
   "execution_count": 14,
   "id": "59106b7b",
   "metadata": {},
   "outputs": [
    {
     "data": {
      "text/plain": [
       "'Today Is Sunday'"
      ]
     },
     "execution_count": 14,
     "metadata": {},
     "output_type": "execute_result"
    }
   ],
   "source": [
    "# Title() ---> it will capaital first letter of each word in the string\n",
    "\"today is sunday\".title()"
   ]
  },
  {
   "cell_type": "code",
   "execution_count": 15,
   "id": "028ff0e5",
   "metadata": {},
   "outputs": [
    {
     "data": {
      "text/plain": [
       "'KARACHI'"
      ]
     },
     "execution_count": 15,
     "metadata": {},
     "output_type": "execute_result"
    }
   ],
   "source": [
    "# Upper() ---> it will converts whole string to uppercase\n",
    "city.upper()"
   ]
  },
  {
   "cell_type": "code",
   "execution_count": 16,
   "id": "ed9bb339",
   "metadata": {},
   "outputs": [
    {
     "data": {
      "text/plain": [
       "'piaic'"
      ]
     },
     "execution_count": 16,
     "metadata": {},
     "output_type": "execute_result"
    }
   ],
   "source": [
    "# lower() ---> it will converts whole string to lowercase\n",
    "\"PIAIC\".lower()"
   ]
  },
  {
   "cell_type": "code",
   "execution_count": 17,
   "id": "faa9989f",
   "metadata": {},
   "outputs": [
    {
     "data": {
      "text/plain": [
       "'kArAcHI'"
      ]
     },
     "execution_count": 17,
     "metadata": {},
     "output_type": "execute_result"
    }
   ],
   "source": [
    "# swapcase() ---> it will converts lowercase to uppercase & Uppercase to lowercase in a string\n",
    "\"KaRaChi\".swapcase()"
   ]
  },
  {
   "cell_type": "markdown",
   "id": "5d70589e",
   "metadata": {},
   "source": [
    "### Count"
   ]
  },
  {
   "cell_type": "code",
   "execution_count": 18,
   "id": "55537630",
   "metadata": {},
   "outputs": [
    {
     "data": {
      "text/plain": [
       "1"
      ]
     },
     "execution_count": 18,
     "metadata": {},
     "output_type": "execute_result"
    }
   ],
   "source": [
    "# count() ---> it will gives you count/occurance of a substring in a string\n",
    "\"Today is Sunday\".count(\"S\")"
   ]
  },
  {
   "cell_type": "code",
   "execution_count": 20,
   "id": "1d05fa1a",
   "metadata": {},
   "outputs": [
    {
     "data": {
      "text/plain": [
       "1"
      ]
     },
     "execution_count": 20,
     "metadata": {},
     "output_type": "execute_result"
    }
   ],
   "source": [
    "# it can also use for multiple characters\n",
    "\"Today is Raining\".count(\"Rain\")"
   ]
  },
  {
   "cell_type": "code",
   "execution_count": 21,
   "id": "e04d186c",
   "metadata": {},
   "outputs": [
    {
     "data": {
      "text/plain": [
       "0"
      ]
     },
     "execution_count": 21,
     "metadata": {},
     "output_type": "execute_result"
    }
   ],
   "source": [
    "\"Today is Raining\".count(\"rain\")"
   ]
  },
  {
   "cell_type": "code",
   "execution_count": 22,
   "id": "41c06923",
   "metadata": {},
   "outputs": [
    {
     "data": {
      "text/plain": [
       "1"
      ]
     },
     "execution_count": 22,
     "metadata": {},
     "output_type": "execute_result"
    }
   ],
   "source": [
    "\"Today is Raining\".count(\"ing\")"
   ]
  },
  {
   "cell_type": "code",
   "execution_count": 23,
   "id": "4f07ecfc",
   "metadata": {},
   "outputs": [
    {
     "data": {
      "text/plain": [
       "3"
      ]
     },
     "execution_count": 23,
     "metadata": {},
     "output_type": "execute_result"
    }
   ],
   "source": [
    "\"Today is Raining\".count(\"i\")"
   ]
  },
  {
   "cell_type": "markdown",
   "id": "0dd45ff5",
   "metadata": {},
   "source": [
    "### Find/Index"
   ]
  },
  {
   "cell_type": "code",
   "execution_count": 24,
   "id": "fcd4839b",
   "metadata": {},
   "outputs": [
    {
     "data": {
      "text/plain": [
       "9"
      ]
     },
     "execution_count": 24,
     "metadata": {},
     "output_type": "execute_result"
    }
   ],
   "source": [
    "# find() ---> it will gives you the index of first occurrence of substring\n",
    "\"Today is Sunday\".find(\"S\")"
   ]
  },
  {
   "cell_type": "code",
   "execution_count": 25,
   "id": "bc977357",
   "metadata": {},
   "outputs": [
    {
     "data": {
      "text/plain": [
       "9"
      ]
     },
     "execution_count": 25,
     "metadata": {},
     "output_type": "execute_result"
    }
   ],
   "source": [
    "\"Today is Sunday\".find(\"Sunday\")"
   ]
  },
  {
   "cell_type": "code",
   "execution_count": 26,
   "id": "03961a0c",
   "metadata": {},
   "outputs": [
    {
     "data": {
      "text/plain": [
       "2"
      ]
     },
     "execution_count": 26,
     "metadata": {},
     "output_type": "execute_result"
    }
   ],
   "source": [
    "\"Today is Sunday\".find(\"day\")"
   ]
  },
  {
   "cell_type": "code",
   "execution_count": 27,
   "id": "6163e464",
   "metadata": {},
   "outputs": [
    {
     "data": {
      "text/plain": [
       "3"
      ]
     },
     "execution_count": 27,
     "metadata": {},
     "output_type": "execute_result"
    }
   ],
   "source": [
    "\"Today is Sunday\".find(\"a\")"
   ]
  },
  {
   "cell_type": "code",
   "execution_count": 29,
   "id": "f119853b",
   "metadata": {},
   "outputs": [
    {
     "data": {
      "text/plain": [
       "-1"
      ]
     },
     "execution_count": 29,
     "metadata": {},
     "output_type": "execute_result"
    }
   ],
   "source": [
    "# if you find any substring that is not existing it will gives you -1\n",
    "\"Today is Sunday\".find(\"b\")"
   ]
  },
  {
   "cell_type": "code",
   "execution_count": 30,
   "id": "051155d0",
   "metadata": {},
   "outputs": [
    {
     "data": {
      "text/plain": [
       "9"
      ]
     },
     "execution_count": 30,
     "metadata": {},
     "output_type": "execute_result"
    }
   ],
   "source": [
    "# index() ---> similar to find() use to find index of a substring\n",
    "\"Today is Sunday\".index(\"S\")"
   ]
  },
  {
   "cell_type": "code",
   "execution_count": 31,
   "id": "443a162d",
   "metadata": {},
   "outputs": [
    {
     "ename": "ValueError",
     "evalue": "substring not found",
     "output_type": "error",
     "traceback": [
      "\u001b[1;31m---------------------------------------------------------------------------\u001b[0m",
      "\u001b[1;31mValueError\u001b[0m                                Traceback (most recent call last)",
      "Input \u001b[1;32mIn [31]\u001b[0m, in \u001b[0;36m<cell line: 4>\u001b[1;34m()\u001b[0m\n\u001b[0;32m      1\u001b[0m \u001b[38;5;66;03m# differnce between find() and index() is that \u001b[39;00m\n\u001b[0;32m      2\u001b[0m \u001b[38;5;66;03m# if a substring is not exist in string find() will return -1\u001b[39;00m\n\u001b[0;32m      3\u001b[0m \u001b[38;5;66;03m# but if a substring is not exist in string index() it will return an error\u001b[39;00m\n\u001b[1;32m----> 4\u001b[0m \u001b[38;5;124;43m\"\u001b[39;49m\u001b[38;5;124;43mToday is Sunday\u001b[39;49m\u001b[38;5;124;43m\"\u001b[39;49m\u001b[38;5;241;43m.\u001b[39;49m\u001b[43mindex\u001b[49m\u001b[43m(\u001b[49m\u001b[38;5;124;43m\"\u001b[39;49m\u001b[38;5;124;43mb\u001b[39;49m\u001b[38;5;124;43m\"\u001b[39;49m\u001b[43m)\u001b[49m\n",
      "\u001b[1;31mValueError\u001b[0m: substring not found"
     ]
    }
   ],
   "source": [
    "# differnce between find() and index() is that \n",
    "# if a substring is not exist in string find() will return -1\n",
    "# but if a substring is not exist in string index() it will return an error\n",
    "\"Today is Sunday\".index(\"b\")"
   ]
  },
  {
   "cell_type": "markdown",
   "id": "133ecd59",
   "metadata": {},
   "source": [
    "### endswith/startwith"
   ]
  },
  {
   "cell_type": "code",
   "execution_count": 32,
   "id": "01c51dac",
   "metadata": {},
   "outputs": [
    {
     "data": {
      "text/plain": [
       "True"
      ]
     },
     "execution_count": 32,
     "metadata": {},
     "output_type": "execute_result"
    }
   ],
   "source": [
    "# endswith() ---> Checks if String Ends with the Specified substring\n",
    "\"Today is Raining\".endswith(\"g\")"
   ]
  },
  {
   "cell_type": "code",
   "execution_count": 33,
   "id": "283c6905",
   "metadata": {},
   "outputs": [
    {
     "data": {
      "text/plain": [
       "True"
      ]
     },
     "execution_count": 33,
     "metadata": {},
     "output_type": "execute_result"
    }
   ],
   "source": [
    "\"Today is Raining\".endswith(\"ing\")"
   ]
  },
  {
   "cell_type": "code",
   "execution_count": 34,
   "id": "6310a0db",
   "metadata": {},
   "outputs": [
    {
     "data": {
      "text/plain": [
       "False"
      ]
     },
     "execution_count": 34,
     "metadata": {},
     "output_type": "execute_result"
    }
   ],
   "source": [
    "\"Today is Raining\".endswith(\"f\")"
   ]
  },
  {
   "cell_type": "code",
   "execution_count": 35,
   "id": "3eeb476c",
   "metadata": {},
   "outputs": [
    {
     "data": {
      "text/plain": [
       "True"
      ]
     },
     "execution_count": 35,
     "metadata": {},
     "output_type": "execute_result"
    }
   ],
   "source": [
    "# startswith() ---> Checks if String Starts with the Specified substring\n",
    "\"Today is Raining\".startswith(\"Today\")"
   ]
  },
  {
   "cell_type": "code",
   "execution_count": 1,
   "id": "01aab983",
   "metadata": {},
   "outputs": [
    {
     "data": {
      "text/plain": [
       "True"
      ]
     },
     "execution_count": 1,
     "metadata": {},
     "output_type": "execute_result"
    }
   ],
   "source": [
    "# startswith() ---> Checks if String Starts with the Specified substring\n",
    "\"Today is Raining\".startswith(\"T\")"
   ]
  },
  {
   "cell_type": "markdown",
   "id": "57d102a6",
   "metadata": {},
   "source": [
    "### isalmum/isalpha/isdecimal/isdigit/isidentifier "
   ]
  },
  {
   "cell_type": "code",
   "execution_count": 3,
   "id": "b01db819",
   "metadata": {},
   "outputs": [
    {
     "data": {
      "text/plain": [
       "True"
      ]
     },
     "execution_count": 3,
     "metadata": {},
     "output_type": "execute_result"
    }
   ],
   "source": [
    "# isalnum() ---> it checks Checks Alphanumeric Character in string\n",
    "\"House 298\".isalnum()"
   ]
  },
  {
   "cell_type": "code",
   "execution_count": 4,
   "id": "b5c28515",
   "metadata": {},
   "outputs": [
    {
     "data": {
      "text/plain": [
       "False"
      ]
     },
     "execution_count": 4,
     "metadata": {},
     "output_type": "execute_result"
    }
   ],
   "source": [
    "# if string contains special charcaters it will return false\n",
    "\"House # 298\".isalnum()"
   ]
  },
  {
   "cell_type": "code",
   "execution_count": 6,
   "id": "e8829ecb",
   "metadata": {},
   "outputs": [
    {
     "data": {
      "text/plain": [
       "True"
      ]
     },
     "execution_count": 6,
     "metadata": {},
     "output_type": "execute_result"
    }
   ],
   "source": [
    "# isalpha() ---> Checks if All Characters are Alphabets in the string\n",
    "\"IamlivinginHouse\".isalpha()"
   ]
  },
  {
   "cell_type": "code",
   "execution_count": 7,
   "id": "3e15629c",
   "metadata": {},
   "outputs": [
    {
     "data": {
      "text/plain": [
       "False"
      ]
     },
     "execution_count": 7,
     "metadata": {},
     "output_type": "execute_result"
    }
   ],
   "source": [
    "# it gives false we use space between words\n",
    "\"I am living in House\".isalpha()"
   ]
  },
  {
   "cell_type": "code",
   "execution_count": 8,
   "id": "a203e384",
   "metadata": {},
   "outputs": [
    {
     "data": {
      "text/plain": [
       "True"
      ]
     },
     "execution_count": 8,
     "metadata": {},
     "output_type": "execute_result"
    }
   ],
   "source": [
    "# isdecimal() --> Checks Decimal Characters in string\n",
    "\"205\".isdecimal()"
   ]
  },
  {
   "cell_type": "code",
   "execution_count": 10,
   "id": "134d6b0a",
   "metadata": {},
   "outputs": [
    {
     "data": {
      "text/plain": [
       "False"
      ]
     },
     "execution_count": 10,
     "metadata": {},
     "output_type": "execute_result"
    }
   ],
   "source": [
    "\"205A\".isdecimal()"
   ]
  },
  {
   "cell_type": "code",
   "execution_count": 12,
   "id": "32bddefa",
   "metadata": {},
   "outputs": [
    {
     "data": {
      "text/plain": [
       "True"
      ]
     },
     "execution_count": 12,
     "metadata": {},
     "output_type": "execute_result"
    }
   ],
   "source": [
    "# isdigit() ---> Checks Digit Characters in string\n",
    "\"2023\".isdigit()"
   ]
  },
  {
   "cell_type": "code",
   "execution_count": 14,
   "id": "a06c89f8",
   "metadata": {},
   "outputs": [
    {
     "data": {
      "text/plain": [
       "False"
      ]
     },
     "execution_count": 14,
     "metadata": {},
     "output_type": "execute_result"
    }
   ],
   "source": [
    "\"2A\".isdigit()"
   ]
  },
  {
   "cell_type": "code",
   "execution_count": 15,
   "id": "0fb78c13",
   "metadata": {},
   "outputs": [
    {
     "data": {
      "text/plain": [
       "False"
      ]
     },
     "execution_count": 15,
     "metadata": {},
     "output_type": "execute_result"
    }
   ],
   "source": [
    "# isidentifier() ---> Checks for Valid Identifier\n",
    "\"first name\".isidentifier()"
   ]
  },
  {
   "cell_type": "code",
   "execution_count": 16,
   "id": "3d58a257",
   "metadata": {},
   "outputs": [
    {
     "data": {
      "text/plain": [
       "True"
      ]
     },
     "execution_count": 16,
     "metadata": {},
     "output_type": "execute_result"
    }
   ],
   "source": [
    "# we can not use space in variable name \n",
    "\"first_name\".isidentifier()"
   ]
  },
  {
   "cell_type": "markdown",
   "id": "faadefdc",
   "metadata": {},
   "source": [
    "### Split"
   ]
  },
  {
   "cell_type": "code",
   "execution_count": 17,
   "id": "a2b861e3",
   "metadata": {},
   "outputs": [
    {
     "data": {
      "text/plain": [
       "['My', 'Favorite', 'Cricketer', 'is', 'Shahid', 'Afridi']"
      ]
     },
     "execution_count": 17,
     "metadata": {},
     "output_type": "execute_result"
    }
   ],
   "source": [
    "# split() ---> it will Splits String from Left\n",
    "# it will converts all words into a list.\n",
    "\"My Favorite Cricketer is Shahid Afridi\".split()"
   ]
  },
  {
   "cell_type": "code",
   "execution_count": 19,
   "id": "8d6ab7a3",
   "metadata": {},
   "outputs": [
    {
     "data": {
      "text/plain": [
       "['My Favor', 'te Cr', 'cketer ', 's Shah', 'd Afr', 'd', '']"
      ]
     },
     "execution_count": 19,
     "metadata": {},
     "output_type": "execute_result"
    }
   ],
   "source": [
    "# we can split with any character which is exist in string\n",
    "\"My Favorite Cricketer is Shahid Afridi\".split(\"i\")\n",
    "# when interperator read i in string it split and move next"
   ]
  },
  {
   "cell_type": "code",
   "execution_count": 21,
   "id": "c461b911",
   "metadata": {},
   "outputs": [
    {
     "data": {
      "text/plain": [
       "['My Favorite Cricketer is Shahid Afridi']"
      ]
     },
     "execution_count": 21,
     "metadata": {},
     "output_type": "execute_result"
    }
   ],
   "source": [
    "# we can split with any character which is not exist in string. it will return whole string\n",
    "\"My Favorite Cricketer is Shahid Afridi\".split(\"g\")"
   ]
  },
  {
   "cell_type": "markdown",
   "id": "24944195",
   "metadata": {},
   "source": [
    "### join"
   ]
  },
  {
   "cell_type": "code",
   "execution_count": 26,
   "id": "0915fb3d",
   "metadata": {},
   "outputs": [
    {
     "name": "stdout",
     "output_type": "stream",
     "text": [
      "Python is a fun programming language\n"
     ]
    }
   ],
   "source": [
    "# join() ---> Returns a Concatenated String\n",
    "text = ['Python', 'is', 'a', 'fun', 'programming', 'language']\n",
    "# join elements of text with space\n",
    "print(' '.join(text))"
   ]
  },
  {
   "cell_type": "code",
   "execution_count": 27,
   "id": "79776285",
   "metadata": {},
   "outputs": [
    {
     "name": "stdout",
     "output_type": "stream",
     "text": [
      "Python/is/a/fun/programming/language\n"
     ]
    }
   ],
   "source": [
    "text = ['Python', 'is', 'a', 'fun', 'programming', 'language']\n",
    "# join elements of text with space\n",
    "print('/'.join(text))"
   ]
  },
  {
   "cell_type": "code",
   "execution_count": 28,
   "id": "a9cd19c0",
   "metadata": {},
   "outputs": [
    {
     "name": "stdout",
     "output_type": "stream",
     "text": [
      "Java-is-not-a-fun-programming-language\n"
     ]
    }
   ],
   "source": [
    "text = ['Java', 'is', 'not', 'a', 'fun', 'programming', 'language']\n",
    "# join elements of text with space\n",
    "print('-'.join(text))"
   ]
  },
  {
   "cell_type": "markdown",
   "id": "f851927c",
   "metadata": {},
   "source": [
    "### Replace"
   ]
  },
  {
   "cell_type": "code",
   "execution_count": 29,
   "id": "d28921c9",
   "metadata": {},
   "outputs": [
    {
     "data": {
      "text/plain": [
       "'My name is Muhammad Tahir'"
      ]
     },
     "execution_count": 29,
     "metadata": {},
     "output_type": "execute_result"
    }
   ],
   "source": [
    "# replace() ---> it replaces each matching occurrence of a substring with another string.\n",
    "\"My name is Muhammad Huzaifa\".replace(\"Huzaifa\", \"Tahir\")"
   ]
  },
  {
   "cell_type": "code",
   "execution_count": 30,
   "id": "fafc90f9",
   "metadata": {},
   "outputs": [
    {
     "data": {
      "text/plain": [
       "'My favorite Singer is Arijit Singh.'"
      ]
     },
     "execution_count": 30,
     "metadata": {},
     "output_type": "execute_result"
    }
   ],
   "source": [
    "# it will not change in the original value of variable until reassign\n",
    "text = \"My favorite Singer is Atif Aslam.\"\n",
    "text.replace(\"Atif Aslam\", \"Arijit Singh\")"
   ]
  },
  {
   "cell_type": "code",
   "execution_count": 31,
   "id": "0fa386b2",
   "metadata": {},
   "outputs": [
    {
     "name": "stdout",
     "output_type": "stream",
     "text": [
      "My favorite Singer is Atif Aslam.\n"
     ]
    }
   ],
   "source": [
    "# now i print text\n",
    "print(text)"
   ]
  },
  {
   "cell_type": "code",
   "execution_count": 32,
   "id": "036cb506",
   "metadata": {},
   "outputs": [
    {
     "name": "stdout",
     "output_type": "stream",
     "text": [
      "My favorite Singer is Arijit Singh.\n"
     ]
    }
   ],
   "source": [
    "# now i will reassign the value to change\n",
    "text = \"My favorite Singer is Atif Aslam.\"\n",
    "text = text.replace(\"Atif Aslam\", \"Arijit Singh\")\n",
    "print(text)"
   ]
  },
  {
   "cell_type": "markdown",
   "id": "2a0c585b",
   "metadata": {},
   "source": [
    "### Strip"
   ]
  },
  {
   "cell_type": "code",
   "execution_count": 37,
   "id": "59bbf9df",
   "metadata": {},
   "outputs": [
    {
     "name": "stdout",
     "output_type": "stream",
     "text": [
      "Huzaifa\n"
     ]
    }
   ],
   "source": [
    "# strip() ---> it will rmove unnecssary spaces from string\n",
    "name = \"         Huzaifa          \"\n",
    "print(name.strip())"
   ]
  },
  {
   "cell_type": "code",
   "execution_count": 38,
   "id": "070435ba",
   "metadata": {},
   "outputs": [
    {
     "data": {
      "text/plain": [
       "'         Huzaifa          '"
      ]
     },
     "execution_count": 38,
     "metadata": {},
     "output_type": "execute_result"
    }
   ],
   "source": [
    "name"
   ]
  },
  {
   "cell_type": "code",
   "execution_count": 39,
   "id": "80134577",
   "metadata": {},
   "outputs": [
    {
     "name": "stdout",
     "output_type": "stream",
     "text": [
      "Huzaifa\n"
     ]
    }
   ],
   "source": [
    "name = name.strip()\n",
    "print(name)"
   ]
  },
  {
   "cell_type": "code",
   "execution_count": 41,
   "id": "4e3700ab",
   "metadata": {},
   "outputs": [
    {
     "name": "stdout",
     "output_type": "stream",
     "text": [
      "Huzitech\n"
     ]
    }
   ],
   "source": [
    "# lstrip() ---> remove annoying spaces from left of the string\n",
    "name1 = \"        Huzitech\"\n",
    "print(name1.lstrip())"
   ]
  },
  {
   "cell_type": "code",
   "execution_count": 42,
   "id": "3207a38d",
   "metadata": {},
   "outputs": [
    {
     "name": "stdout",
     "output_type": "stream",
     "text": [
      "Huzitech\n"
     ]
    }
   ],
   "source": [
    "# rstrip() ---> remove annoying spaces from right of the string\n",
    "name1 = \"Huzitech             \"\n",
    "print(name1.rstrip())"
   ]
  }
 ],
 "metadata": {
  "kernelspec": {
   "display_name": "Python 3 (ipykernel)",
   "language": "python",
   "name": "python3"
  },
  "language_info": {
   "codemirror_mode": {
    "name": "ipython",
    "version": 3
   },
   "file_extension": ".py",
   "mimetype": "text/x-python",
   "name": "python",
   "nbconvert_exporter": "python",
   "pygments_lexer": "ipython3",
   "version": "3.9.12"
  }
 },
 "nbformat": 4,
 "nbformat_minor": 5
}
