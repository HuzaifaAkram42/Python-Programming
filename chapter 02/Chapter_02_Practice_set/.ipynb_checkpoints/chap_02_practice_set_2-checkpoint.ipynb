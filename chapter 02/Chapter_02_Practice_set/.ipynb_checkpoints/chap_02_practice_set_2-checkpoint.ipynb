{
 "cells": [
  {
   "cell_type": "markdown",
   "id": "2c3cbb4e",
   "metadata": {},
   "source": [
    "## User Input , Type casting, String concatenation"
   ]
  },
  {
   "cell_type": "markdown",
   "id": "1464ed22",
   "metadata": {},
   "source": [
    "1. Python Program to Add Two Numbers. numbers are given by the user."
   ]
  },
  {
   "cell_type": "code",
   "execution_count": 1,
   "id": "5d6cef2d",
   "metadata": {},
   "outputs": [
    {
     "name": "stdout",
     "output_type": "stream",
     "text": [
      "Enter First Number: 36\n",
      "Enter Second Number: 64\n",
      "The Sum of two numbers is: 100\n"
     ]
    }
   ],
   "source": [
    "first_num = int(input(\"Enter First Number: \"))\n",
    "second_num = int(input(\"Enter Second Number: \"))\n",
    "result = first_num + second_num\n",
    "print(\"The Sum of two numbers is:\", result )"
   ]
  },
  {
   "cell_type": "markdown",
   "id": "61fc842c",
   "metadata": {},
   "source": [
    "2. Python Program to Find the Square Root of a number given by the user"
   ]
  },
  {
   "cell_type": "code",
   "execution_count": 4,
   "id": "f99ff15e",
   "metadata": {},
   "outputs": [
    {
     "name": "stdout",
     "output_type": "stream",
     "text": [
      "Enter a Number to find Square root: 144\n",
      "The Square of given Number is: 12.0\n"
     ]
    }
   ],
   "source": [
    "import math\n",
    "num =int(input(\"Enter a Number to find Square root: \"))\n",
    "sqrt = math.sqrt(num)\n",
    "print(\"The Square of given Number is:\",sqrt)"
   ]
  },
  {
   "cell_type": "markdown",
   "id": "619423ef",
   "metadata": {},
   "source": [
    "3. Python Program to Calculate the Area of a Triangle"
   ]
  },
  {
   "cell_type": "code",
   "execution_count": 5,
   "id": "91814238",
   "metadata": {},
   "outputs": [
    {
     "name": "stdout",
     "output_type": "stream",
     "text": [
      "Enter the value of Base of a Triangle: 4\n",
      "Enter the value of Height of a Triangle: 5\n",
      "The Area of a Triangle is 10.0\n"
     ]
    }
   ],
   "source": [
    "base = int(input(\"Enter the value of Base of a Triangle: \"))\n",
    "height = int(input(\"Enter the value of Height of a Triangle: \"))\n",
    "area_triangle = (base * height) / 2\n",
    "print(\"The Area of a Triangle is \" + str(area_triangle) )"
   ]
  },
  {
   "cell_type": "markdown",
   "id": "0ca48aad",
   "metadata": {},
   "source": [
    "4. Python Program to Swap Two Numbers entered by the user"
   ]
  },
  {
   "cell_type": "code",
   "execution_count": 7,
   "id": "18fc8522",
   "metadata": {},
   "outputs": [
    {
     "name": "stdout",
     "output_type": "stream",
     "text": [
      "Enter the First Number to swap: 45\n",
      "Enter the Second Number to swap: 65\n",
      "Before Swapping the two Numbers are:  45 65\n",
      "After Swapping the two Numbers are:  65 45\n"
     ]
    }
   ],
   "source": [
    "first_numb = int(input(\"Enter the First Number to swap: \"))\n",
    "second_numb = int(input(\"Enter the Second Number to swap: \"))\n",
    "\n",
    "print(\"Before Swapping the two Numbers are: \", first_numb, second_numb)\n",
    "temp = first_numb\n",
    "first_numb = second_numb\n",
    "second_numb = temp\n",
    "print(\"After Swapping the two Numbers are: \", first_numb, second_numb)\n"
   ]
  },
  {
   "cell_type": "code",
   "execution_count": 8,
   "id": "b348c02e",
   "metadata": {},
   "outputs": [
    {
     "name": "stdout",
     "output_type": "stream",
     "text": [
      "Enter the First Number to swap: 456\n",
      "Enter the Second Number to swap: 654\n",
      "Before Swapping the two Numbers are:  456 654\n",
      "After Swapping the two Numbers are:  654 456\n"
     ]
    }
   ],
   "source": [
    "a = int(input(\"Enter the First Number to swap: \"))\n",
    "b = int(input(\"Enter the Second Number to swap: \"))\n",
    "\n",
    "print(\"Before Swapping the two Numbers are: \", a, b)\n",
    "a = a + b\n",
    "b = a - b\n",
    "a = a - b\n",
    "print(\"After Swapping the two Numbers are: \", a, b)\n"
   ]
  },
  {
   "cell_type": "markdown",
   "id": "721caee2",
   "metadata": {},
   "source": [
    "5. Python Program to Convert Kilometers to Miles\n",
    "   - 1 kilometer is equal to 0.621371 miles"
   ]
  },
  {
   "cell_type": "code",
   "execution_count": 14,
   "id": "49b77b33",
   "metadata": {},
   "outputs": [
    {
     "name": "stdout",
     "output_type": "stream",
     "text": [
      "Enter the value in Kilometers: 4\n",
      "4 Kilometers is equal to 2.485484 miles\n"
     ]
    }
   ],
   "source": [
    "value_in_kM = int(input(\"Enter the value in Kilometers: \"))\n",
    "std_value = 0.621371\n",
    "convrt_miles = value_in_kM * std_value\n",
    "print(str(value_in_kM) + \" Kilometers is equal to \" + str(convrt_miles) + \" miles\")"
   ]
  },
  {
   "cell_type": "markdown",
   "id": "c5f72ec3",
   "metadata": {},
   "source": [
    "6. python program to find average of two numbers entered by the user."
   ]
  },
  {
   "cell_type": "code",
   "execution_count": 17,
   "id": "f9875f5f",
   "metadata": {},
   "outputs": [
    {
     "name": "stdout",
     "output_type": "stream",
     "text": [
      "Enter the First Number: 456\n",
      "Enter the Second Number: 545\n",
      "The Average of 456 and 545 is 500.5\n"
     ]
    }
   ],
   "source": [
    "num1 = int(input(\"Enter the First Number: \"))\n",
    "num2 = int(input(\"Enter the Second Number: \"))\n",
    "average = (num1 + num2) / 2\n",
    "print(\"The Average of \" + str(num1) + \" and \" + str(num2) + \" is \" + str(average))"
   ]
  },
  {
   "cell_type": "markdown",
   "id": "abd91da6",
   "metadata": {},
   "source": [
    "7. pyhton program to find square and cube of two numbers entered by user."
   ]
  },
  {
   "cell_type": "code",
   "execution_count": 19,
   "id": "caa27637",
   "metadata": {},
   "outputs": [
    {
     "name": "stdout",
     "output_type": "stream",
     "text": [
      "Enter the Number to find square : 14\n",
      "Enter the Number to find Cube : 15\n",
      "The Square of 14 is 196\n",
      "The Cube of 15 is 2744\n"
     ]
    }
   ],
   "source": [
    "num1 = int(input(\"Enter the Number to find square : \"))\n",
    "num2 = int(input(\"Enter the Number to find Cube : \"))\n",
    "\n",
    "square = num1 ** 2\n",
    "cube = num1 ** 3\n",
    "\n",
    "print(\"The Square of \" + str(num1) + \" is \" + str(square))\n",
    "print(\"The Cube of \" + str(num2) + \" is \" + str(cube))"
   ]
  },
  {
   "cell_type": "markdown",
   "id": "d5b844a9",
   "metadata": {},
   "source": [
    "8. pyhton program to find area of a rectangle and circle."
   ]
  },
  {
   "cell_type": "code",
   "execution_count": 20,
   "id": "a2231ef5",
   "metadata": {},
   "outputs": [
    {
     "name": "stdout",
     "output_type": "stream",
     "text": [
      "Enter the Lenght of a Rectangle: 23\n",
      "Enter the Breadth of a Rectangle: 6\n",
      "The area of a rectangle is:  138\n",
      "Enter the Radius of a Circle: 2\n",
      "The Area of a Circle is:  12.568\n"
     ]
    }
   ],
   "source": [
    "# Area of rectangle\n",
    "length = int(input(\"Enter the Lenght of a Rectangle: \"))\n",
    "breadth = int(input(\"Enter the Breadth of a Rectangle: \"))\n",
    "area_rectangle = length * breadth\n",
    "print(\"The area of a rectangle is: \", area_rectangle)\n",
    "\n",
    "# Area of a circle\n",
    "radius = int(input(\"Enter the Radius of a Circle: \"))\n",
    "pi = 3.142\n",
    "area_circle = pi * (radius **2)\n",
    "print(\"The Area of a Circle is: \", area_circle)"
   ]
  },
  {
   "cell_type": "markdown",
   "id": "de918fa4",
   "metadata": {},
   "source": [
    "9. python program to find volume of a cylinder."
   ]
  },
  {
   "cell_type": "code",
   "execution_count": 22,
   "id": "abb10682",
   "metadata": {},
   "outputs": [
    {
     "name": "stdout",
     "output_type": "stream",
     "text": [
      "Enter the Radius of a Cylinder: 2\n",
      "Enter the Height of a Cylinder: 4\n",
      "The Volume of a cylinder is:  50.272\n"
     ]
    }
   ],
   "source": [
    "radius = int(input(\"Enter the Radius of a Cylinder: \"))\n",
    "height = int(input(\"Enter the Height of a Cylinder: \"))\n",
    "pi = 3.142\n",
    "area_cylinder = pi * (radius **2) * height\n",
    "print(\"The Volume of a cylinder is: \", area_cylinder)"
   ]
  },
  {
   "cell_type": "markdown",
   "id": "91693938",
   "metadata": {},
   "source": [
    "10. Write a program that will convert celsius value to fahrenheit"
   ]
  },
  {
   "cell_type": "code",
   "execution_count": 2,
   "id": "e88f990e",
   "metadata": {},
   "outputs": [
    {
     "name": "stdout",
     "output_type": "stream",
     "text": [
      "Enter the Temperature in Celcius (°C): 35\n",
      "The temperature of 35 (°C) is Equal to 95.0 (°F)\n"
     ]
    }
   ],
   "source": [
    "temp_celcius = int(input(\"Enter the Temperature in Celcius (°C): \"))\n",
    "\n",
    "convt_fahrenheit = temp_celcius*(9/5)+32\n",
    "\n",
    "print(\"The temperature of \" + str(temp_celcius) + \" (°C) \" + \"is Equal to \" + str(convt_fahrenheit) + \" (°F)\")"
   ]
  },
  {
   "cell_type": "markdown",
   "id": "87f75e01",
   "metadata": {},
   "source": [
    "11. python program to convert your age into minutes and seconds."
   ]
  },
  {
   "cell_type": "code",
   "execution_count": 5,
   "id": "4aff1ab9",
   "metadata": {},
   "outputs": [
    {
     "name": "stdout",
     "output_type": "stream",
     "text": [
      "Enter Your Age: 22\n",
      "Your age 22 Years is equal to 11563200 Minutes\n",
      "Your age 22 Years is equal to 693792000 Seconds\n"
     ]
    }
   ],
   "source": [
    "# Age into Minute\n",
    "age = int(input(\"Enter Your Age: \"))\n",
    "age_min = (age * 365 * 24 * 60)\n",
    "print(\"Your age \" + str(age) + \" Years is equal to \" + str(age_min) + \" Minutes\")\n",
    "\n",
    "# Age into Seconds\n",
    "age_sec = (age * 365 * 24 * 60 * 60)\n",
    "print(\"Your age \" + str(age) + \" Years is equal to \" + str(age_sec) + \" Seconds\")"
   ]
  },
  {
   "cell_type": "markdown",
   "id": "e64a3010",
   "metadata": {},
   "source": [
    "## String Formation"
   ]
  },
  {
   "cell_type": "markdown",
   "id": "b2fd1c34",
   "metadata": {},
   "source": [
    "12. python program to display a user entered a name followed by Good Afternoon."
   ]
  },
  {
   "cell_type": "code",
   "execution_count": 6,
   "id": "040102c1",
   "metadata": {},
   "outputs": [
    {
     "name": "stdout",
     "output_type": "stream",
     "text": [
      "Enter Your Name: Muhammad Huzaifa\n",
      "Good Afternoon! Muhammad Huzaifa\n",
      "Good AfterNoon! Muhammad Huzaifa\n"
     ]
    }
   ],
   "source": [
    "name = input(\"Enter Your Name: \")\n",
    "# using format()\n",
    "print(\"Good Afternoon! {}\".format(name))\n",
    "\n",
    "# using f-method\n",
    "print(f\"\"\"Good AfterNoon! {name}\"\"\")"
   ]
  },
  {
   "cell_type": "raw",
   "id": "e13e583c",
   "metadata": {},
   "source": [
    "13. python program to fill in name and date given bellow.\n",
    "\n",
    "letter = '''Dear <name>,\n",
    "                You are selected!\n",
    "                <date>'''"
   ]
  },
  {
   "cell_type": "code",
   "execution_count": 7,
   "id": "ed96cfc5",
   "metadata": {},
   "outputs": [
    {
     "name": "stdout",
     "output_type": "stream",
     "text": [
      "Enter Your Name: Mohsin Raza\n",
      "Enter the today date: 20-08-2023\n",
      "Dear Mohsin Raza,\n",
      "                You are Selected!\n",
      "                20-08-2023\n",
      "                \n"
     ]
    }
   ],
   "source": [
    "name = input(\"Enter Your Name: \")\n",
    "date = input(\"Enter the today date: \")\n",
    "print(f\"\"\"Dear {name},\n",
    "                You are Selected!\n",
    "                {date}\n",
    "                \"\"\")"
   ]
  },
  {
   "cell_type": "markdown",
   "id": "eb2c6920",
   "metadata": {},
   "source": [
    "14. Create 3 variables to store street, city and country. now create address variable to store entire address. Use two ways of creating this variable, one using + operator and the other using f-string. Now Print the address in such a way that the street, city and country prints in a separate line"
   ]
  },
  {
   "cell_type": "code",
   "execution_count": 14,
   "id": "fe4691d5",
   "metadata": {},
   "outputs": [
    {
     "name": "stdout",
     "output_type": "stream",
     "text": [
      "The Address with (+) operator:  Street 5 patli galli House # 298 Main Industrial Area Road \n",
      "Karachi\n",
      "Pakistan\n",
      "Street 5 patli galli House # 298 Main Industrial Area Road Karachi, Pakistan\n"
     ]
    }
   ],
   "source": [
    "street = \"Street 5 patli galli \"\n",
    "city = \"Karachi\"\n",
    "country = \"Pakistan\"\n",
    "# using (+) method\n",
    "address = street + \"House # 298\" + \" Main Industrial Area Road \" + \"\\n\"+ city + \"\\n\"+ country\n",
    "print(\"The Address with (+) operator: \", address)\n",
    "# using f-method\n",
    "print(f\"\"\"{street}House # 298 Main Industrial Area Road {city}, {country}\"\"\")"
   ]
  },
  {
   "cell_type": "markdown",
   "id": "b3c03d5e",
   "metadata": {},
   "source": [
    "15. Create two variables to store how many fruits and vegetables you eat in a day. Now Print \"I eat x veggies and y fruits daily\" where x and y presents vegetables and fruits that you eat everyday. Use python f string for this"
   ]
  },
  {
   "cell_type": "code",
   "execution_count": 16,
   "id": "f6f1657f",
   "metadata": {},
   "outputs": [
    {
     "name": "stdout",
     "output_type": "stream",
     "text": [
      "How many Fruits you eat in day? 5\n",
      "enter How naby vegetables you eat in a day? 3\n",
      "I eat 3 veggies and 5 fruits daily.\n"
     ]
    }
   ],
   "source": [
    "fruits = int(input(\"How many Fruits you eat in day? \"))\n",
    "vegies = int(input(\"enter How naby vegetables you eat in a day? \"))\n",
    "print(f\"\"\"I eat {vegies} veggies and {fruits} fruits daily.\"\"\")"
   ]
  },
  {
   "cell_type": "markdown",
   "id": "2dd3d2c3",
   "metadata": {},
   "source": [
    "16. pyhton program to print total marks, average, and percentage of five subjects."
   ]
  },
  {
   "cell_type": "code",
   "execution_count": 17,
   "id": "02484b03",
   "metadata": {},
   "outputs": [
    {
     "name": "stdout",
     "output_type": "stream",
     "text": [
      "Enter Your English marks: 74\n",
      "Enter Your Urdu marks: 75\n",
      "Enter Your Maths marks: 94\n",
      "Enter Your Physics marks: 87\n",
      "Enter Your Chemistry marks: 85\n",
      "\n",
      "    RESULT CARD\n",
      "=====================\n",
      "ENGLISH : 74\n",
      "URDU : 75\n",
      "MATHS : 94\n",
      "PHYSICS : 87\n",
      "CHEMISTRY : 85\n",
      "\n",
      "OBTAIN MARKS : 415\n",
      "TOTAL MARKS : 500\n",
      "AVERAGE : 83.0\n",
      "PERCENTAGE :83.0\n",
      "\n"
     ]
    }
   ],
   "source": [
    "eng = int(input(\"Enter Your English marks: \"))\n",
    "urdu = int(input(\"Enter Your Urdu marks: \"))\n",
    "math = int(input(\"Enter Your Maths marks: \"))\n",
    "phy = int(input(\"Enter Your Physics marks: \"))\n",
    "chem = int(input(\"Enter Your Chemistry marks: \"))\n",
    "\n",
    "Total_marks = 500\n",
    "obtain_marks = (eng + urdu + math + phy + chem)\n",
    "average = (eng + urdu + math + phy + chem)/5\n",
    "percentage = (obtain_marks / Total_marks) * 100\n",
    "\n",
    "print(f\"\"\"\n",
    "    RESULT CARD\n",
    "=====================\n",
    "ENGLISH : {eng}\n",
    "URDU : {urdu}\n",
    "MATHS : {math}\n",
    "PHYSICS : {phy}\n",
    "CHEMISTRY : {chem}\n",
    "\n",
    "OBTAIN MARKS : {obtain_marks}\n",
    "TOTAL MARKS : {Total_marks}\n",
    "AVERAGE : {average}\n",
    "PERCENTAGE :{percentage}\n",
    "\"\"\")\n"
   ]
  },
  {
   "cell_type": "markdown",
   "id": "f837a463",
   "metadata": {},
   "source": [
    "## String indexing & Slicing"
   ]
  },
  {
   "cell_type": "markdown",
   "id": "a59c63aa",
   "metadata": {},
   "source": [
    "17.Create a variable to store the string \"Earth revolves around the sun\"\n",
    "   - Print \"revolves\" using slice operator\n",
    "   - Print \"sun\" using negative index"
   ]
  },
  {
   "cell_type": "code",
   "execution_count": 26,
   "id": "d984917a",
   "metadata": {},
   "outputs": [
    {
     "name": "stdout",
     "output_type": "stream",
     "text": [
      "revolves\n",
      "sun\n"
     ]
    }
   ],
   "source": [
    "string = \"Earth revolves around the sun\"\n",
    "# index   01234567890123456789012345678  index 0 to 28   \n",
    "# print revolves\n",
    "print(string[6:14])\n",
    "# print sun with negative slicing\n",
    "print(string[-3:])"
   ]
  },
  {
   "cell_type": "markdown",
   "id": "395966ae",
   "metadata": {},
   "source": [
    "18. Python Program to Get a Substring of a String"
   ]
  },
  {
   "cell_type": "code",
   "execution_count": 35,
   "id": "fff1bff7",
   "metadata": {},
   "outputs": [
    {
     "name": "stdout",
     "output_type": "stream",
     "text": [
      "Monday\n",
      "day\n"
     ]
    }
   ],
   "source": [
    "text = \"Today is Monday. Monday is the first day of Week\"\n",
    "# index 012345678901234567890123456789012345678901234567\n",
    "print(text[9:15])\n",
    "print(text[-11:-8])"
   ]
  },
  {
   "cell_type": "markdown",
   "id": "44f6a9ba",
   "metadata": {},
   "source": [
    "19. Python Program to print a reverse of a String"
   ]
  },
  {
   "cell_type": "code",
   "execution_count": 37,
   "id": "cbf24184",
   "metadata": {},
   "outputs": [
    {
     "name": "stdout",
     "output_type": "stream",
     "text": [
      "keeW fo yad tsrif eht si yadnoM .yadnoM si yadoT\n",
      "afiazuH dammahuM\n"
     ]
    }
   ],
   "source": [
    "text = \"Today is Monday. Monday is the first day of Week\"\n",
    "print(text[::-1])\n",
    "\n",
    "my_name = \"Muhammad Huzaifa\"\n",
    "print(my_name[::-1])"
   ]
  },
  {
   "cell_type": "markdown",
   "id": "d6f7c64f",
   "metadata": {},
   "source": [
    "Remove the first and last characters from a string using slicing."
   ]
  },
  {
   "cell_type": "code",
   "execution_count": 39,
   "id": "18b4562f",
   "metadata": {},
   "outputs": [
    {
     "name": "stdout",
     "output_type": "stream",
     "text": [
      "uhammad Huzaif\n"
     ]
    }
   ],
   "source": [
    "# Removing first character means 0 index and last character means -1 we already know that slicing is done n-1 times\n",
    "my_name = \"Muhammad Huzaifa\"\n",
    "print(my_name[1:-1])"
   ]
  },
  {
   "cell_type": "markdown",
   "id": "6c06fe51",
   "metadata": {},
   "source": [
    "## String Methods"
   ]
  },
  {
   "cell_type": "markdown",
   "id": "b7553352",
   "metadata": {},
   "source": [
    "20. Python Program to Parse a String to a Float or Int"
   ]
  },
  {
   "cell_type": "code",
   "execution_count": 55,
   "id": "2f8cd931",
   "metadata": {},
   "outputs": [
    {
     "name": "stdout",
     "output_type": "stream",
     "text": [
      "Enter a value: 2356\n",
      "Enter a Float value: 11.46\n",
      "2356 <class 'int'>\n",
      "11.46 <class 'float'>\n"
     ]
    }
   ],
   "source": [
    "value_int = input(\"Enter a value: \")\n",
    "value_float = input(\"Enter a Float value: \")\n",
    "value_int = int(value_int)\n",
    "value_float = float(value_float)\n",
    "print(value_int, type(value_int))\n",
    "print(value_float, type(value_float))"
   ]
  },
  {
   "cell_type": "markdown",
   "id": "366ea3c0",
   "metadata": {},
   "source": [
    "21. Python Program to Count the Number of Occurrence of a Character in String"
   ]
  },
  {
   "cell_type": "code",
   "execution_count": 42,
   "id": "5176e395",
   "metadata": {},
   "outputs": [
    {
     "name": "stdout",
     "output_type": "stream",
     "text": [
      "M is present in this string 2 Times\n"
     ]
    }
   ],
   "source": [
    "text = \"Today is Monday. Monday is the first day of Week\"\n",
    "char = text.count(\"M\")\n",
    "print(f\"\"\"M is present in this string {char} Times\"\"\")"
   ]
  },
  {
   "cell_type": "markdown",
   "id": "9aaa557e",
   "metadata": {},
   "source": [
    "22. Python Program to Capitalize the First Character of a String"
   ]
  },
  {
   "cell_type": "code",
   "execution_count": 43,
   "id": "906c6556",
   "metadata": {},
   "outputs": [
    {
     "name": "stdout",
     "output_type": "stream",
     "text": [
      "Huziafa is a good student.\n"
     ]
    }
   ],
   "source": [
    "name = \"huziafa is a good student.\"\n",
    "print(name.capitalize())"
   ]
  },
  {
   "cell_type": "markdown",
   "id": "559e7f88",
   "metadata": {},
   "source": [
    "23. Python Program to Trim Whitespace From a String"
   ]
  },
  {
   "cell_type": "code",
   "execution_count": 45,
   "id": "bba46654",
   "metadata": {},
   "outputs": [
    {
     "name": "stdout",
     "output_type": "stream",
     "text": [
      "0333-4135214\n"
     ]
    }
   ],
   "source": [
    "mobile_no = \"        0333-4135214    \"\n",
    "print(mobile_no.strip())"
   ]
  },
  {
   "cell_type": "markdown",
   "id": "1000299f",
   "metadata": {},
   "source": [
    "24. I have a string variable called s='maine 200 banana khaye'. \n",
    "This of course is a wrong statement, the correct statement is 'maine 10 samosa khaye'.\n",
    "Replace incorrect words in original string with new ones and print the new string.\n",
    "Also try to do this in one line."
   ]
  },
  {
   "cell_type": "code",
   "execution_count": 49,
   "id": "a9372e55",
   "metadata": {},
   "outputs": [
    {
     "name": "stdout",
     "output_type": "stream",
     "text": [
      "The correct Statement is: maine 10 somosa khaye.\n",
      "The correct statement in single line is:  maine 10 somosa khaye.\n"
     ]
    }
   ],
   "source": [
    "s = \"maine 200 banana khaye.\"\n",
    "s = s.replace(\"200\", \"10\")\n",
    "s = s.replace(\"banana\", \"somosa\")\n",
    "print(f\"\"\"The correct Statement is: {s}\"\"\")\n",
    "\n",
    "\n",
    "# using single line\n",
    "s = s.replace(\"200\",\"10\").replace(\"banana\",\"samosa\")\n",
    "print(\"The correct statement in single line is: \",s)"
   ]
  },
  {
   "cell_type": "markdown",
   "id": "e3833069",
   "metadata": {},
   "source": [
    "25. python program to find double space in a string and also remove it."
   ]
  },
  {
   "cell_type": "code",
   "execution_count": 50,
   "id": "3957d1cb",
   "metadata": {},
   "outputs": [
    {
     "name": "stdout",
     "output_type": "stream",
     "text": [
      "19\n"
     ]
    }
   ],
   "source": [
    "message = \"Hello world my name  is Muhammad Huziafa\"\n",
    "print(message.find(\"  \"))"
   ]
  },
  {
   "cell_type": "markdown",
   "id": "b1562d24",
   "metadata": {},
   "source": [
    "26. Extract username from a given email.\n",
    "Eg if the email is nitish24singh@gmail.com then the username\n",
    "should be nitish24singh"
   ]
  },
  {
   "cell_type": "markdown",
   "id": "b69cbdef",
   "metadata": {},
   "source": [
    "27. Count the frequency of a particular character in a provided string. Eg\n",
    "'hello how are you' is the string, the frequency of h in this string is 2.\n"
   ]
  },
  {
   "cell_type": "code",
   "execution_count": 51,
   "id": "ed794cd5",
   "metadata": {},
   "outputs": [
    {
     "name": "stdout",
     "output_type": "stream",
     "text": [
      "the frequency of h in this string is 2\n"
     ]
    }
   ],
   "source": [
    "msg1 =  'hello how are you'\n",
    "print(f\"\"\"the frequency of h in this string is {msg1.count(\"h\")}\"\"\")"
   ]
  },
  {
   "cell_type": "markdown",
   "id": "ce6ebf34",
   "metadata": {},
   "source": [
    "28. Convert a user-input string to uppercase and print it."
   ]
  },
  {
   "cell_type": "code",
   "execution_count": 52,
   "id": "cb83c47e",
   "metadata": {},
   "outputs": [
    {
     "name": "stdout",
     "output_type": "stream",
     "text": [
      "HELLO HOW ARE YOU\n"
     ]
    }
   ],
   "source": [
    "msg1 =  'hello how are you'\n",
    "print(msg1.upper())"
   ]
  },
  {
   "cell_type": "markdown",
   "id": "19551e89",
   "metadata": {},
   "source": [
    "29. Replace 'a' with 'x' in the string 'banana'."
   ]
  },
  {
   "cell_type": "code",
   "execution_count": 53,
   "id": "4d21ad0b",
   "metadata": {},
   "outputs": [
    {
     "name": "stdout",
     "output_type": "stream",
     "text": [
      "Bxnxnx\n"
     ]
    }
   ],
   "source": [
    "fruit_name = \"Banana\"\n",
    "fruit_name = fruit_name.replace(\"a\", \"x\")\n",
    "print(fruit_name)"
   ]
  },
  {
   "cell_type": "markdown",
   "id": "7d397255",
   "metadata": {},
   "source": [
    "30. Replace every 'e' with 'E' and 'i' with 'I' in a sentence."
   ]
  },
  {
   "cell_type": "code",
   "execution_count": 54,
   "id": "5227ea1f",
   "metadata": {},
   "outputs": [
    {
     "name": "stdout",
     "output_type": "stream",
     "text": [
      "HEllo today Is sunday. and today Is my bIrthday. PlEasE EvEryonE wIsh mE Happy BIrthday to You\n"
     ]
    }
   ],
   "source": [
    "info = \"Hello today is sunday. and today is my birthday. Please Everyone wish me Happy Birthday to You\"\n",
    "info = info.replace(\"e\" , \"E\")\n",
    "info = info.replace(\"i\", \"I\")\n",
    "print(info)"
   ]
  }
 ],
 "metadata": {
  "kernelspec": {
   "display_name": "Python 3 (ipykernel)",
   "language": "python",
   "name": "python3"
  },
  "language_info": {
   "codemirror_mode": {
    "name": "ipython",
    "version": 3
   },
   "file_extension": ".py",
   "mimetype": "text/x-python",
   "name": "python",
   "nbconvert_exporter": "python",
   "pygments_lexer": "ipython3",
   "version": "3.9.12"
  }
 },
 "nbformat": 4,
 "nbformat_minor": 5
}
