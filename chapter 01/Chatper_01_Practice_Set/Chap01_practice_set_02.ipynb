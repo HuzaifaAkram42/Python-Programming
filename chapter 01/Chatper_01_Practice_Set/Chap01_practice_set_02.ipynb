{
 "cells": [
  {
   "cell_type": "markdown",
   "id": "820fed2a",
   "metadata": {},
   "source": [
    "# Chapter 01 Exercises Questions"
   ]
  },
  {
   "cell_type": "markdown",
   "id": "87e489cb",
   "metadata": {},
   "source": [
    "1. Create a variable called break and assign it a value 5. See what happens and find out the reason behind the behavior that you see."
   ]
  },
  {
   "cell_type": "code",
   "execution_count": 1,
   "id": "3e9483f3",
   "metadata": {},
   "outputs": [
    {
     "ename": "SyntaxError",
     "evalue": "invalid syntax (2709188746.py, line 1)",
     "output_type": "error",
     "traceback": [
      "\u001b[1;36m  Input \u001b[1;32mIn [1]\u001b[1;36m\u001b[0m\n\u001b[1;33m    break = 5\u001b[0m\n\u001b[1;37m          ^\u001b[0m\n\u001b[1;31mSyntaxError\u001b[0m\u001b[1;31m:\u001b[0m invalid syntax\n"
     ]
    }
   ],
   "source": [
    "break = 5"
   ]
  },
  {
   "cell_type": "markdown",
   "id": "cc6db284",
   "metadata": {},
   "source": [
    "2. Create two variables. One to store your birth year and another one to store current year. Now calculate your age using these two variables"
   ]
  },
  {
   "cell_type": "code",
   "execution_count": 2,
   "id": "0a886dfd",
   "metadata": {},
   "outputs": [
    {
     "name": "stdout",
     "output_type": "stream",
     "text": [
      "22\n"
     ]
    }
   ],
   "source": [
    "birth_year = 2001\n",
    "current_year = 2023\n",
    "my_age = current_year - birth_year\n",
    "print(my_age)"
   ]
  },
  {
   "cell_type": "markdown",
   "id": "6ceb397d",
   "metadata": {},
   "source": [
    "3. Store your first, middle and last name in three different variables and then print your full name using these variables"
   ]
  },
  {
   "cell_type": "code",
   "execution_count": 10,
   "id": "512e20ee",
   "metadata": {},
   "outputs": [
    {
     "name": "stdout",
     "output_type": "stream",
     "text": [
      "Muhammad Huzaifa Niazi\n",
      "Muhammad Huzaifa Niazi\n"
     ]
    }
   ],
   "source": [
    "first_name = \"Muhammad\"\n",
    "middle_name = \"Huzaifa\"\n",
    "last_name = \"Niazi\"\n",
    "full_name = first_name + \" \" + middle_name + \" \" + last_name\n",
    "print(first_name,middle_name,last_name)\n",
    "print(full_name)"
   ]
  },
  {
   "cell_type": "markdown",
   "id": "e554cfdd",
   "metadata": {},
   "source": [
    "4. Answer which of these are invalid variable names: \n",
    "-   _nation\n",
    "-  1record\n",
    "-   record1\n",
    "-   record_one\n",
    "-   record-one\n",
    "-   record^one\n",
    "-   continue"
   ]
  },
  {
   "cell_type": "markdown",
   "id": "670ce30a",
   "metadata": {},
   "source": [
    "1record, record-one, record^one, continue"
   ]
  },
  {
   "cell_type": "markdown",
   "id": "ff8a4453",
   "metadata": {},
   "source": [
    "5. You have a football field that is 92 meter long and 48.8 meter wide. Find out total area using python and print it."
   ]
  },
  {
   "cell_type": "code",
   "execution_count": 3,
   "id": "b5f6a687",
   "metadata": {},
   "outputs": [
    {
     "name": "stdout",
     "output_type": "stream",
     "text": [
      "4489.599999999999\n"
     ]
    }
   ],
   "source": [
    "length_in_meter = 92\n",
    "width_in_meter = 48.8\n",
    "total_area = length_in_meter * width_in_meter\n",
    "print(total_area)"
   ]
  },
  {
   "cell_type": "markdown",
   "id": "02b74e11",
   "metadata": {},
   "source": [
    "6. You bought 9 packets of potato chips from a store. Each packet costs 1.49 dollar and you gave shopkeeper 20 dollar. Find out using python, how many dollars is the shopkeeper going to give you back?"
   ]
  },
  {
   "cell_type": "code",
   "execution_count": 5,
   "id": "136ad4ed",
   "metadata": {},
   "outputs": [
    {
     "name": "stdout",
     "output_type": "stream",
     "text": [
      "6.59\n"
     ]
    }
   ],
   "source": [
    "chips_packets = 9\n",
    "price_per_packet_in_dollars = 1.49\n",
    "money_paid_in_dollars = 20\n",
    "total_cost = chips_packets * price_per_packet_in_dollars\n",
    "remaining_amount = money_paid_in_dollars - total_cost\n",
    "print(remaining_amount)"
   ]
  },
  {
   "cell_type": "markdown",
   "id": "14e2b157",
   "metadata": {},
   "source": [
    "7. You want to replace tiles in your bathroom which is exactly square and 5.5 feet is its length. If tiles cost 500 rs per square feet, how much will be the total cost to replace all tiles. Calculate and print the cost using python\n",
    "(Hint: Use power operator ** to find area of a square)"
   ]
  },
  {
   "cell_type": "code",
   "execution_count": 6,
   "id": "49221c31",
   "metadata": {},
   "outputs": [
    {
     "name": "stdout",
     "output_type": "stream",
     "text": [
      "15125.0\n"
     ]
    }
   ],
   "source": [
    "length_of_square_in_feet = 5.5\n",
    "tiles_cost_per_square_in_Rs = 500\n",
    "area_of_square_in_feet = length_of_square_in_feet ** 2\n",
    "total_cost = area_of_square_in_feet * tiles_cost_per_square_in_Rs\n",
    "print(total_cost)\n"
   ]
  },
  {
   "cell_type": "markdown",
   "id": "aac497c6",
   "metadata": {},
   "source": [
    "8. Print binary representation of number 17"
   ]
  },
  {
   "cell_type": "code",
   "execution_count": 1,
   "id": "5cc9473e",
   "metadata": {},
   "outputs": [
    {
     "name": "stdout",
     "output_type": "stream",
     "text": [
      "17\n"
     ]
    }
   ],
   "source": [
    "x = 0b10001\n",
    "print(x)"
   ]
  },
  {
   "cell_type": "markdown",
   "id": "5104aae6",
   "metadata": {},
   "source": [
    "9. Write a python program to print Twinkle Twinkle Little Star Poem."
   ]
  },
  {
   "cell_type": "code",
   "execution_count": 2,
   "id": "6c4e6bbc",
   "metadata": {},
   "outputs": [
    {
     "name": "stdout",
     "output_type": "stream",
     "text": [
      "\n",
      "Twinkle, twinkle, little star,\n",
      "How I wonder what you are.\n",
      "Up above the world so high,\n",
      "Like a diamond in the sky.\n"
     ]
    }
   ],
   "source": [
    "poem = '''\n",
    "Twinkle, twinkle, little star,\n",
    "How I wonder what you are.\n",
    "Up above the world so high,\n",
    "Like a diamond in the sky.'''\n",
    "print(poem)"
   ]
  },
  {
   "cell_type": "markdown",
   "id": "d62d7d04",
   "metadata": {},
   "source": [
    "10. Write a python program to add two numbers."
   ]
  },
  {
   "cell_type": "code",
   "execution_count": 16,
   "id": "e3db8c0d",
   "metadata": {},
   "outputs": [
    {
     "name": "stdout",
     "output_type": "stream",
     "text": [
      "50\n"
     ]
    }
   ],
   "source": [
    "first_number = 24\n",
    "second_number = 26\n",
    "add = first_number + second_number\n",
    "print(add)"
   ]
  },
  {
   "cell_type": "markdown",
   "id": "8ef4f6e7",
   "metadata": {},
   "source": [
    "11. write a python program to find reminder when a number is divided by 2."
   ]
  },
  {
   "cell_type": "code",
   "execution_count": 19,
   "id": "854e74c5",
   "metadata": {},
   "outputs": [
    {
     "name": "stdout",
     "output_type": "stream",
     "text": [
      "1\n"
     ]
    }
   ],
   "source": [
    "print(6455 % 2)"
   ]
  }
 ],
 "metadata": {
  "kernelspec": {
   "display_name": "Python 3 (ipykernel)",
   "language": "python",
   "name": "python3"
  },
  "language_info": {
   "codemirror_mode": {
    "name": "ipython",
    "version": 3
   },
   "file_extension": ".py",
   "mimetype": "text/x-python",
   "name": "python",
   "nbconvert_exporter": "python",
   "pygments_lexer": "ipython3",
   "version": "3.12.4"
  }
 },
 "nbformat": 4,
 "nbformat_minor": 5
}
