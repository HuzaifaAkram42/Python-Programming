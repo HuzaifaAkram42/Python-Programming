{
 "cells": [
  {
   "cell_type": "markdown",
   "id": "154992d2",
   "metadata": {},
   "source": [
    "# Chapter 1 print(), Variable & Operators"
   ]
  },
  {
   "cell_type": "markdown",
   "id": "ac75162b",
   "metadata": {},
   "source": [
    "### Topics\n",
    "- print function\n",
    "- basic types of values\n",
    "- variables in python\n",
    "- comments in python\n",
    "- Keywords in python\n",
    "- variable naming conventions\n",
    "- Operators in Python\n",
    "\t1. Arithmetic operators\n",
    "\t2. Asssignment operators\n",
    "\t3. comparision operators\n",
    "\t4. Logical operators\n",
    "\t5. Membership operators"
   ]
  },
  {
   "cell_type": "markdown",
   "id": "7eb3c38e",
   "metadata": {},
   "source": [
    "## print Function\n",
    "*it prints any value or statement in the console.*"
   ]
  },
  {
   "cell_type": "code",
   "execution_count": 1,
   "id": "b55cfe1b",
   "metadata": {},
   "outputs": [
    {
     "name": "stdout",
     "output_type": "stream",
     "text": [
      "23\n"
     ]
    }
   ],
   "source": [
    "print(23)"
   ]
  },
  {
   "cell_type": "code",
   "execution_count": 2,
   "id": "ddca275f",
   "metadata": {},
   "outputs": [
    {
     "name": "stdout",
     "output_type": "stream",
     "text": [
      "Hello World\n"
     ]
    }
   ],
   "source": [
    "print(\"Hello World\")"
   ]
  },
  {
   "cell_type": "markdown",
   "id": "68158348",
   "metadata": {},
   "source": [
    "## Types of Values\n",
    "- **Numeric Values**\n",
    "    - Whole Numbers Known as (Integers) In Python We Represent as (int)\n",
    "        - Example: 14, 156, 1000, 45464, -61, -256\n",
    "    - Decimal Numbers Known as (Decimals) In Python We Represent as (float)\n",
    "        - Example: 45.21, 54.545, -6556.54\n",
    "- **Alphabetic Values**\n",
    "     - Character/Words/Sentence/Paragraph Known as (String) In Python We Represent as (str)\n",
    "         - Example: \"Hello World\", 'I am Pythonary', '''Pakistan Zindabad'''\n",
    "- **boolean Values**\n",
    "    - true/flase Known as (boolean) In Python We Represent as (bool)\n",
    "        - Example: True, False\n"
   ]
  },
  {
   "cell_type": "code",
   "execution_count": 3,
   "id": "bd47bfd9",
   "metadata": {},
   "outputs": [
    {
     "name": "stdout",
     "output_type": "stream",
     "text": [
      "4564\n"
     ]
    }
   ],
   "source": [
    "print(4564)"
   ]
  },
  {
   "cell_type": "code",
   "execution_count": 5,
   "id": "0d11fd35",
   "metadata": {},
   "outputs": [
    {
     "name": "stdout",
     "output_type": "stream",
     "text": [
      "4521.54\n"
     ]
    }
   ],
   "source": [
    "print(4521.54)"
   ]
  },
  {
   "cell_type": "code",
   "execution_count": 6,
   "id": "af39872d",
   "metadata": {},
   "outputs": [
    {
     "name": "stdout",
     "output_type": "stream",
     "text": [
      "Hello World\n"
     ]
    }
   ],
   "source": [
    "print(\"Hello World\")"
   ]
  },
  {
   "cell_type": "code",
   "execution_count": 7,
   "id": "975eee8e",
   "metadata": {},
   "outputs": [
    {
     "name": "stdout",
     "output_type": "stream",
     "text": [
      "Pakistan Zindabad\n"
     ]
    }
   ],
   "source": [
    "print('Pakistan Zindabad')"
   ]
  },
  {
   "cell_type": "code",
   "execution_count": 8,
   "id": "baad2bb9",
   "metadata": {},
   "outputs": [
    {
     "name": "stdout",
     "output_type": "stream",
     "text": [
      "I am Learning Python\n"
     ]
    }
   ],
   "source": [
    "print('''I am Learning Python''')"
   ]
  },
  {
   "cell_type": "code",
   "execution_count": 9,
   "id": "7fe53287",
   "metadata": {},
   "outputs": [
    {
     "name": "stdout",
     "output_type": "stream",
     "text": [
      "True\n"
     ]
    }
   ],
   "source": [
    "print(True)"
   ]
  },
  {
   "cell_type": "code",
   "execution_count": 10,
   "id": "11bf9831",
   "metadata": {},
   "outputs": [
    {
     "name": "stdout",
     "output_type": "stream",
     "text": [
      "False\n"
     ]
    }
   ],
   "source": [
    "print(False)"
   ]
  },
  {
   "cell_type": "markdown",
   "id": "8eceac02",
   "metadata": {},
   "source": [
    "- For checking type of any value we Use type funtion --> type()"
   ]
  },
  {
   "cell_type": "code",
   "execution_count": 11,
   "id": "72191900",
   "metadata": {},
   "outputs": [
    {
     "data": {
      "text/plain": [
       "int"
      ]
     },
     "execution_count": 11,
     "metadata": {},
     "output_type": "execute_result"
    }
   ],
   "source": [
    "type(325)"
   ]
  },
  {
   "cell_type": "code",
   "execution_count": 12,
   "id": "e3a1c74b",
   "metadata": {},
   "outputs": [
    {
     "data": {
      "text/plain": [
       "float"
      ]
     },
     "execution_count": 12,
     "metadata": {},
     "output_type": "execute_result"
    }
   ],
   "source": [
    "type(454.565)"
   ]
  },
  {
   "cell_type": "code",
   "execution_count": 13,
   "id": "ab4a1275",
   "metadata": {},
   "outputs": [
    {
     "data": {
      "text/plain": [
       "str"
      ]
     },
     "execution_count": 13,
     "metadata": {},
     "output_type": "execute_result"
    }
   ],
   "source": [
    "type(\"Hello Python\")"
   ]
  },
  {
   "cell_type": "code",
   "execution_count": 14,
   "id": "00add7e0",
   "metadata": {},
   "outputs": [
    {
     "data": {
      "text/plain": [
       "bool"
      ]
     },
     "execution_count": 14,
     "metadata": {},
     "output_type": "execute_result"
    }
   ],
   "source": [
    "type(True)"
   ]
  },
  {
   "cell_type": "markdown",
   "id": "6af3d46f",
   "metadata": {},
   "source": [
    "- If we don't know a function what can do in python we read function documentation by pressing *Shift + Tab* when the cursor is inside the brackets of functions"
   ]
  },
  {
   "cell_type": "code",
   "execution_count": null,
   "id": "f862d328",
   "metadata": {},
   "outputs": [],
   "source": [
    "print()"
   ]
  },
  {
   "attachments": {
    "Chapter01.png": {
     "image/png": "[encoded data removed]"
    }
   },
   "cell_type": "markdown",
   "id": "557ffee6",
   "metadata": {},
   "source": [
    "![Chapter01.png](attachment:Chapter01.png)"
   ]
  },
  {
   "cell_type": "markdown",
   "id": "322a8a91",
   "metadata": {},
   "source": [
    "- Adding multiple values in 1 single function"
   ]
  },
  {
   "cell_type": "code",
   "execution_count": 17,
   "id": "4b8dd7dd",
   "metadata": {},
   "outputs": [
    {
     "name": "stdout",
     "output_type": "stream",
     "text": [
      "45644 42.54 Hello World! True\n"
     ]
    }
   ],
   "source": [
    "print(45644, 42.54, \"Hello World!\", True)"
   ]
  },
  {
   "cell_type": "markdown",
   "id": "49cfaa50",
   "metadata": {},
   "source": [
    "- the above values are seprated by single space between two values. Now change the sepration values in function parameters with sep=\"\""
   ]
  },
  {
   "cell_type": "code",
   "execution_count": 18,
   "id": "5c5e6b15",
   "metadata": {},
   "outputs": [
    {
     "name": "stdout",
     "output_type": "stream",
     "text": [
      "45644===42.54===Hello World!===True\n"
     ]
    }
   ],
   "source": [
    "print(45644, 42.54, \"Hello World!\", True, sep=\"===\")"
   ]
  },
  {
   "cell_type": "code",
   "execution_count": 19,
   "id": "4e070c05",
   "metadata": {},
   "outputs": [
    {
     "name": "stdout",
     "output_type": "stream",
     "text": [
      "45644     42.54     Hello World!     True\n"
     ]
    }
   ],
   "source": [
    "print(45644, 42.54, \"Hello World!\", True, sep=\"     \")"
   ]
  },
  {
   "cell_type": "markdown",
   "id": "d59d2a48",
   "metadata": {},
   "source": [
    "## Escape Sequence"
   ]
  },
  {
   "cell_type": "markdown",
   "id": "e33b733b",
   "metadata": {},
   "source": [
    "it is a special symbols which is read by python interpreator\n",
    "- Example: \\n, \\t,\n",
    "    - \\n ---> Use for New Line\n",
    "    - \\t ---> Use add a TAB Space"
   ]
  },
  {
   "cell_type": "code",
   "execution_count": 20,
   "id": "e09e6704",
   "metadata": {},
   "outputs": [
    {
     "name": "stdout",
     "output_type": "stream",
     "text": [
      "Hy I am Learning python. \n",
      "I am a student of PIAIC.\n"
     ]
    }
   ],
   "source": [
    "print(\"Hy I am Learning python. \\nI am a student of PIAIC.\")"
   ]
  },
  {
   "cell_type": "code",
   "execution_count": 21,
   "id": "bcfebb8d",
   "metadata": {},
   "outputs": [
    {
     "name": "stdout",
     "output_type": "stream",
     "text": [
      "Hy I am Learning python. \tI am a student of PIAIC.\n"
     ]
    }
   ],
   "source": [
    "print(\"Hy I am Learning python. \\tI am a student of PIAIC.\")"
   ]
  },
  {
   "cell_type": "markdown",
   "id": "9fae7498",
   "metadata": {},
   "source": [
    "- \\n is used in python print function to add new line after printing all values. we can change it as end=\"\\n\""
   ]
  },
  {
   "cell_type": "code",
   "execution_count": 22,
   "id": "4daea971",
   "metadata": {},
   "outputs": [
    {
     "name": "stdout",
     "output_type": "stream",
     "text": [
      "Hy I am Learning python.\n",
      "I am a student of PIAIC.\n"
     ]
    }
   ],
   "source": [
    "print(\"Hy I am Learning python.\") \n",
    "print(\"I am a student of PIAIC.\")"
   ]
  },
  {
   "cell_type": "code",
   "execution_count": 24,
   "id": "13a5e9d9",
   "metadata": {},
   "outputs": [
    {
     "name": "stdout",
     "output_type": "stream",
     "text": [
      "Hy I am Learning python. I am a student of PIAIC.\n"
     ]
    }
   ],
   "source": [
    "print(\"Hy I am Learning python.\", end=\" \") \n",
    "print(\"I am a student of PIAIC.\")"
   ]
  },
  {
   "cell_type": "markdown",
   "id": "1263cbf7",
   "metadata": {},
   "source": [
    "## Variables in python"
   ]
  },
  {
   "cell_type": "markdown",
   "id": "416ffb02",
   "metadata": {},
   "source": [
    "- variables can also be known as identifier\n",
    "- A variable is a container in which we store values "
   ]
  },
  {
   "cell_type": "code",
   "execution_count": 1,
   "id": "67c8444e",
   "metadata": {},
   "outputs": [
    {
     "name": "stdout",
     "output_type": "stream",
     "text": [
      "80\n"
     ]
    }
   ],
   "source": [
    "marks = 80\n",
    "print(marks)"
   ]
  },
  {
   "cell_type": "markdown",
   "id": "2fdc91b9",
   "metadata": {},
   "source": [
    "- marks ---> variable name\n",
    "- = ---> assignment operator\n",
    "- 80 ---> is an value of integer type \n",
    "<br>So In the above line of code marks is a variable (or identifier) in which we assign an integer value 80.\n"
   ]
  },
  {
   "cell_type": "code",
   "execution_count": 2,
   "id": "e4952b7a",
   "metadata": {},
   "outputs": [
    {
     "data": {
      "text/plain": [
       "90"
      ]
     },
     "execution_count": 2,
     "metadata": {},
     "output_type": "execute_result"
    }
   ],
   "source": [
    "marks + 10"
   ]
  },
  {
   "cell_type": "code",
   "execution_count": 3,
   "id": "77f1f312",
   "metadata": {},
   "outputs": [
    {
     "data": {
      "text/plain": [
       "60"
      ]
     },
     "execution_count": 3,
     "metadata": {},
     "output_type": "execute_result"
    }
   ],
   "source": [
    "marks - 20"
   ]
  },
  {
   "cell_type": "code",
   "execution_count": 4,
   "id": "22ab8ae8",
   "metadata": {},
   "outputs": [
    {
     "name": "stdout",
     "output_type": "stream",
     "text": [
      "80\n"
     ]
    }
   ],
   "source": [
    "print(marks)"
   ]
  },
  {
   "cell_type": "markdown",
   "id": "4475435a",
   "metadata": {},
   "source": [
    "- In above we add and subtract values to variable it does not overright the original value."
   ]
  },
  {
   "cell_type": "code",
   "execution_count": 5,
   "id": "913f3a15",
   "metadata": {},
   "outputs": [
    {
     "name": "stdout",
     "output_type": "stream",
     "text": [
      "90\n"
     ]
    }
   ],
   "source": [
    "marks = marks + 10\n",
    "print(marks)"
   ]
  },
  {
   "cell_type": "code",
   "execution_count": 6,
   "id": "f25a16e2",
   "metadata": {},
   "outputs": [
    {
     "name": "stdout",
     "output_type": "stream",
     "text": [
      "70\n"
     ]
    }
   ],
   "source": [
    "marks = marks - 20\n",
    "print(marks)"
   ]
  },
  {
   "cell_type": "code",
   "execution_count": 8,
   "id": "87489fa3",
   "metadata": {},
   "outputs": [
    {
     "name": "stdout",
     "output_type": "stream",
     "text": [
      "100\n"
     ]
    }
   ],
   "source": [
    "marks_1 = marks + 30\n",
    "print(marks_1)"
   ]
  },
  {
   "cell_type": "markdown",
   "id": "8c2ada89",
   "metadata": {},
   "source": [
    "- but after assigning again to original variable or any other variable it overright the value."
   ]
  },
  {
   "cell_type": "markdown",
   "id": "f4ab30b0",
   "metadata": {},
   "source": [
    "- for checking address of a variable name we use the id function ----> id()"
   ]
  },
  {
   "cell_type": "code",
   "execution_count": 10,
   "id": "2ecc6622",
   "metadata": {},
   "outputs": [
    {
     "data": {
      "text/plain": [
       "2259606983184"
      ]
     },
     "execution_count": 10,
     "metadata": {},
     "output_type": "execute_result"
    }
   ],
   "source": [
    "id(marks)"
   ]
  },
  {
   "cell_type": "markdown",
   "id": "e5bce1d2",
   "metadata": {},
   "source": [
    "- we can add any type of values in variable like:"
   ]
  },
  {
   "cell_type": "code",
   "execution_count": 12,
   "id": "b0069a19",
   "metadata": {},
   "outputs": [
    {
     "name": "stdout",
     "output_type": "stream",
     "text": [
      "Muhammad Huzaifa 21 3.49 True\n"
     ]
    }
   ],
   "source": [
    "Name = \"Muhammad Huzaifa\"\n",
    "RollNo = 21\n",
    "CGPA = 3.49\n",
    "FeesPaid = True\n",
    "print(Name, RollNo, CGPA, FeesPaid)"
   ]
  },
  {
   "cell_type": "markdown",
   "id": "6ab6a8a5",
   "metadata": {},
   "source": [
    "## Comments in python"
   ]
  },
  {
   "cell_type": "markdown",
   "id": "a3113e8c",
   "metadata": {},
   "source": [
    "- In computer programming, comments are hints that we use to make our code more understandable.\n",
    "-  Comments are completely ignored by the interpreter."
   ]
  },
  {
   "cell_type": "code",
   "execution_count": 14,
   "id": "13507d3f",
   "metadata": {},
   "outputs": [
    {
     "name": "stdout",
     "output_type": "stream",
     "text": [
      "This is output\n"
     ]
    }
   ],
   "source": [
    "# declare and initialize two variables ----> this is a Comment\n",
    "num1 = 6\n",
    "num2 = 9\n",
    "\n",
    "# print the output\n",
    "print('This is output')"
   ]
  },
  {
   "cell_type": "markdown",
   "id": "3fedf3ed",
   "metadata": {},
   "source": [
    "### Types of Comments in Python\n",
    "In Python, there are two types of comments:\n",
    "\n",
    "- single-line comment\n",
    "- multi-line comment"
   ]
  },
  {
   "cell_type": "markdown",
   "id": "bd358bc1",
   "metadata": {},
   "source": [
    "#### Single-line Comment in Python\n",
    "- A single-line comment starts and ends in the same line. \n",
    "- We use the '#' symbol to write a single-line comment."
   ]
  },
  {
   "cell_type": "code",
   "execution_count": 15,
   "id": "4719b0e7",
   "metadata": {},
   "outputs": [
    {
     "name": "stdout",
     "output_type": "stream",
     "text": [
      "Muhammad Huzaifa\n"
     ]
    }
   ],
   "source": [
    "# create a variable\n",
    "name = 'Muhammad Huzaifa'\n",
    "\n",
    "# print the name\n",
    "print(name)"
   ]
  },
  {
   "cell_type": "markdown",
   "id": "8970b056",
   "metadata": {},
   "source": [
    "#### Multi-line Comment in Python\n",
    "- Python doesn't offer a separate way to write multiline comments. However, there are other ways to get around this issue.\n",
    "- we use triple quotes, either single --> ''' or double --> \"\"\"."
   ]
  },
  {
   "cell_type": "code",
   "execution_count": 16,
   "id": "2040eb77",
   "metadata": {},
   "outputs": [
    {
     "name": "stdout",
     "output_type": "stream",
     "text": [
      "Hello World\n"
     ]
    }
   ],
   "source": [
    "''' This is also a\n",
    "perfect example of\n",
    "multi-line comments '''\n",
    "print(\"Hello World\")"
   ]
  },
  {
   "cell_type": "markdown",
   "id": "27ad0f3a",
   "metadata": {},
   "source": [
    "- adding multiple varibales in a single line by using semicolon (;)."
   ]
  },
  {
   "cell_type": "code",
   "execution_count": 7,
   "id": "d257ab0e",
   "metadata": {},
   "outputs": [
    {
     "name": "stdout",
     "output_type": "stream",
     "text": [
      "5 13 46\n"
     ]
    }
   ],
   "source": [
    "# for Example\n",
    "x = 5; y = 13; z = 46\n",
    "print(x,y,z)"
   ]
  },
  {
   "cell_type": "markdown",
   "id": "0f1abce0",
   "metadata": {},
   "source": [
    "- Assigning multiple values to multiple variables with the help of comma (,)."
   ]
  },
  {
   "cell_type": "code",
   "execution_count": 8,
   "id": "a7710108",
   "metadata": {},
   "outputs": [
    {
     "name": "stdout",
     "output_type": "stream",
     "text": [
      "45 2.3 python\n"
     ]
    }
   ],
   "source": [
    "# for Example\n",
    "x , y , z = 45 , 2.3 , \"python\"\n",
    "print(x,y,z)"
   ]
  },
  {
   "cell_type": "markdown",
   "id": "e2000e1f",
   "metadata": {},
   "source": [
    "- Assigning the same value to multiple variables at once"
   ]
  },
  {
   "cell_type": "code",
   "execution_count": 10,
   "id": "d38a2471",
   "metadata": {},
   "outputs": [
    {
     "name": "stdout",
     "output_type": "stream",
     "text": [
      "AI AI\n"
     ]
    }
   ],
   "source": [
    "# for Example\n",
    "PIAIC_Course = Sylani_course = \"AI\"\n",
    "print(PIAIC_Course, Sylani_course)"
   ]
  },
  {
   "cell_type": "markdown",
   "id": "26d7ef45",
   "metadata": {},
   "source": [
    "## Keywords in python\n",
    "- Keywords are predefined, reserved words that have special meanings to the python interperator.\n",
    "- There are 33 Kewords in python programming."
   ]
  },
  {
   "cell_type": "code",
   "execution_count": 2,
   "id": "33dab268",
   "metadata": {},
   "outputs": [
    {
     "name": "stdout",
     "output_type": "stream",
     "text": [
      "['False', 'None', 'True', '__peg_parser__', 'and', 'as', 'assert', 'async', 'await', 'break', 'class', 'continue', 'def', 'del', 'elif', 'else', 'except', 'finally', 'for', 'from', 'global', 'if', 'import', 'in', 'is', 'lambda', 'nonlocal', 'not', 'or', 'pass', 'raise', 'return', 'try', 'while', 'with', 'yield']\n"
     ]
    }
   ],
   "source": [
    "# here is the list of keywords use in python\n",
    "import keyword\n",
    "print(keyword.kwlist)"
   ]
  },
  {
   "cell_type": "markdown",
   "id": "84a4927d",
   "metadata": {},
   "source": [
    "## Variable Naming Conventions"
   ]
  },
  {
   "cell_type": "markdown",
   "id": "429c7fc2",
   "metadata": {},
   "source": [
    "- Create a logical variable name that makes sense. \n",
    "    - For example, instead of using v as a variable name we can use vowel that makes more sense than v.\n"
   ]
  },
  {
   "cell_type": "markdown",
   "id": "778325db",
   "metadata": {},
   "source": [
    "- If you want to create a variable name having two words, use underscore (_) to separate them. \n",
    "    - For example: teacher_name, father_name"
   ]
  },
  {
   "cell_type": "markdown",
   "id": "cf5223eb",
   "metadata": {},
   "source": [
    "- we can not use any special character except underscore(_) as a variable name."
   ]
  },
  {
   "cell_type": "code",
   "execution_count": 5,
   "id": "19c65453",
   "metadata": {},
   "outputs": [
    {
     "ename": "SyntaxError",
     "evalue": "invalid syntax (4057386970.py, line 1)",
     "output_type": "error",
     "traceback": [
      "\u001b[1;36m  Input \u001b[1;32mIn [5]\u001b[1;36m\u001b[0m\n\u001b[1;33m    @students = 25\u001b[0m\n\u001b[1;37m              ^\u001b[0m\n\u001b[1;31mSyntaxError\u001b[0m\u001b[1;31m:\u001b[0m invalid syntax\n"
     ]
    }
   ],
   "source": [
    "@students = 25\n",
    "Price$ = 30\n",
    "print(@students)\n",
    "print(Price$)"
   ]
  },
  {
   "cell_type": "markdown",
   "id": "629a3aca",
   "metadata": {},
   "source": [
    "- we can not use keywords as a variable name. like class, return, for, True etc."
   ]
  },
  {
   "cell_type": "code",
   "execution_count": 4,
   "id": "7204911b",
   "metadata": {},
   "outputs": [
    {
     "ename": "SyntaxError",
     "evalue": "invalid syntax (1551882446.py, line 1)",
     "output_type": "error",
     "traceback": [
      "\u001b[1;36m  Input \u001b[1;32mIn [4]\u001b[1;36m\u001b[0m\n\u001b[1;33m    class = 10\u001b[0m\n\u001b[1;37m          ^\u001b[0m\n\u001b[1;31mSyntaxError\u001b[0m\u001b[1;31m:\u001b[0m invalid syntax\n"
     ]
    }
   ],
   "source": [
    "class = 10\n",
    "print(class)"
   ]
  },
  {
   "cell_type": "markdown",
   "id": "6735678b",
   "metadata": {},
   "source": [
    "- python is case-sensitive language. So name and Name are two different variables. "
   ]
  },
  {
   "cell_type": "code",
   "execution_count": 3,
   "id": "69de7923",
   "metadata": {},
   "outputs": [
    {
     "name": "stdout",
     "output_type": "stream",
     "text": [
      "Muhammad Huzaifa\n",
      "Mohsin Raza\n"
     ]
    }
   ],
   "source": [
    "# for example:\n",
    "name = \"Muhammad Huzaifa\"\n",
    "Name = \"Mohsin Raza\"\n",
    "print(name)\n",
    "print(Name) "
   ]
  },
  {
   "cell_type": "markdown",
   "id": "217a7b8e",
   "metadata": {},
   "source": [
    "## Operators in python\n",
    "- Operators are special symbols that perform operations on variables and values."
   ]
  },
  {
   "cell_type": "code",
   "execution_count": 12,
   "id": "9a95a577",
   "metadata": {},
   "outputs": [
    {
     "name": "stdout",
     "output_type": "stream",
     "text": [
      "9\n"
     ]
    }
   ],
   "source": [
    "# for Example \n",
    "print(4 + 5)\n",
    "\n",
    "# 4 , 5 ---> operands\n",
    "# + ----> addition opeartor "
   ]
  },
  {
   "cell_type": "markdown",
   "id": "764dfc4a",
   "metadata": {},
   "source": [
    "## Types of Python Operators\n",
    "\n",
    "1. Arithmetic operators\n",
    "2. Assignment Operators\n",
    "3. Comparison Operators\n",
    "4. Logical Operators\n",
    "5. Membership operators"
   ]
  },
  {
   "cell_type": "markdown",
   "id": "07c2c7ad",
   "metadata": {},
   "source": [
    "### 1. Arithmetic Operators\n",
    "-  (+)\t         Addition\n",
    "-  (+)           Concatination\n",
    "-  (-)\t         Subtraction\n",
    "-  (*)\t         Multiplication\n",
    "-  (/)\t         Float Division \n",
    "-  (//)\t         Integer Division\n",
    "-  (%)           Modulo\n",
    "-  (**)\t         Power"
   ]
  },
  {
   "cell_type": "code",
   "execution_count": 13,
   "id": "6c11a5a4",
   "metadata": {},
   "outputs": [
    {
     "data": {
      "text/plain": [
       "20"
      ]
     },
     "execution_count": 13,
     "metadata": {},
     "output_type": "execute_result"
    }
   ],
   "source": [
    "# (+) Addition\n",
    "4 + 16"
   ]
  },
  {
   "cell_type": "code",
   "execution_count": 14,
   "id": "97c16900",
   "metadata": {},
   "outputs": [
    {
     "data": {
      "text/plain": [
       "'MuhammadHuzaifa'"
      ]
     },
     "execution_count": 14,
     "metadata": {},
     "output_type": "execute_result"
    }
   ],
   "source": [
    "# (+) Concatination\n",
    "\"Muhammad\" + \"Huzaifa\""
   ]
  },
  {
   "cell_type": "code",
   "execution_count": 15,
   "id": "f404bd97",
   "metadata": {},
   "outputs": [
    {
     "data": {
      "text/plain": [
       "4"
      ]
     },
     "execution_count": 15,
     "metadata": {},
     "output_type": "execute_result"
    }
   ],
   "source": [
    "# (-) Subtraction\n",
    "14 - 10"
   ]
  },
  {
   "cell_type": "code",
   "execution_count": 16,
   "id": "0248ec2c",
   "metadata": {},
   "outputs": [
    {
     "data": {
      "text/plain": [
       "160"
      ]
     },
     "execution_count": 16,
     "metadata": {},
     "output_type": "execute_result"
    }
   ],
   "source": [
    "# (*) Multiplication\n",
    "16 * 10"
   ]
  },
  {
   "cell_type": "code",
   "execution_count": 17,
   "id": "0882c5d0",
   "metadata": {},
   "outputs": [
    {
     "data": {
      "text/plain": [
       "3.3333333333333335"
      ]
     },
     "execution_count": 17,
     "metadata": {},
     "output_type": "execute_result"
    }
   ],
   "source": [
    "# (/) Float Division\n",
    "10 / 3"
   ]
  },
  {
   "cell_type": "code",
   "execution_count": 19,
   "id": "dfeb4101",
   "metadata": {},
   "outputs": [
    {
     "data": {
      "text/plain": [
       "3"
      ]
     },
     "execution_count": 19,
     "metadata": {},
     "output_type": "execute_result"
    }
   ],
   "source": [
    "# (//) Integer Division\n",
    "10 // 3"
   ]
  },
  {
   "cell_type": "code",
   "execution_count": 20,
   "id": "557ec2fe",
   "metadata": {},
   "outputs": [
    {
     "data": {
      "text/plain": [
       "3"
      ]
     },
     "execution_count": 20,
     "metadata": {},
     "output_type": "execute_result"
    }
   ],
   "source": [
    "# (%) Modulo\n",
    "15 % 4"
   ]
  },
  {
   "cell_type": "code",
   "execution_count": 21,
   "id": "5264673f",
   "metadata": {},
   "outputs": [
    {
     "data": {
      "text/plain": [
       "8"
      ]
     },
     "execution_count": 21,
     "metadata": {},
     "output_type": "execute_result"
    }
   ],
   "source": [
    "# (**) Power\n",
    "2 ** 3"
   ]
  },
  {
   "cell_type": "markdown",
   "id": "ce4e6518",
   "metadata": {},
   "source": [
    "### 2. Assignment Operators\n",
    "- Assignment operators are used to assign values to variables.\n",
    "    - =\t    Assignment Operator\n",
    "    - +=\tAddition Assignment\n",
    "    - -=\tSubtraction Assignment\n",
    "    - *=\tMultiplication Assignment\n",
    "    - /=\tDivision Assignment"
   ]
  },
  {
   "cell_type": "code",
   "execution_count": 22,
   "id": "d8421a6a",
   "metadata": {},
   "outputs": [
    {
     "name": "stdout",
     "output_type": "stream",
     "text": [
      "3\n"
     ]
    }
   ],
   "source": [
    "# = Assignment Operator\n",
    "i = 3\n",
    "print(i)"
   ]
  },
  {
   "cell_type": "code",
   "execution_count": 25,
   "id": "b52b8d81",
   "metadata": {},
   "outputs": [
    {
     "name": "stdout",
     "output_type": "stream",
     "text": [
      "6\n"
     ]
    }
   ],
   "source": [
    "# += Addition Assignment\n",
    "i = 3\n",
    "i += 3   # i = i + 3\n",
    "print(i)"
   ]
  },
  {
   "cell_type": "code",
   "execution_count": 26,
   "id": "09e35bb9",
   "metadata": {},
   "outputs": [
    {
     "name": "stdout",
     "output_type": "stream",
     "text": [
      "0\n"
     ]
    }
   ],
   "source": [
    "# -= Subtraction Assignment\n",
    "i = 3\n",
    "i -= 3   # i = i - 3\n",
    "print(i)"
   ]
  },
  {
   "cell_type": "code",
   "execution_count": 27,
   "id": "60e7b767",
   "metadata": {},
   "outputs": [
    {
     "name": "stdout",
     "output_type": "stream",
     "text": [
      "9\n"
     ]
    }
   ],
   "source": [
    "# *= multiplication Assignment\n",
    "i = 3\n",
    "i *= 3   # i = i * 3\n",
    "print(i)"
   ]
  },
  {
   "cell_type": "code",
   "execution_count": 28,
   "id": "138ab1d9",
   "metadata": {},
   "outputs": [
    {
     "name": "stdout",
     "output_type": "stream",
     "text": [
      "1.0\n"
     ]
    }
   ],
   "source": [
    "# /= Division Assignment\n",
    "i = 3\n",
    "i /= 3   # i = i / 3\n",
    "print(i)"
   ]
  },
  {
   "cell_type": "markdown",
   "id": "2a467c54",
   "metadata": {},
   "source": [
    "### 3. Comparision Operator\n",
    "- Comparison operators compare two values/variables and return a boolean result: True or False.\n",
    "    - (==)    Equal To\n",
    "    - (!=)    Not Equal To\n",
    "    - (>)     Greater Than\n",
    "    - (<)     Less Than\n",
    "    - (>=)    Greater Than or Equal To\n",
    "    - (<=)    Less Than or Equal To"
   ]
  },
  {
   "cell_type": "code",
   "execution_count": 29,
   "id": "70ee55b2",
   "metadata": {},
   "outputs": [
    {
     "data": {
      "text/plain": [
       "False"
      ]
     },
     "execution_count": 29,
     "metadata": {},
     "output_type": "execute_result"
    }
   ],
   "source": [
    "# (==) Equal To\n",
    "4 == 5"
   ]
  },
  {
   "cell_type": "code",
   "execution_count": 30,
   "id": "51382ae6",
   "metadata": {},
   "outputs": [
    {
     "data": {
      "text/plain": [
       "True"
      ]
     },
     "execution_count": 30,
     "metadata": {},
     "output_type": "execute_result"
    }
   ],
   "source": [
    "# (!=) Not Equal To\n",
    "4 != 5"
   ]
  },
  {
   "cell_type": "code",
   "execution_count": 31,
   "id": "07e2afe0",
   "metadata": {},
   "outputs": [
    {
     "data": {
      "text/plain": [
       "True"
      ]
     },
     "execution_count": 31,
     "metadata": {},
     "output_type": "execute_result"
    }
   ],
   "source": [
    "# (>) Greater Than\n",
    "4 > 3"
   ]
  },
  {
   "cell_type": "code",
   "execution_count": 32,
   "id": "4177bf6f",
   "metadata": {},
   "outputs": [
    {
     "data": {
      "text/plain": [
       "False"
      ]
     },
     "execution_count": 32,
     "metadata": {},
     "output_type": "execute_result"
    }
   ],
   "source": [
    "# (<) Less Than\n",
    "5 < 3"
   ]
  },
  {
   "cell_type": "code",
   "execution_count": 33,
   "id": "b6a1bfbc",
   "metadata": {},
   "outputs": [
    {
     "data": {
      "text/plain": [
       "False"
      ]
     },
     "execution_count": 33,
     "metadata": {},
     "output_type": "execute_result"
    }
   ],
   "source": [
    "# (>=) Greater Than or Equal To\n",
    "10 >= 20"
   ]
  },
  {
   "cell_type": "code",
   "execution_count": 34,
   "id": "ae69112c",
   "metadata": {},
   "outputs": [
    {
     "data": {
      "text/plain": [
       "True"
      ]
     },
     "execution_count": 34,
     "metadata": {},
     "output_type": "execute_result"
    }
   ],
   "source": [
    "# (<=) Less Than or Equal To\n",
    "10 <= 20"
   ]
  },
  {
   "cell_type": "markdown",
   "id": "5276c54b",
   "metadata": {},
   "source": [
    "### 4. Logical Operators\n",
    "- Logical opeartors are use to comare two condtion and give result in boolean values. True or False\n",
    "    - and\t\n",
    "    - or\n",
    "    - not"
   ]
  },
  {
   "cell_type": "markdown",
   "id": "dccb0dd8",
   "metadata": {},
   "source": [
    "res1    res2        and              or \n",
    "\n",
    "True     True       True             True\n",
    "True     False      False            True   \n",
    "False    True       False            True\n",
    "False    False      False            False"
   ]
  },
  {
   "cell_type": "code",
   "execution_count": 40,
   "id": "b85a7269",
   "metadata": {},
   "outputs": [
    {
     "data": {
      "text/plain": [
       "True"
      ]
     },
     "execution_count": 40,
     "metadata": {},
     "output_type": "execute_result"
    }
   ],
   "source": [
    "x = 100\n",
    "y = 200\n",
    "\n",
    "x < y and y > x\n",
    "# True    True  = True"
   ]
  },
  {
   "cell_type": "code",
   "execution_count": 37,
   "id": "0de7193b",
   "metadata": {},
   "outputs": [
    {
     "data": {
      "text/plain": [
       "False"
      ]
     },
     "execution_count": 37,
     "metadata": {},
     "output_type": "execute_result"
    }
   ],
   "source": [
    "x < y and y == x\n",
    "# True    False  = False"
   ]
  },
  {
   "cell_type": "code",
   "execution_count": 38,
   "id": "0da35184",
   "metadata": {},
   "outputs": [
    {
     "data": {
      "text/plain": [
       "False"
      ]
     },
     "execution_count": 38,
     "metadata": {},
     "output_type": "execute_result"
    }
   ],
   "source": [
    "x == y and y > x\n",
    "# False    True  = False"
   ]
  },
  {
   "cell_type": "code",
   "execution_count": 39,
   "id": "8c9634f1",
   "metadata": {},
   "outputs": [
    {
     "data": {
      "text/plain": [
       "False"
      ]
     },
     "execution_count": 39,
     "metadata": {},
     "output_type": "execute_result"
    }
   ],
   "source": [
    "x == y and y < x\n",
    "# False    Flase  = False"
   ]
  },
  {
   "cell_type": "code",
   "execution_count": 41,
   "id": "ddec8158",
   "metadata": {},
   "outputs": [
    {
     "data": {
      "text/plain": [
       "True"
      ]
     },
     "execution_count": 41,
     "metadata": {},
     "output_type": "execute_result"
    }
   ],
   "source": [
    "100>200 or 200 >100"
   ]
  },
  {
   "cell_type": "code",
   "execution_count": 44,
   "id": "46cb9db8",
   "metadata": {},
   "outputs": [
    {
     "data": {
      "text/plain": [
       "True"
      ]
     },
     "execution_count": 44,
     "metadata": {},
     "output_type": "execute_result"
    }
   ],
   "source": [
    "not 100>200"
   ]
  },
  {
   "cell_type": "markdown",
   "id": "01744e14",
   "metadata": {},
   "source": [
    "### 5. Membership operators\n",
    "- They are used to test whether a value is found in a sequence (string, list, tuple, set and dictionary)\n",
    "    - in --------> True if value is found in the sequence otherwise False\t\n",
    "    - not in ----> True if value is not found in the sequence otherwise False"
   ]
  },
  {
   "cell_type": "code",
   "execution_count": 5,
   "id": "9adaca93",
   "metadata": {},
   "outputs": [
    {
     "name": "stdout",
     "output_type": "stream",
     "text": [
      "True\n",
      "True\n"
     ]
    }
   ],
   "source": [
    "# in operator for string\n",
    "y = \"Pakistan Zindabad\"\n",
    "print(\"P\" in y)\n",
    "\n",
    "# in for list\n",
    "z = [45, 56, 65]\n",
    "print(45 in z)"
   ]
  },
  {
   "cell_type": "code",
   "execution_count": 6,
   "id": "220aefaa",
   "metadata": {},
   "outputs": [
    {
     "name": "stdout",
     "output_type": "stream",
     "text": [
      "False\n",
      "True\n"
     ]
    }
   ],
   "source": [
    "# not in operator\n",
    "y = \"Pakistan Zindabad\"\n",
    "print(\"P\" not in y)\n",
    "\n",
    "# not in for list\n",
    "z = [45, 56, 65]\n",
    "print(75 not in z)"
   ]
  }
 ],
 "metadata": {
  "kernelspec": {
   "display_name": "Python 3 (ipykernel)",
   "language": "python",
   "name": "python3"
  },
  "language_info": {
   "codemirror_mode": {
    "name": "ipython",
    "version": 3
   },
   "file_extension": ".py",
   "mimetype": "text/x-python",
   "name": "python",
   "nbconvert_exporter": "python",
   "pygments_lexer": "ipython3",
   "version": "3.12.4"
  },
  "widgets": {
   "application/vnd.jupyter.widget-state+json": {
    "state": {},
    "version_major": 2,
    "version_minor": 0
   }
  }
 },
 "nbformat": 4,
 "nbformat_minor": 5
}
